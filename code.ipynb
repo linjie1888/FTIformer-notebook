{
 "cells": [
  {
   "cell_type": "code",
   "execution_count": 1,
   "id": "18634d83",
   "metadata": {},
   "outputs": [],
   "source": [
    "import torch\n",
    "from torch.utils.data import Dataset, DataLoader\n",
    "import pandas as pd\n",
    "from sklearn.model_selection import train_test_split\n",
    "import numpy as np\n",
    "from sklearn.model_selection import train_test_split\n",
    "from torch.utils.data import DataLoader, TensorDataset\n",
    "import warnings\n",
    "warnings.filterwarnings('ignore')\n",
    "import torch.optim as optim \n",
    "from sklearn.metrics import accuracy_score, precision_score, recall_score, precision_recall_curve, f1_score\n",
    "import torch.nn as nn\n",
    "import torch.nn.functional as F\n",
    "import torch.optim as optim\n",
    "from tqdm import tqdm\n",
    "from sklearn.preprocessing import MinMaxScaler, StandardScaler\n",
    "import math\n",
    "import matplotlib.pyplot as plt\n",
    "from sklearn.model_selection import StratifiedShuffleSplit\n",
    "import zipfile"
   ]
  },
  {
   "cell_type": "code",
   "execution_count": 2,
   "id": "c7b11ecb",
   "metadata": {},
   "outputs": [],
   "source": [
    "def load_data(csv_path, batch_size=32, test_size=0.1, val_size=0.111111, device=torch.device('cpu')):\n",
    "    \"\"\"\n",
    "    加载数据集并划分为训练集、验证集和测试集。\n",
    "    Args:\n",
    "        csv_path (str): CSV 文件路径。\n",
    "        batch_size (int): 批量大小。\n",
    "        test_size (float): 测试集占总数据的比例。\n",
    "        val_size (float): 验证集占剩余训练数据的比例。\n",
    "        device (torch.device): 数据加载的目标设备。\n",
    "    Returns:\n",
    "        train_loader, val_loader, test_loader: 数据加载器。\n",
    "    \"\"\"\n",
    "    # 创建ZIP文件对象  \n",
    "#     with zipfile.ZipFile('./data/public_data.zip', 'r') as zip_ref:  \n",
    "#     # 获取ZIP文件中的所有文件名  \n",
    "#         with zip_ref.open('public_data.npy') as file:  \n",
    "#             # 使用NumPy的load函数读取npy文件内容  \n",
    "#             data = np.load(file)  \n",
    "    # 读取CSV文件\n",
    "    data = pd.read_csv(csv_path)\n",
    "    print('正在读取数据')\n",
    "    print(f'数据shape：{data.shape}')\n",
    "    # 假设输入特征为除最后3列以外的所有列，标签为最后3列\n",
    "    data = pd.DataFrame(data)\n",
    "    features = data.iloc[:, :-3].values\n",
    "    labels = data.iloc[:, -3:].values\n",
    "\n",
    "    # 对输入特征进行归一化处理\n",
    "    scaler = MinMaxScaler()\n",
    "    features = scaler.fit_transform(features)\n",
    "\n",
    "    # 将最后3列的标签组合成唯一类别索引，用于分层划分\n",
    "    combined_labels = labels.dot(1 << np.arange(labels.shape[-1]))\n",
    "\n",
    "    # 分层划分测试集\n",
    "    stratified_split = StratifiedShuffleSplit(n_splits=1, test_size=test_size, random_state=0)\n",
    "    train_val_idx, test_idx = next(stratified_split.split(features, combined_labels))\n",
    "    X_train_val, X_test = features[train_val_idx], features[test_idx]\n",
    "    y_train_val, y_test = labels[train_val_idx], labels[test_idx]\n",
    "    combined_train_val_labels = combined_labels[train_val_idx]\n",
    "\n",
    "    # 分层划分验证集\n",
    "    stratified_split_val = StratifiedShuffleSplit(n_splits=1, test_size=val_size, random_state=0)\n",
    "    train_idx, val_idx = next(stratified_split_val.split(X_train_val, combined_train_val_labels))\n",
    "    X_train, X_val = X_train_val[train_idx], X_train_val[val_idx]\n",
    "    y_train, y_val = y_train_val[train_idx], y_train_val[val_idx]\n",
    "\n",
    "    # 转换为PyTorch张量\n",
    "    X_train = torch.tensor(X_train, dtype=torch.float32).to(device)\n",
    "    y_train = torch.tensor(y_train, dtype=torch.float32).to(device)\n",
    "    X_val = torch.tensor(X_val, dtype=torch.float32).to(device)\n",
    "    y_val = torch.tensor(y_val, dtype=torch.float32).to(device)\n",
    "    X_test = torch.tensor(X_test, dtype=torch.float32).to(device)\n",
    "    y_test = torch.tensor(y_test, dtype=torch.float32).to(device)\n",
    "\n",
    "    # 创建训练集、验证集和测试集的DataLoader\n",
    "    train_dataset = TensorDataset(X_train, y_train)\n",
    "    val_dataset = TensorDataset(X_val, y_val)\n",
    "    test_dataset = TensorDataset(X_test, y_test)\n",
    "\n",
    "    train_loader = DataLoader(train_dataset, batch_size=batch_size, shuffle=True)\n",
    "    val_loader = DataLoader(val_dataset, batch_size=batch_size, shuffle=False)\n",
    "    test_loader = DataLoader(test_dataset, batch_size=batch_size, shuffle=False)\n",
    "\n",
    "    return train_loader, val_loader, test_loader"
   ]
  },
  {
   "cell_type": "code",
   "execution_count": 3,
   "id": "ffaf6554",
   "metadata": {},
   "outputs": [],
   "source": [
    "class Mlp(nn.Module):\n",
    "    def __init__(self, in_features, hidden_features=None, out_features=None, act_layer=nn.GELU, drop=0.):\n",
    "        super().__init__()\n",
    "        out_features = out_features or in_features\n",
    "        hidden_features = hidden_features or in_features\n",
    "        self.fc1 = nn.Linear(in_features, hidden_features)\n",
    "        self.act = act_layer()\n",
    "        self.fc2 = nn.Linear(hidden_features, out_features)\n",
    "        self.drop = nn.Dropout(drop)\n",
    "\n",
    "    def forward(self, x):\n",
    "        x = self.fc1(x)\n",
    "        x = self.act(x)\n",
    "        x = self.drop(x)\n",
    "        x = self.fc2(x)\n",
    "        x = self.drop(x)\n",
    "        return x\n",
    "\n",
    "    \n",
    "    \n",
    "class SpectralGatingNetwork(nn.Module):\n",
    "    def __init__(self, input_dim):\n",
    "        super().__init__()\n",
    "        self.complex_weight = nn.Parameter(torch.randn(input_dim, 2, dtype=torch.float32))\n",
    "\n",
    "    def forward(self, x):\n",
    "        x = x.to(torch.float32)\n",
    "        \n",
    "        x = torch.fft.fft(x, dim=-1, norm='ortho')\n",
    "        weight = torch.view_as_complex(self.complex_weight)\n",
    "        x = x * weight\n",
    "        x = torch.fft.ifft(x, dim=-1, norm='ortho')\n",
    "        return x\n",
    "\n",
    "    \n",
    "class Block(nn.Module):\n",
    "\n",
    "    def __init__(self, dim, drop=0.2, act_layer=nn.GELU, norm_layer=nn.LayerNorm):\n",
    "        super().__init__()\n",
    "        self.norm1 = norm_layer(dim)\n",
    "        self.filter1 = SpectralGatingNetwork(dim)\n",
    "        self.filter2 = SpectralGatingNetwork(dim)\n",
    "        self.norm2 = norm_layer(dim)\n",
    "        self.norm2_1 = norm_layer(dim)\n",
    "        self.mlp = Mlp(in_features=dim, hidden_features=dim, act_layer=act_layer, drop=drop)\n",
    "\n",
    "    def forward(self, x):\n",
    "\n",
    "        x1 = self.mlp(self.norm2(self.filter1(self.norm1(x)).real))\n",
    "        x2 = self.mlp(self.norm2_1(self.filter1(self.norm1(x)).imag))\n",
    "    \n",
    "        return x1, x2\n",
    "    \n",
    "class PositionalEncoding(nn.Module):\n",
    "    def __init__(self, d_model, max_len=5000):\n",
    "        super(PositionalEncoding, self).__init__()\n",
    "        pe = torch.zeros(max_len, d_model)\n",
    "        position = torch.arange(0, max_len, dtype=torch.float).unsqueeze(1)\n",
    "        div_term = torch.exp(torch.arange(0, d_model, 2).float() * (-math.log(10000.0) / d_model))\n",
    "        pe[:, 0::2] = torch.sin(position * div_term)\n",
    "        pe[:, 1::2] = torch.cos(position * div_term)\n",
    "        pe = pe.unsqueeze(0).transpose(0, 1)\n",
    "        self.register_buffer('pe', pe)\n",
    "\n",
    "    def forward(self, x):\n",
    "        x = x + self.pe[:x.size(0), :]\n",
    "        return x"
   ]
  },
  {
   "cell_type": "code",
   "execution_count": 4,
   "id": "6030ed2d",
   "metadata": {},
   "outputs": [
    {
     "name": "stdout",
     "output_type": "stream",
     "text": [
      "输入数据形状: torch.Size([32, 2050])\n",
      "嵌入后的数据形状: torch.Size([32, 20, 256])\n"
     ]
    }
   ],
   "source": [
    "class SlidingWindowEmbedding(nn.Module):\n",
    "    def __init__(self, input_dim, embed_dim, window_size, stride):\n",
    "        \"\"\"\n",
    "        使用滑窗对时序数据进行嵌入。\n",
    "        Args:\n",
    "            input_dim (int): 每个采样点的输入维度（对于单通道数据为1）。\n",
    "            embed_dim (int): 线性层输出的特征维度（Transformer的输入维度）。\n",
    "            window_size (int): 滑窗大小。\n",
    "            stride (int): 滑窗步长。\n",
    "        \"\"\"\n",
    "        super(SlidingWindowEmbedding, self).__init__()\n",
    "        self.feq = Block(dim=embed_dim)\n",
    "        self.feq2 = Block(dim=embed_dim)\n",
    "#         self.feq3 = Block(dim=embed_dim)\n",
    "#         self.feq4 = Block(dim=embed_dim)\n",
    "        self.window_size = window_size\n",
    "        self.stride = stride\n",
    "        self.input_dim = input_dim\n",
    "        self.linear = nn.Linear(input_dim * window_size, embed_dim)\n",
    "#         self.conv1 = nn.Conv1d(in_channels=1, out_channels=16, kernel_size=3, padding=1)\n",
    "#         self.conv2 = nn.Conv1d(16, 32, kernel_size=3, padding=1)\n",
    "        self.linear_com = nn.Linear(4*embed_dim, embed_dim)\n",
    "\n",
    "    def forward(self, x):\n",
    "        \"\"\"\n",
    "        Args:\n",
    "            x (Tensor): 输入数据，形状为 [B, T]\n",
    "        Returns:\n",
    "            Tensor: 嵌入后的数据，形状为 [B, 滑窗数量, embed_dim]\n",
    "        \"\"\"\n",
    "#         B, T = x.shape  # 批量大小和时序长度\n",
    "\n",
    "        # 确保输入维度适配线性层\n",
    "        if len(x.shape) == 2:\n",
    "            x = x.unsqueeze(1)  # 添加一个通道维度变为 [B, 1, T]\n",
    " \n",
    "        # 提取滑窗，通过 unfold 实现滑窗提取\n",
    "        x_unfold = F.unfold(x.unsqueeze(1), kernel_size=(self.input_dim, self.window_size), stride=(self.input_dim, self.stride))\n",
    "        x_unfold = x_unfold.permute(0, 2, 1)  # 转为 [B, 滑窗数量, window_size]\n",
    "        \n",
    "#         x = F.relu(self.conv1(x))\n",
    "#         x = F.relu(self.conv2(x))\n",
    "        # 线性层嵌入映射\n",
    "        x_embedded = self.linear(x_unfold)\n",
    "        \n",
    "\n",
    "        x_real = []\n",
    "        x_imag = []\n",
    "        x_real2 = []\n",
    "        x_imag2 = []\n",
    "#         x_real3 = []\n",
    "#         x_imag3 = []\n",
    "#         x_real4= []\n",
    "#         x_imag4= []\n",
    "        for i in range(x_embedded.shape[1]):\n",
    "            temp1, temp2 = self.feq(x_embedded[:,i,:])\n",
    "            x_real.append(temp1)\n",
    "            x_imag.append(temp2)\n",
    "            \n",
    "            temp1, temp2 = self.feq2(x_embedded[:,i,:])\n",
    "            x_real2.append(temp1)\n",
    "            x_imag2.append(temp2)\n",
    "            \n",
    "\n",
    "            \n",
    "        x_real = torch.stack(x_real, dim=1)\n",
    "        x_imag = torch.stack(x_imag, dim=1)\n",
    "\n",
    "        x_real2 = torch.stack(x_real2, dim=1)\n",
    "        x_imag2 = torch.stack(x_imag2, dim=1)\n",
    "\n",
    "\n",
    "        x_com = torch.cat((x_real,x_imag, x_real2, x_imag2 ), dim=-1)\n",
    "        x_com = self.linear_com(x_com)\n",
    "        \n",
    "        x_embedded = x_embedded + x_com\n",
    "        return x_embedded\n",
    "\n",
    "\n",
    "# 参数定义\n",
    "batch_size = 32\n",
    "time_steps = 2050\n",
    "input_dim = 1  # 单通道时序数据\n",
    "embed_dim = 256  # 线性层输出维度\n",
    "window_size = 100\n",
    "stride = 100\n",
    "\n",
    "# 创建示例输入\n",
    "input_data = torch.randn(batch_size, time_steps)  # [B, T]\n",
    "\n",
    "# 模型实例化\n",
    "model = SlidingWindowEmbedding(input_dim=input_dim, embed_dim=embed_dim,\n",
    "                                window_size=window_size, stride=stride)\n",
    "\n",
    "# 前向传播\n",
    "output = model(input_data)\n",
    "\n",
    "print(\"输入数据形状:\", input_data.shape)  # [B, T]\n",
    "print(\"嵌入后的数据形状:\", output.shape)  # [B, 滑窗数量, embed_dim]"
   ]
  },
  {
   "cell_type": "code",
   "execution_count": 5,
   "id": "7ae645eb",
   "metadata": {},
   "outputs": [],
   "source": [
    "def micro_false_alarm_rate(y_true, y_pred):\n",
    "    \"\"\"\n",
    "    Computes the micro-averaged False Alarm Rate (NAR) for multi-label classification.\n",
    "\n",
    "    Args:\n",
    "        y_true (np.ndarray): Ground truth binary labels, shape (n_samples, n_labels)\n",
    "        y_pred (np.ndarray): Predicted binary labels, shape (n_samples, n_labels)\n",
    "\n",
    "    Returns:\n",
    "        float: Micro-averaged false alarm rate (NAR)\n",
    "    \"\"\"\n",
    "    false_positives = np.logical_and(y_pred == 1, y_true == 0).sum()\n",
    "    true_negatives_total = (y_true == 0).sum()\n",
    "    \n",
    "    if true_negatives_total == 0:\n",
    "        return 0.0  # Avoid division by zero\n",
    "\n",
    "    nar = false_positives / true_negatives_total\n",
    "    return nar"
   ]
  },
  {
   "cell_type": "code",
   "execution_count": 6,
   "id": "e556b735",
   "metadata": {},
   "outputs": [],
   "source": [
    "# Transformer 模型\n",
    "class TransformerMultiLabel(nn.Module):\n",
    "    def __init__(self, input_dim, embedding_dim, window_size, stride, num_heads, num_classes, nlayer,dropout=0.2): # 特征维度(样本大小)，每个特征的维度，transformer维度\n",
    "        super(TransformerMultiLabel, self).__init__()\n",
    "        \n",
    "        self.time_emb = SlidingWindowEmbedding(input_dim=input_dim, embed_dim=embedding_dim,\n",
    "                                    window_size=window_size, stride=stride)\n",
    "        \n",
    "        self.time_encoder = nn.TransformerEncoder(\n",
    "            nn.TransformerEncoderLayer(d_model=embedding_dim , nhead=num_heads, dropout=dropout,batch_first=True),\n",
    "            num_layers=nlayer\n",
    "        )  # Transforvmer编码器\n",
    "\n",
    "\n",
    "        \n",
    "        self.positional_encoding = PositionalEncoding(embedding_dim)\n",
    "        self.output_dim = embedding_dim  # Transformer编码器输出的维度\n",
    "        \n",
    "        self.output_layers1 = nn.ModuleList([nn.Linear(self.output_dim, self.output_dim) for _ in range(num_classes)])  # 每个事件对应一个输出层\n",
    "        self.output_layers2 = nn.ModuleList([nn.Linear(self.output_dim, 1) for _ in range(num_classes)])  # 每个事件对应一个输出层\n",
    "\n",
    "        self.sigmoid = nn.Sigmoid()  # Sigmoid激活函数\n",
    "                # ====== 参数初始化 ======\n",
    "        self._init_weights()\n",
    "\n",
    "    def _init_weights(self):\n",
    "        \"\"\"\n",
    "        初始化权重，确保训练稳定和加速收敛\n",
    "        \"\"\"\n",
    "        for m in self.modules():\n",
    "            if isinstance(m, nn.Linear):\n",
    "                # Xavier 均匀初始化（适合Sigmoid、Tanh等非ReLU激活）\n",
    "                nn.init.xavier_uniform_(m.weight)\n",
    "                if m.bias is not None:\n",
    "                    nn.init.constant_(m.bias, 0.0)\n",
    "\n",
    "            elif isinstance(m, nn.LayerNorm):\n",
    "                nn.init.constant_(m.bias, 0.0)\n",
    "                nn.init.constant_(m.weight, 1.0)\n",
    "\n",
    "            elif isinstance(m, nn.Embedding):\n",
    "                nn.init.normal_(m.weight, mean=0.0, std=0.02)\n",
    "\n",
    "    def forward(self, x):\n",
    "        \"\"\"\n",
    "        :param x: 输入数据，形状为 [B, N]，B为批量大小，N为特征数\n",
    "        :return: 多标签分类结果，形状为 [B, num_classes]，每个值表示事件发生的概率\n",
    "        \"\"\"\n",
    "        time = self.time_emb(x)\n",
    "    \n",
    "        time = self.positional_encoding(time)\n",
    "\n",
    "        time = self.time_encoder(time)  # 通过Transformer编码器 [B, time_seq, 256]\n",
    "\n",
    "#         time = time.mean(axis=1)\n",
    "        \n",
    "        \n",
    "        for i in range(len(self.output_layers1)):\n",
    "            globals()[f'output_{i}'] = []\n",
    "        \n",
    "        outputs = []\n",
    "        Hids = []\n",
    "        \n",
    "        for i in range(len(self.output_layers1)):\n",
    "            \n",
    "            # nn.BCELoss（二元交叉熵损失）要求目标标签 (labels) 在 [0, 1] 之间。\n",
    "            #如果标签数据包含超出这个范围的值，将导致损失计算失败，并可能引发CUDA断言错误\n",
    "            \n",
    "            hid = self.output_layers1[i](time.mean(axis=1)).squeeze(-1) # [B, time_seq]\n",
    "\n",
    "            out = self.output_layers2[i](hid).squeeze(-1)  # [B]\n",
    "            out = self.sigmoid(out)  # 确保输出在 [0, 1]  \n",
    "            globals()[f'output_{i}'].append(out)\n",
    "            outputs.append(out) \n",
    "            Hids.append(hid)\n",
    "        outputs = torch.cat((output_0[0].unsqueeze(1), output_1[0].unsqueeze(1), output_2[0].unsqueeze(1)), dim=-1)  \n",
    "\n",
    "        return outputs,Hids # 拼接所有事件的输出 [B, num_classes]"
   ]
  },
  {
   "cell_type": "code",
   "execution_count": 7,
   "id": "ccece490",
   "metadata": {},
   "outputs": [],
   "source": [
    "def train_model(model, scheduler, train_loader, val_loader, criterion, optimizer, num_epochs=20,lambda_mi=0.1, device='cpu'):\n",
    "    \n",
    "    train_losses = []\n",
    "    val_losses = []\n",
    "    Accuracy = []\n",
    "    Precision = []\n",
    "    Recall = []\n",
    "    Nar = []\n",
    "    best_val_loss = 0\n",
    "    best_model_wts = None\n",
    "    \n",
    "    for epoch in range(num_epochs):\n",
    "        model.train()\n",
    "        running_loss = 0.0\n",
    "        \n",
    "        # 训练阶段\n",
    "        for features, labels in tqdm(train_loader, desc=\"Training process\"):\n",
    "            features, labels = features.to(device), labels.to(device)  # 移动到GPU\n",
    "            optimizer.zero_grad()\n",
    "            outputs,hid = model(features)\n",
    "            # outputs = outputs.reshape(-1, 3)\n",
    "            mi_loss = cosine_similarity_loss(hid)\n",
    "            loss = criterion(outputs, labels) + lambda_mi * mi_loss   # lambda_mi 是互信息损失的权重\n",
    "            loss.backward()\n",
    "            optimizer.step()\n",
    "            running_loss += loss.item()\n",
    "        \n",
    "        avg_train_loss = running_loss / len(train_loader)\n",
    "        train_losses.append(avg_train_loss)\n",
    "        print('********训练阶段**********')\n",
    "        print(f'Epoch [{epoch+1}/{num_epochs}], Train Loss: {avg_train_loss:.4f}')\n",
    "\n",
    "        # 验证阶段\n",
    "        model.eval()\n",
    "        val_loss = 0.0\n",
    "        \n",
    "        all_labels = []\n",
    "        all_preds = []\n",
    "\n",
    "        with torch.no_grad():\n",
    "            for features, labels in tqdm(val_loader, desc=\"Validation process\"):\n",
    "                features, labels = features.to(device), labels.to(device)  # 移动到GPU\n",
    "                outputs, hid= model(features)\n",
    "                mi_loss = cosine_similarity_loss(hid)\n",
    "                loss = criterion(outputs, labels) + lambda_mi * mi_loss  \n",
    "                val_loss += loss.item()\n",
    "\n",
    "                # 将标签和预测结果保存下来以计算评价指标\n",
    "                all_labels.append(labels.cpu().numpy())\n",
    "                all_preds.append((outputs.cpu().numpy() > 0.5).astype(int))  # 使用阈值0.5进行二值化\n",
    "                # all_preds.append(outputs.cpu().numpy())\n",
    "#             scheduler.step(val_loss)\n",
    "                \n",
    "        \n",
    "        val_loss = val_loss / len(val_loader)\n",
    "        val_losses.append(val_loss)\n",
    "        \n",
    "        \n",
    "        \n",
    "        # 将所有batch的结果拼接在一起\n",
    "        all_labels = np.vstack(all_labels)\n",
    "        all_preds = np.vstack(all_preds)\n",
    "        \n",
    "#         # 动态调整阈值\n",
    "#         best_threshold = find_best_thresholds(all_labels, all_preds, 3)\n",
    "        \n",
    "#         # 使用最佳阈值进行预测\n",
    "#         all_preds = (all_preds > best_threshold).astype(int)\n",
    "#         thresholds.append(best_threshold)\n",
    "\n",
    "        # 计算准确率、查准率和查全率\n",
    "        accuracy = accuracy_score(all_labels, all_preds)    # 表示正确预测的样本所占的比例。\n",
    "        precision = precision_score(all_labels, all_preds, average='micro') # 即在所有预测为正类的样本中，实际为正类的样本比例。\n",
    "        recall = recall_score(all_labels, all_preds, average='micro') # 即在所有实际为正类的样本中，正确预测为正类的比例。\n",
    "        nar = micro_false_alarm_rate (all_labels, all_preds)\n",
    "        Accuracy.append(accuracy)\n",
    "        Precision.append(precision)\n",
    "        Recall.append(recall)\n",
    "        Nar.append(nar)\n",
    "        print('********验证阶段**********')\n",
    "        print(f'Epoch [{epoch+1}/{num_epochs}], Validation Loss: {val_loss:.4f}')\n",
    "        print(f'Validation Accuracy: {accuracy:.4f}')\n",
    "        print(f'Validation Precision: {precision:.4f}')\n",
    "        print(f'Validation Recall: {recall:.4f}')\n",
    "        print(f'Nar: {nar:.4f}')\n",
    "        \n",
    "        scheduler.step(accuracy)\n",
    "        # 保存验证集表现最好的模型\n",
    "        if accuracy > best_val_loss:\n",
    "            best_val_loss = accuracy\n",
    "            best_model_wts = model.state_dict()  # 保存最佳模型的参数\n",
    "            print('最优模型参数更新')\n",
    "        \n",
    "    # 保存最优模型\n",
    "    torch.save(best_model_wts, './best_model/best_model.pth')\n",
    "    print(\"Best model saved.\")\n",
    "    return train_losses, val_losses, Accuracy, Precision, Recall, Nar"
   ]
  },
  {
   "cell_type": "code",
   "execution_count": 8,
   "id": "855a2a4b",
   "metadata": {},
   "outputs": [
    {
     "data": {
      "text/plain": [
       "tensor(0.1213)"
      ]
     },
     "execution_count": 8,
     "metadata": {},
     "output_type": "execute_result"
    }
   ],
   "source": [
    "import matplotlib.pyplot as plt\n",
    "\n",
    "def evaluate_model(model, test_loader, criterion, train_losses, val_losses, Accuracy, Precision, Recall,lambda_mi = 0.1, device='cpu'):\n",
    "    model.load_state_dict(torch.load('./best_model/best_model.pth'))\n",
    "    model.eval()\n",
    "    total_loss = 0.0\n",
    "    all_labels = []\n",
    "    all_preds = []\n",
    "\n",
    "    with torch.no_grad():\n",
    "        for features, labels in test_loader:\n",
    "            features, labels = features.to(device), labels.to(device)  # 移动到GPU\n",
    "            outputs, hid = model(features)\n",
    "            mi_loss = cosine_similarity_loss(hid)\n",
    "            loss = criterion(outputs, labels)  + lambda_mi * mi_loss         \n",
    "            # outputs = outputs.reshape(-1, 3)\n",
    "            loss = criterion(outputs, labels) \n",
    "            total_loss += loss.item()\n",
    "\n",
    "            # 将标签和预测结果保存下来以计算评价指标\n",
    "            all_labels.append(labels.cpu().numpy())\n",
    "            all_preds.append((outputs.cpu().numpy() > 0.5).astype(int))  # 使用阈值0.5进行二值化\n",
    "    \n",
    "    avg_loss = total_loss / len(test_loader)\n",
    "    \n",
    "    # 将所有batch的结果拼接在一起\n",
    "    all_labels = np.vstack(all_labels)\n",
    "    all_preds = np.vstack(all_preds)\n",
    "\n",
    "    # 计算准确率、查准率和查全率\n",
    "    accuracy = accuracy_score(all_labels, all_preds)\n",
    "    precision = precision_score(all_labels, all_preds, average='micro')\n",
    "    recall = recall_score(all_labels, all_preds, average='micro')\n",
    "    nar = micro_false_alarm_rate (all_labels, all_preds)\n",
    "    \n",
    "    print('********测试阶段**********')\n",
    "    print(f'Test Loss: {avg_loss:.4f}')\n",
    "    print(f'Accuracy: {accuracy:.4f}')\n",
    "    print(f'Precision: {precision:.4f}')\n",
    "    print(f'Recall: {recall:.4f}')\n",
    "    print(f'Nar: {nar:.4f}')\n",
    "   \n",
    "    # 绘制训练损失和验证损失\n",
    "    epochs = range(1, len(train_losses) + 1)\n",
    "    plt.plot(epochs, train_losses, label='Train Loss')\n",
    "    plt.plot(epochs, val_losses, label='Validation Loss')\n",
    "    plt.xlabel('Epochs')\n",
    "    plt.ylabel('Loss')\n",
    "    plt.title('Train and Validation Loss')\n",
    "    plt.legend()\n",
    "    plt.show()\n",
    "\n",
    "    # 绘制训练损失和验证损失\n",
    "    epochs = range(1, len(train_losses) + 1)\n",
    "    plt.plot(epochs, Accuracy, label='Accuracy', )\n",
    "    plt.plot(epochs, Precision, label='Precision')\n",
    "    plt.plot(epochs, Recall, label='Recall')\n",
    "    plt.ylim(0, 1)\n",
    "    plt.xlabel('Epochs')\n",
    "    # plt.ylabel('Loss')\n",
    "    plt.title('Evaluation Index')\n",
    "    plt.legend()\n",
    "    plt.show()\n",
    "    \n",
    "\n",
    "    \n",
    "    return all_labels, all_preds\n",
    "\n",
    "\n",
    "def cosine_similarity_loss(hid_list):\n",
    "    \"\"\"\n",
    "    计算隐藏层之间的余弦相似度，并返回总的相似度损失。\n",
    "    :param hid_list: 一个包含多个隐藏层表示的列表 [H1, H2, ..., Hn]，每个的形状为 [B, D]\n",
    "    :return: 相似度损失标量\n",
    "    \"\"\"\n",
    "    num_hids = len(hid_list)\n",
    "    loss = 0.0\n",
    "    for i in range(num_hids):\n",
    "        for j in range(i + 1, num_hids):\n",
    "            sim = F.cosine_similarity(hid_list[i], hid_list[j], dim=-1)  # [B]\n",
    "            loss += sim.mean()  # 平均相似度\n",
    "    return abs(loss)  # 归一化到成对的平均相似度\n",
    "\n",
    "\n",
    "# def cosine_similarity_loss(hid_list):\n",
    "#     \"\"\"\n",
    "#     计算隐藏层之间的欧几里得距离，并返回总的距离损失。\n",
    "#     :param hid_list: 一个包含多个隐藏层表示的列表 [H1, H2, ..., Hn]，每个的形状为 [B, D]\n",
    "#     :return: 距离损失标量\n",
    "#     \"\"\"\n",
    "#     num_hids = len(hid_list)\n",
    "#     loss = 0.0\n",
    "#     for i in range(num_hids):\n",
    "#         for j in range(i + 1, num_hids):\n",
    "#             dist = torch.norm(hid_list[i] - hid_list[j], p=2, dim=-1)  # [B] 计算 L2 范数\n",
    "#             loss += dist.mean()  # 计算平均欧几里得距离\n",
    "#     return -torch.log(loss/20)\n",
    "\n",
    "\n",
    "cosine_similarity_loss(torch.randn(3,32,20))"
   ]
  },
  {
   "cell_type": "code",
   "execution_count": 9,
   "id": "d766f712",
   "metadata": {
    "scrolled": true
   },
   "outputs": [
    {
     "name": "stdout",
     "output_type": "stream",
     "text": [
      "Using device: cuda\n",
      "正在读取数据\n",
      "数据shape：(8200, 2053)\n"
     ]
    },
    {
     "name": "stderr",
     "output_type": "stream",
     "text": [
      "Training process: 100%|██████████████████████████████████████████████████████████████| 206/206 [00:51<00:00,  4.04it/s]\n"
     ]
    },
    {
     "name": "stdout",
     "output_type": "stream",
     "text": [
      "********训练阶段**********\n",
      "Epoch [1/200], Train Loss: 0.7171\n"
     ]
    },
    {
     "name": "stderr",
     "output_type": "stream",
     "text": [
      "Validation process: 100%|██████████████████████████████████████████████████████████████| 26/26 [00:01<00:00, 15.49it/s]\n"
     ]
    },
    {
     "name": "stdout",
     "output_type": "stream",
     "text": [
      "********验证阶段**********\n",
      "Epoch [1/200], Validation Loss: 0.7352\n",
      "Validation Accuracy: 0.0086\n",
      "Validation Precision: 0.4821\n",
      "Validation Recall: 0.0207\n",
      "Nar: 0.0257\n",
      "最优模型参数更新\n"
     ]
    },
    {
     "name": "stderr",
     "output_type": "stream",
     "text": [
      "Training process: 100%|██████████████████████████████████████████████████████████████| 206/206 [00:46<00:00,  4.42it/s]\n"
     ]
    },
    {
     "name": "stdout",
     "output_type": "stream",
     "text": [
      "********训练阶段**********\n",
      "Epoch [2/200], Train Loss: 0.7061\n"
     ]
    },
    {
     "name": "stderr",
     "output_type": "stream",
     "text": [
      "Validation process: 100%|██████████████████████████████████████████████████████████████| 26/26 [00:01<00:00, 14.95it/s]\n"
     ]
    },
    {
     "name": "stdout",
     "output_type": "stream",
     "text": [
      "********验证阶段**********\n",
      "Epoch [2/200], Validation Loss: 0.7035\n",
      "Validation Accuracy: 0.1330\n",
      "Validation Precision: 0.5305\n",
      "Validation Recall: 0.4858\n",
      "Nar: 0.4978\n",
      "最优模型参数更新\n"
     ]
    },
    {
     "name": "stderr",
     "output_type": "stream",
     "text": [
      "Training process: 100%|██████████████████████████████████████████████████████████████| 206/206 [00:47<00:00,  4.36it/s]\n"
     ]
    },
    {
     "name": "stdout",
     "output_type": "stream",
     "text": [
      "********训练阶段**********\n",
      "Epoch [3/200], Train Loss: 0.7002\n"
     ]
    },
    {
     "name": "stderr",
     "output_type": "stream",
     "text": [
      "Validation process: 100%|██████████████████████████████████████████████████████████████| 26/26 [00:01<00:00, 14.76it/s]\n"
     ]
    },
    {
     "name": "stdout",
     "output_type": "stream",
     "text": [
      "********验证阶段**********\n",
      "Epoch [3/200], Validation Loss: 0.6790\n",
      "Validation Accuracy: 0.1749\n",
      "Validation Precision: 0.5591\n",
      "Validation Recall: 0.8508\n",
      "Nar: 0.7768\n",
      "最优模型参数更新\n"
     ]
    },
    {
     "name": "stderr",
     "output_type": "stream",
     "text": [
      "Training process: 100%|██████████████████████████████████████████████████████████████| 206/206 [00:47<00:00,  4.38it/s]\n"
     ]
    },
    {
     "name": "stdout",
     "output_type": "stream",
     "text": [
      "********训练阶段**********\n",
      "Epoch [4/200], Train Loss: 0.6785\n"
     ]
    },
    {
     "name": "stderr",
     "output_type": "stream",
     "text": [
      "Validation process: 100%|██████████████████████████████████████████████████████████████| 26/26 [00:01<00:00, 15.89it/s]\n"
     ]
    },
    {
     "name": "stdout",
     "output_type": "stream",
     "text": [
      "********验证阶段**********\n",
      "Epoch [4/200], Validation Loss: 0.6610\n",
      "Validation Accuracy: 0.1256\n",
      "Validation Precision: 0.6940\n",
      "Validation Recall: 0.2846\n",
      "Nar: 0.1453\n"
     ]
    },
    {
     "name": "stderr",
     "output_type": "stream",
     "text": [
      "Training process: 100%|██████████████████████████████████████████████████████████████| 206/206 [00:48<00:00,  4.22it/s]\n"
     ]
    },
    {
     "name": "stdout",
     "output_type": "stream",
     "text": [
      "********训练阶段**********\n",
      "Epoch [5/200], Train Loss: 0.6462\n"
     ]
    },
    {
     "name": "stderr",
     "output_type": "stream",
     "text": [
      "Validation process: 100%|██████████████████████████████████████████████████████████████| 26/26 [00:01<00:00, 15.39it/s]\n"
     ]
    },
    {
     "name": "stdout",
     "output_type": "stream",
     "text": [
      "********验证阶段**********\n",
      "Epoch [5/200], Validation Loss: 0.6171\n",
      "Validation Accuracy: 0.3116\n",
      "Validation Precision: 0.6562\n",
      "Validation Recall: 0.6526\n",
      "Nar: 0.3959\n",
      "最优模型参数更新\n"
     ]
    },
    {
     "name": "stderr",
     "output_type": "stream",
     "text": [
      "Training process: 100%|██████████████████████████████████████████████████████████████| 206/206 [00:48<00:00,  4.26it/s]\n"
     ]
    },
    {
     "name": "stdout",
     "output_type": "stream",
     "text": [
      "********训练阶段**********\n",
      "Epoch [6/200], Train Loss: 0.6222\n"
     ]
    },
    {
     "name": "stderr",
     "output_type": "stream",
     "text": [
      "Validation process: 100%|██████████████████████████████████████████████████████████████| 26/26 [00:01<00:00, 13.52it/s]\n"
     ]
    },
    {
     "name": "stdout",
     "output_type": "stream",
     "text": [
      "********验证阶段**********\n",
      "Epoch [6/200], Validation Loss: 0.5904\n",
      "Validation Accuracy: 0.3190\n",
      "Validation Precision: 0.6461\n",
      "Validation Recall: 0.7529\n",
      "Nar: 0.4774\n",
      "最优模型参数更新\n"
     ]
    },
    {
     "name": "stderr",
     "output_type": "stream",
     "text": [
      "Training process: 100%|██████████████████████████████████████████████████████████████| 206/206 [00:47<00:00,  4.30it/s]\n"
     ]
    },
    {
     "name": "stdout",
     "output_type": "stream",
     "text": [
      "********训练阶段**********\n",
      "Epoch [7/200], Train Loss: 0.6004\n"
     ]
    },
    {
     "name": "stderr",
     "output_type": "stream",
     "text": [
      "Validation process: 100%|██████████████████████████████████████████████████████████████| 26/26 [00:01<00:00, 13.00it/s]\n"
     ]
    },
    {
     "name": "stdout",
     "output_type": "stream",
     "text": [
      "********验证阶段**********\n",
      "Epoch [7/200], Validation Loss: 0.5941\n",
      "Validation Accuracy: 0.3658\n",
      "Validation Precision: 0.7178\n",
      "Validation Recall: 0.6052\n",
      "Nar: 0.2755\n",
      "最优模型参数更新\n"
     ]
    },
    {
     "name": "stderr",
     "output_type": "stream",
     "text": [
      "Training process: 100%|██████████████████████████████████████████████████████████████| 206/206 [00:45<00:00,  4.52it/s]\n"
     ]
    },
    {
     "name": "stdout",
     "output_type": "stream",
     "text": [
      "********训练阶段**********\n",
      "Epoch [8/200], Train Loss: 0.5864\n"
     ]
    },
    {
     "name": "stderr",
     "output_type": "stream",
     "text": [
      "Validation process: 100%|██████████████████████████████████████████████████████████████| 26/26 [00:01<00:00, 16.20it/s]\n"
     ]
    },
    {
     "name": "stdout",
     "output_type": "stream",
     "text": [
      "********验证阶段**********\n",
      "Epoch [8/200], Validation Loss: 0.5616\n",
      "Validation Accuracy: 0.3805\n",
      "Validation Precision: 0.7664\n",
      "Validation Recall: 0.5998\n",
      "Nar: 0.2117\n",
      "最优模型参数更新\n"
     ]
    },
    {
     "name": "stderr",
     "output_type": "stream",
     "text": [
      "Training process: 100%|██████████████████████████████████████████████████████████████| 206/206 [00:38<00:00,  5.40it/s]\n"
     ]
    },
    {
     "name": "stdout",
     "output_type": "stream",
     "text": [
      "********训练阶段**********\n",
      "Epoch [9/200], Train Loss: 0.5770\n"
     ]
    },
    {
     "name": "stderr",
     "output_type": "stream",
     "text": [
      "Validation process: 100%|██████████████████████████████████████████████████████████████| 26/26 [00:01<00:00, 15.73it/s]\n"
     ]
    },
    {
     "name": "stdout",
     "output_type": "stream",
     "text": [
      "********验证阶段**********\n",
      "Epoch [9/200], Validation Loss: 0.5625\n",
      "Validation Accuracy: 0.4039\n",
      "Validation Precision: 0.7581\n",
      "Validation Recall: 0.6450\n",
      "Nar: 0.2383\n",
      "最优模型参数更新\n"
     ]
    },
    {
     "name": "stderr",
     "output_type": "stream",
     "text": [
      "Training process: 100%|██████████████████████████████████████████████████████████████| 206/206 [00:48<00:00,  4.22it/s]\n"
     ]
    },
    {
     "name": "stdout",
     "output_type": "stream",
     "text": [
      "********训练阶段**********\n",
      "Epoch [10/200], Train Loss: 0.5571\n"
     ]
    },
    {
     "name": "stderr",
     "output_type": "stream",
     "text": [
      "Validation process: 100%|██████████████████████████████████████████████████████████████| 26/26 [00:01<00:00, 14.38it/s]\n"
     ]
    },
    {
     "name": "stdout",
     "output_type": "stream",
     "text": [
      "********验证阶段**********\n",
      "Epoch [10/200], Validation Loss: 0.5481\n",
      "Validation Accuracy: 0.3510\n",
      "Validation Precision: 0.6705\n",
      "Validation Recall: 0.7957\n",
      "Nar: 0.4526\n"
     ]
    },
    {
     "name": "stderr",
     "output_type": "stream",
     "text": [
      "Training process: 100%|██████████████████████████████████████████████████████████████| 206/206 [00:49<00:00,  4.14it/s]\n"
     ]
    },
    {
     "name": "stdout",
     "output_type": "stream",
     "text": [
      "********训练阶段**********\n",
      "Epoch [11/200], Train Loss: 0.5488\n"
     ]
    },
    {
     "name": "stderr",
     "output_type": "stream",
     "text": [
      "Validation process: 100%|██████████████████████████████████████████████████████████████| 26/26 [00:01<00:00, 13.58it/s]\n"
     ]
    },
    {
     "name": "stdout",
     "output_type": "stream",
     "text": [
      "********验证阶段**********\n",
      "Epoch [11/200], Validation Loss: 0.5237\n",
      "Validation Accuracy: 0.4409\n",
      "Validation Precision: 0.7952\n",
      "Validation Recall: 0.6595\n",
      "Nar: 0.1966\n",
      "最优模型参数更新\n"
     ]
    },
    {
     "name": "stderr",
     "output_type": "stream",
     "text": [
      "Training process: 100%|██████████████████████████████████████████████████████████████| 206/206 [00:47<00:00,  4.32it/s]\n"
     ]
    },
    {
     "name": "stdout",
     "output_type": "stream",
     "text": [
      "********训练阶段**********\n",
      "Epoch [12/200], Train Loss: 0.5347\n"
     ]
    },
    {
     "name": "stderr",
     "output_type": "stream",
     "text": [
      "Validation process: 100%|██████████████████████████████████████████████████████████████| 26/26 [00:01<00:00, 15.53it/s]\n"
     ]
    },
    {
     "name": "stdout",
     "output_type": "stream",
     "text": [
      "********验证阶段**********\n",
      "Epoch [12/200], Validation Loss: 0.5134\n",
      "Validation Accuracy: 0.4372\n",
      "Validation Precision: 0.8020\n",
      "Validation Recall: 0.6664\n",
      "Nar: 0.1904\n"
     ]
    },
    {
     "name": "stderr",
     "output_type": "stream",
     "text": [
      "Training process: 100%|██████████████████████████████████████████████████████████████| 206/206 [00:49<00:00,  4.17it/s]\n"
     ]
    },
    {
     "name": "stdout",
     "output_type": "stream",
     "text": [
      "********训练阶段**********\n",
      "Epoch [13/200], Train Loss: 0.5153\n"
     ]
    },
    {
     "name": "stderr",
     "output_type": "stream",
     "text": [
      "Validation process: 100%|██████████████████████████████████████████████████████████████| 26/26 [00:01<00:00, 13.08it/s]\n"
     ]
    },
    {
     "name": "stdout",
     "output_type": "stream",
     "text": [
      "********验证阶段**********\n",
      "Epoch [13/200], Validation Loss: 0.5172\n",
      "Validation Accuracy: 0.4409\n",
      "Validation Precision: 0.7994\n",
      "Validation Recall: 0.6618\n",
      "Nar: 0.1922\n"
     ]
    },
    {
     "name": "stderr",
     "output_type": "stream",
     "text": [
      "Training process: 100%|██████████████████████████████████████████████████████████████| 206/206 [00:49<00:00,  4.17it/s]\n"
     ]
    },
    {
     "name": "stdout",
     "output_type": "stream",
     "text": [
      "********训练阶段**********\n",
      "Epoch [14/200], Train Loss: 0.5002\n"
     ]
    },
    {
     "name": "stderr",
     "output_type": "stream",
     "text": [
      "Validation process: 100%|██████████████████████████████████████████████████████████████| 26/26 [00:01<00:00, 13.08it/s]\n"
     ]
    },
    {
     "name": "stdout",
     "output_type": "stream",
     "text": [
      "********验证阶段**********\n",
      "Epoch [14/200], Validation Loss: 0.5007\n",
      "Validation Accuracy: 0.4212\n",
      "Validation Precision: 0.7404\n",
      "Validation Recall: 0.7988\n",
      "Nar: 0.3242\n"
     ]
    },
    {
     "name": "stderr",
     "output_type": "stream",
     "text": [
      "Training process: 100%|██████████████████████████████████████████████████████████████| 206/206 [00:50<00:00,  4.11it/s]\n"
     ]
    },
    {
     "name": "stdout",
     "output_type": "stream",
     "text": [
      "********训练阶段**********\n",
      "Epoch [15/200], Train Loss: 0.4902\n"
     ]
    },
    {
     "name": "stderr",
     "output_type": "stream",
     "text": [
      "Validation process: 100%|██████████████████████████████████████████████████████████████| 26/26 [00:01<00:00, 14.26it/s]\n"
     ]
    },
    {
     "name": "stdout",
     "output_type": "stream",
     "text": [
      "********验证阶段**********\n",
      "Epoch [15/200], Validation Loss: 0.4685\n",
      "Validation Accuracy: 0.4520\n",
      "Validation Precision: 0.7836\n",
      "Validation Recall: 0.7368\n",
      "Nar: 0.2356\n",
      "最优模型参数更新\n"
     ]
    },
    {
     "name": "stderr",
     "output_type": "stream",
     "text": [
      "Training process: 100%|██████████████████████████████████████████████████████████████| 206/206 [00:49<00:00,  4.17it/s]\n"
     ]
    },
    {
     "name": "stdout",
     "output_type": "stream",
     "text": [
      "********训练阶段**********\n",
      "Epoch [16/200], Train Loss: 0.4753\n"
     ]
    },
    {
     "name": "stderr",
     "output_type": "stream",
     "text": [
      "Validation process: 100%|██████████████████████████████████████████████████████████████| 26/26 [00:01<00:00, 13.98it/s]\n"
     ]
    },
    {
     "name": "stdout",
     "output_type": "stream",
     "text": [
      "********验证阶段**********\n",
      "Epoch [16/200], Validation Loss: 0.4761\n",
      "Validation Accuracy: 0.4766\n",
      "Validation Precision: 0.8326\n",
      "Validation Recall: 0.7001\n",
      "Nar: 0.1630\n",
      "最优模型参数更新\n"
     ]
    },
    {
     "name": "stderr",
     "output_type": "stream",
     "text": [
      "Training process: 100%|██████████████████████████████████████████████████████████████| 206/206 [00:49<00:00,  4.19it/s]\n"
     ]
    },
    {
     "name": "stdout",
     "output_type": "stream",
     "text": [
      "********训练阶段**********\n",
      "Epoch [17/200], Train Loss: 0.4619\n"
     ]
    },
    {
     "name": "stderr",
     "output_type": "stream",
     "text": [
      "Validation process: 100%|██████████████████████████████████████████████████████████████| 26/26 [00:01<00:00, 13.62it/s]\n"
     ]
    },
    {
     "name": "stdout",
     "output_type": "stream",
     "text": [
      "********验证阶段**********\n",
      "Epoch [17/200], Validation Loss: 0.4406\n",
      "Validation Accuracy: 0.4692\n",
      "Validation Precision: 0.7792\n",
      "Validation Recall: 0.8072\n",
      "Nar: 0.2648\n"
     ]
    },
    {
     "name": "stderr",
     "output_type": "stream",
     "text": [
      "Training process: 100%|██████████████████████████████████████████████████████████████| 206/206 [00:47<00:00,  4.31it/s]\n"
     ]
    },
    {
     "name": "stdout",
     "output_type": "stream",
     "text": [
      "********训练阶段**********\n",
      "Epoch [18/200], Train Loss: 0.4482\n"
     ]
    },
    {
     "name": "stderr",
     "output_type": "stream",
     "text": [
      "Validation process: 100%|██████████████████████████████████████████████████████████████| 26/26 [00:02<00:00, 12.17it/s]\n"
     ]
    },
    {
     "name": "stdout",
     "output_type": "stream",
     "text": [
      "********验证阶段**********\n",
      "Epoch [18/200], Validation Loss: 0.4596\n",
      "Validation Accuracy: 0.5012\n",
      "Validation Precision: 0.8343\n",
      "Validation Recall: 0.7399\n",
      "Nar: 0.1701\n",
      "最优模型参数更新\n"
     ]
    },
    {
     "name": "stderr",
     "output_type": "stream",
     "text": [
      "Training process: 100%|██████████████████████████████████████████████████████████████| 206/206 [00:49<00:00,  4.13it/s]\n"
     ]
    },
    {
     "name": "stdout",
     "output_type": "stream",
     "text": [
      "********训练阶段**********\n",
      "Epoch [19/200], Train Loss: 0.4452\n"
     ]
    },
    {
     "name": "stderr",
     "output_type": "stream",
     "text": [
      "Validation process: 100%|██████████████████████████████████████████████████████████████| 26/26 [00:01<00:00, 14.30it/s]\n"
     ]
    },
    {
     "name": "stdout",
     "output_type": "stream",
     "text": [
      "********验证阶段**********\n",
      "Epoch [19/200], Validation Loss: 0.4324\n",
      "Validation Accuracy: 0.5000\n",
      "Validation Precision: 0.8286\n",
      "Validation Recall: 0.7582\n",
      "Nar: 0.1816\n"
     ]
    },
    {
     "name": "stderr",
     "output_type": "stream",
     "text": [
      "Training process: 100%|██████████████████████████████████████████████████████████████| 206/206 [00:49<00:00,  4.17it/s]\n"
     ]
    },
    {
     "name": "stdout",
     "output_type": "stream",
     "text": [
      "********训练阶段**********\n",
      "Epoch [20/200], Train Loss: 0.4250\n"
     ]
    },
    {
     "name": "stderr",
     "output_type": "stream",
     "text": [
      "Validation process: 100%|██████████████████████████████████████████████████████████████| 26/26 [00:01<00:00, 13.84it/s]\n"
     ]
    },
    {
     "name": "stdout",
     "output_type": "stream",
     "text": [
      "********验证阶段**********\n",
      "Epoch [20/200], Validation Loss: 0.4646\n",
      "Validation Accuracy: 0.5062\n",
      "Validation Precision: 0.8354\n",
      "Validation Recall: 0.7108\n",
      "Nar: 0.1621\n",
      "最优模型参数更新\n"
     ]
    },
    {
     "name": "stderr",
     "output_type": "stream",
     "text": [
      "Training process: 100%|██████████████████████████████████████████████████████████████| 206/206 [00:47<00:00,  4.30it/s]\n"
     ]
    },
    {
     "name": "stdout",
     "output_type": "stream",
     "text": [
      "********训练阶段**********\n",
      "Epoch [21/200], Train Loss: 0.4258\n"
     ]
    },
    {
     "name": "stderr",
     "output_type": "stream",
     "text": [
      "Validation process: 100%|██████████████████████████████████████████████████████████████| 26/26 [00:01<00:00, 13.43it/s]\n"
     ]
    },
    {
     "name": "stdout",
     "output_type": "stream",
     "text": [
      "********验证阶段**********\n",
      "Epoch [21/200], Validation Loss: 0.4130\n",
      "Validation Accuracy: 0.5246\n",
      "Validation Precision: 0.8454\n",
      "Validation Recall: 0.7697\n",
      "Nar: 0.1630\n",
      "最优模型参数更新\n"
     ]
    },
    {
     "name": "stderr",
     "output_type": "stream",
     "text": [
      "Training process: 100%|██████████████████████████████████████████████████████████████| 206/206 [00:48<00:00,  4.25it/s]\n"
     ]
    },
    {
     "name": "stdout",
     "output_type": "stream",
     "text": [
      "********训练阶段**********\n",
      "Epoch [22/200], Train Loss: 0.4089\n"
     ]
    },
    {
     "name": "stderr",
     "output_type": "stream",
     "text": [
      "Validation process: 100%|██████████████████████████████████████████████████████████████| 26/26 [00:01<00:00, 14.66it/s]\n"
     ]
    },
    {
     "name": "stdout",
     "output_type": "stream",
     "text": [
      "********验证阶段**********\n",
      "Epoch [22/200], Validation Loss: 0.4376\n",
      "Validation Accuracy: 0.5542\n",
      "Validation Precision: 0.8471\n",
      "Validation Recall: 0.7460\n",
      "Nar: 0.1559\n",
      "最优模型参数更新\n"
     ]
    },
    {
     "name": "stderr",
     "output_type": "stream",
     "text": [
      "Training process: 100%|██████████████████████████████████████████████████████████████| 206/206 [00:50<00:00,  4.07it/s]\n"
     ]
    },
    {
     "name": "stdout",
     "output_type": "stream",
     "text": [
      "********训练阶段**********\n",
      "Epoch [23/200], Train Loss: 0.4033\n"
     ]
    },
    {
     "name": "stderr",
     "output_type": "stream",
     "text": [
      "Validation process: 100%|██████████████████████████████████████████████████████████████| 26/26 [00:02<00:00, 12.87it/s]\n"
     ]
    },
    {
     "name": "stdout",
     "output_type": "stream",
     "text": [
      "********验证阶段**********\n",
      "Epoch [23/200], Validation Loss: 0.3999\n",
      "Validation Accuracy: 0.5468\n",
      "Validation Precision: 0.8428\n",
      "Validation Recall: 0.7835\n",
      "Nar: 0.1692\n"
     ]
    },
    {
     "name": "stderr",
     "output_type": "stream",
     "text": [
      "Training process: 100%|██████████████████████████████████████████████████████████████| 206/206 [00:48<00:00,  4.27it/s]\n"
     ]
    },
    {
     "name": "stdout",
     "output_type": "stream",
     "text": [
      "********训练阶段**********\n",
      "Epoch [24/200], Train Loss: 0.3922\n"
     ]
    },
    {
     "name": "stderr",
     "output_type": "stream",
     "text": [
      "Validation process: 100%|██████████████████████████████████████████████████████████████| 26/26 [00:01<00:00, 13.66it/s]\n"
     ]
    },
    {
     "name": "stdout",
     "output_type": "stream",
     "text": [
      "********验证阶段**********\n",
      "Epoch [24/200], Validation Loss: 0.3932\n",
      "Validation Accuracy: 0.5800\n",
      "Validation Precision: 0.8718\n",
      "Validation Recall: 0.7598\n",
      "Nar: 0.1293\n",
      "最优模型参数更新\n"
     ]
    },
    {
     "name": "stderr",
     "output_type": "stream",
     "text": [
      "Training process: 100%|██████████████████████████████████████████████████████████████| 206/206 [00:48<00:00,  4.24it/s]\n"
     ]
    },
    {
     "name": "stdout",
     "output_type": "stream",
     "text": [
      "********训练阶段**********\n",
      "Epoch [25/200], Train Loss: 0.3867\n"
     ]
    },
    {
     "name": "stderr",
     "output_type": "stream",
     "text": [
      "Validation process: 100%|██████████████████████████████████████████████████████████████| 26/26 [00:01<00:00, 14.78it/s]\n"
     ]
    },
    {
     "name": "stdout",
     "output_type": "stream",
     "text": [
      "********验证阶段**********\n",
      "Epoch [25/200], Validation Loss: 0.4324\n",
      "Validation Accuracy: 0.5111\n",
      "Validation Precision: 0.8325\n",
      "Validation Recall: 0.7605\n",
      "Nar: 0.1771\n"
     ]
    },
    {
     "name": "stderr",
     "output_type": "stream",
     "text": [
      "Training process: 100%|██████████████████████████████████████████████████████████████| 206/206 [00:49<00:00,  4.16it/s]\n"
     ]
    },
    {
     "name": "stdout",
     "output_type": "stream",
     "text": [
      "********训练阶段**********\n",
      "Epoch [26/200], Train Loss: 0.3859\n"
     ]
    },
    {
     "name": "stderr",
     "output_type": "stream",
     "text": [
      "Validation process: 100%|██████████████████████████████████████████████████████████████| 26/26 [00:01<00:00, 13.67it/s]\n"
     ]
    },
    {
     "name": "stdout",
     "output_type": "stream",
     "text": [
      "********验证阶段**********\n",
      "Epoch [26/200], Validation Loss: 0.3879\n",
      "Validation Accuracy: 0.5653\n",
      "Validation Precision: 0.8515\n",
      "Validation Recall: 0.8072\n",
      "Nar: 0.1630\n"
     ]
    },
    {
     "name": "stderr",
     "output_type": "stream",
     "text": [
      "Training process: 100%|██████████████████████████████████████████████████████████████| 206/206 [00:49<00:00,  4.18it/s]\n"
     ]
    },
    {
     "name": "stdout",
     "output_type": "stream",
     "text": [
      "********训练阶段**********\n",
      "Epoch [27/200], Train Loss: 0.3813\n"
     ]
    },
    {
     "name": "stderr",
     "output_type": "stream",
     "text": [
      "Validation process: 100%|██████████████████████████████████████████████████████████████| 26/26 [00:01<00:00, 13.15it/s]\n"
     ]
    },
    {
     "name": "stdout",
     "output_type": "stream",
     "text": [
      "********验证阶段**********\n",
      "Epoch [27/200], Validation Loss: 0.3624\n",
      "Validation Accuracy: 0.5899\n",
      "Validation Precision: 0.8547\n",
      "Validation Recall: 0.8279\n",
      "Nar: 0.1630\n",
      "最优模型参数更新\n"
     ]
    },
    {
     "name": "stderr",
     "output_type": "stream",
     "text": [
      "Training process: 100%|██████████████████████████████████████████████████████████████| 206/206 [00:50<00:00,  4.10it/s]\n"
     ]
    },
    {
     "name": "stdout",
     "output_type": "stream",
     "text": [
      "********训练阶段**********\n",
      "Epoch [28/200], Train Loss: 0.3615\n"
     ]
    },
    {
     "name": "stderr",
     "output_type": "stream",
     "text": [
      "Validation process: 100%|██████████████████████████████████████████████████████████████| 26/26 [00:01<00:00, 13.57it/s]\n"
     ]
    },
    {
     "name": "stdout",
     "output_type": "stream",
     "text": [
      "********验证阶段**********\n",
      "Epoch [28/200], Validation Loss: 0.3470\n",
      "Validation Accuracy: 0.6268\n",
      "Validation Precision: 0.8755\n",
      "Validation Recall: 0.8233\n",
      "Nar: 0.1355\n",
      "最优模型参数更新\n"
     ]
    },
    {
     "name": "stderr",
     "output_type": "stream",
     "text": [
      "Training process: 100%|██████████████████████████████████████████████████████████████| 206/206 [00:50<00:00,  4.07it/s]\n"
     ]
    },
    {
     "name": "stdout",
     "output_type": "stream",
     "text": [
      "********训练阶段**********\n",
      "Epoch [29/200], Train Loss: 0.3579\n"
     ]
    },
    {
     "name": "stderr",
     "output_type": "stream",
     "text": [
      "Validation process: 100%|██████████████████████████████████████████████████████████████| 26/26 [00:02<00:00, 12.61it/s]\n"
     ]
    },
    {
     "name": "stdout",
     "output_type": "stream",
     "text": [
      "********验证阶段**********\n",
      "Epoch [29/200], Validation Loss: 0.3702\n",
      "Validation Accuracy: 0.6330\n",
      "Validation Precision: 0.8645\n",
      "Validation Recall: 0.8057\n",
      "Nar: 0.1461\n",
      "最优模型参数更新\n"
     ]
    },
    {
     "name": "stderr",
     "output_type": "stream",
     "text": [
      "Training process: 100%|██████████████████████████████████████████████████████████████| 206/206 [00:49<00:00,  4.18it/s]\n"
     ]
    },
    {
     "name": "stdout",
     "output_type": "stream",
     "text": [
      "********训练阶段**********\n",
      "Epoch [30/200], Train Loss: 0.3497\n"
     ]
    },
    {
     "name": "stderr",
     "output_type": "stream",
     "text": [
      "Validation process: 100%|██████████████████████████████████████████████████████████████| 26/26 [00:02<00:00, 12.63it/s]\n"
     ]
    },
    {
     "name": "stdout",
     "output_type": "stream",
     "text": [
      "********验证阶段**********\n",
      "Epoch [30/200], Validation Loss: 0.3486\n",
      "Validation Accuracy: 0.6281\n",
      "Validation Precision: 0.8831\n",
      "Validation Recall: 0.8095\n",
      "Nar: 0.1240\n"
     ]
    },
    {
     "name": "stderr",
     "output_type": "stream",
     "text": [
      "Training process: 100%|██████████████████████████████████████████████████████████████| 206/206 [00:49<00:00,  4.18it/s]\n"
     ]
    },
    {
     "name": "stdout",
     "output_type": "stream",
     "text": [
      "********训练阶段**********\n",
      "Epoch [31/200], Train Loss: 0.3551\n"
     ]
    },
    {
     "name": "stderr",
     "output_type": "stream",
     "text": [
      "Validation process: 100%|██████████████████████████████████████████████████████████████| 26/26 [00:02<00:00, 12.76it/s]\n"
     ]
    },
    {
     "name": "stdout",
     "output_type": "stream",
     "text": [
      "********验证阶段**********\n",
      "Epoch [31/200], Validation Loss: 0.3330\n",
      "Validation Accuracy: 0.6318\n",
      "Validation Precision: 0.8775\n",
      "Validation Recall: 0.8386\n",
      "Nar: 0.1355\n"
     ]
    },
    {
     "name": "stderr",
     "output_type": "stream",
     "text": [
      "Training process: 100%|██████████████████████████████████████████████████████████████| 206/206 [00:50<00:00,  4.09it/s]\n"
     ]
    },
    {
     "name": "stdout",
     "output_type": "stream",
     "text": [
      "********训练阶段**********\n",
      "Epoch [32/200], Train Loss: 0.3378\n"
     ]
    },
    {
     "name": "stderr",
     "output_type": "stream",
     "text": [
      "Validation process: 100%|██████████████████████████████████████████████████████████████| 26/26 [00:01<00:00, 13.65it/s]\n"
     ]
    },
    {
     "name": "stdout",
     "output_type": "stream",
     "text": [
      "********验证阶段**********\n",
      "Epoch [32/200], Validation Loss: 0.3391\n",
      "Validation Accuracy: 0.6355\n",
      "Validation Precision: 0.8815\n",
      "Validation Recall: 0.8363\n",
      "Nar: 0.1302\n",
      "最优模型参数更新\n"
     ]
    },
    {
     "name": "stderr",
     "output_type": "stream",
     "text": [
      "Training process: 100%|██████████████████████████████████████████████████████████████| 206/206 [00:48<00:00,  4.25it/s]\n"
     ]
    },
    {
     "name": "stdout",
     "output_type": "stream",
     "text": [
      "********训练阶段**********\n",
      "Epoch [33/200], Train Loss: 0.3350\n"
     ]
    },
    {
     "name": "stderr",
     "output_type": "stream",
     "text": [
      "Validation process: 100%|██████████████████████████████████████████████████████████████| 26/26 [00:01<00:00, 14.35it/s]\n"
     ]
    },
    {
     "name": "stdout",
     "output_type": "stream",
     "text": [
      "********验证阶段**********\n",
      "Epoch [33/200], Validation Loss: 0.3437\n",
      "Validation Accuracy: 0.6539\n",
      "Validation Precision: 0.9043\n",
      "Validation Recall: 0.8095\n",
      "Nar: 0.0992\n",
      "最优模型参数更新\n"
     ]
    },
    {
     "name": "stderr",
     "output_type": "stream",
     "text": [
      "Training process: 100%|██████████████████████████████████████████████████████████████| 206/206 [00:50<00:00,  4.04it/s]\n"
     ]
    },
    {
     "name": "stdout",
     "output_type": "stream",
     "text": [
      "********训练阶段**********\n",
      "Epoch [34/200], Train Loss: 0.3305\n"
     ]
    },
    {
     "name": "stderr",
     "output_type": "stream",
     "text": [
      "Validation process: 100%|██████████████████████████████████████████████████████████████| 26/26 [00:01<00:00, 13.62it/s]\n"
     ]
    },
    {
     "name": "stdout",
     "output_type": "stream",
     "text": [
      "********验证阶段**********\n",
      "Epoch [34/200], Validation Loss: 0.3132\n",
      "Validation Accuracy: 0.6527\n",
      "Validation Precision: 0.8672\n",
      "Validation Recall: 0.8592\n",
      "Nar: 0.1523\n"
     ]
    },
    {
     "name": "stderr",
     "output_type": "stream",
     "text": [
      "Training process: 100%|██████████████████████████████████████████████████████████████| 206/206 [00:48<00:00,  4.23it/s]\n"
     ]
    },
    {
     "name": "stdout",
     "output_type": "stream",
     "text": [
      "********训练阶段**********\n",
      "Epoch [35/200], Train Loss: 0.3147\n"
     ]
    },
    {
     "name": "stderr",
     "output_type": "stream",
     "text": [
      "Validation process: 100%|██████████████████████████████████████████████████████████████| 26/26 [00:01<00:00, 14.40it/s]\n"
     ]
    },
    {
     "name": "stdout",
     "output_type": "stream",
     "text": [
      "********验证阶段**********\n",
      "Epoch [35/200], Validation Loss: 0.2989\n",
      "Validation Accuracy: 0.6749\n",
      "Validation Precision: 0.9007\n",
      "Validation Recall: 0.8470\n",
      "Nar: 0.1081\n",
      "最优模型参数更新\n"
     ]
    },
    {
     "name": "stderr",
     "output_type": "stream",
     "text": [
      "Training process: 100%|██████████████████████████████████████████████████████████████| 206/206 [00:47<00:00,  4.29it/s]\n"
     ]
    },
    {
     "name": "stdout",
     "output_type": "stream",
     "text": [
      "********训练阶段**********\n",
      "Epoch [36/200], Train Loss: 0.3145\n"
     ]
    },
    {
     "name": "stderr",
     "output_type": "stream",
     "text": [
      "Validation process: 100%|██████████████████████████████████████████████████████████████| 26/26 [00:02<00:00, 12.74it/s]\n"
     ]
    },
    {
     "name": "stdout",
     "output_type": "stream",
     "text": [
      "********验证阶段**********\n",
      "Epoch [36/200], Validation Loss: 0.3077\n",
      "Validation Accuracy: 0.6663\n",
      "Validation Precision: 0.8798\n",
      "Validation Recall: 0.8623\n",
      "Nar: 0.1364\n"
     ]
    },
    {
     "name": "stderr",
     "output_type": "stream",
     "text": [
      "Training process: 100%|██████████████████████████████████████████████████████████████| 206/206 [00:48<00:00,  4.24it/s]\n"
     ]
    },
    {
     "name": "stdout",
     "output_type": "stream",
     "text": [
      "********训练阶段**********\n",
      "Epoch [37/200], Train Loss: 0.3049\n"
     ]
    },
    {
     "name": "stderr",
     "output_type": "stream",
     "text": [
      "Validation process: 100%|██████████████████████████████████████████████████████████████| 26/26 [00:02<00:00, 12.38it/s]\n"
     ]
    },
    {
     "name": "stdout",
     "output_type": "stream",
     "text": [
      "********验证阶段**********\n",
      "Epoch [37/200], Validation Loss: 0.2975\n",
      "Validation Accuracy: 0.6773\n",
      "Validation Precision: 0.9071\n",
      "Validation Recall: 0.8370\n",
      "Nar: 0.0992\n",
      "最优模型参数更新\n"
     ]
    },
    {
     "name": "stderr",
     "output_type": "stream",
     "text": [
      "Training process: 100%|██████████████████████████████████████████████████████████████| 206/206 [00:47<00:00,  4.31it/s]\n"
     ]
    },
    {
     "name": "stdout",
     "output_type": "stream",
     "text": [
      "********训练阶段**********\n",
      "Epoch [38/200], Train Loss: 0.3007\n"
     ]
    },
    {
     "name": "stderr",
     "output_type": "stream",
     "text": [
      "Validation process: 100%|██████████████████████████████████████████████████████████████| 26/26 [00:01<00:00, 14.32it/s]\n"
     ]
    },
    {
     "name": "stdout",
     "output_type": "stream",
     "text": [
      "********验证阶段**********\n",
      "Epoch [38/200], Validation Loss: 0.3283\n",
      "Validation Accuracy: 0.6675\n",
      "Validation Precision: 0.8430\n",
      "Validation Recall: 0.8998\n",
      "Nar: 0.1940\n"
     ]
    },
    {
     "name": "stderr",
     "output_type": "stream",
     "text": [
      "Training process: 100%|██████████████████████████████████████████████████████████████| 206/206 [00:47<00:00,  4.29it/s]\n"
     ]
    },
    {
     "name": "stdout",
     "output_type": "stream",
     "text": [
      "********训练阶段**********\n",
      "Epoch [39/200], Train Loss: 0.2945\n"
     ]
    },
    {
     "name": "stderr",
     "output_type": "stream",
     "text": [
      "Validation process: 100%|██████████████████████████████████████████████████████████████| 26/26 [00:01<00:00, 13.10it/s]\n"
     ]
    },
    {
     "name": "stdout",
     "output_type": "stream",
     "text": [
      "********验证阶段**********\n",
      "Epoch [39/200], Validation Loss: 0.2863\n",
      "Validation Accuracy: 0.6958\n",
      "Validation Precision: 0.8947\n",
      "Validation Recall: 0.8707\n",
      "Nar: 0.1187\n",
      "最优模型参数更新\n"
     ]
    },
    {
     "name": "stderr",
     "output_type": "stream",
     "text": [
      "Training process: 100%|██████████████████████████████████████████████████████████████| 206/206 [00:48<00:00,  4.24it/s]\n"
     ]
    },
    {
     "name": "stdout",
     "output_type": "stream",
     "text": [
      "********训练阶段**********\n",
      "Epoch [40/200], Train Loss: 0.2843\n"
     ]
    },
    {
     "name": "stderr",
     "output_type": "stream",
     "text": [
      "Validation process: 100%|██████████████████████████████████████████████████████████████| 26/26 [00:01<00:00, 13.13it/s]\n"
     ]
    },
    {
     "name": "stdout",
     "output_type": "stream",
     "text": [
      "********验证阶段**********\n",
      "Epoch [40/200], Validation Loss: 0.2784\n",
      "Validation Accuracy: 0.6946\n",
      "Validation Precision: 0.9221\n",
      "Validation Recall: 0.8424\n",
      "Nar: 0.0824\n"
     ]
    },
    {
     "name": "stderr",
     "output_type": "stream",
     "text": [
      "Training process: 100%|██████████████████████████████████████████████████████████████| 206/206 [00:48<00:00,  4.22it/s]\n"
     ]
    },
    {
     "name": "stdout",
     "output_type": "stream",
     "text": [
      "********训练阶段**********\n",
      "Epoch [41/200], Train Loss: 0.2886\n"
     ]
    },
    {
     "name": "stderr",
     "output_type": "stream",
     "text": [
      "Validation process: 100%|██████████████████████████████████████████████████████████████| 26/26 [00:01<00:00, 13.41it/s]\n"
     ]
    },
    {
     "name": "stdout",
     "output_type": "stream",
     "text": [
      "********验证阶段**********\n",
      "Epoch [41/200], Validation Loss: 0.2630\n",
      "Validation Accuracy: 0.6921\n",
      "Validation Precision: 0.8953\n",
      "Validation Recall: 0.8768\n",
      "Nar: 0.1187\n"
     ]
    },
    {
     "name": "stderr",
     "output_type": "stream",
     "text": [
      "Training process: 100%|██████████████████████████████████████████████████████████████| 206/206 [00:48<00:00,  4.22it/s]\n"
     ]
    },
    {
     "name": "stdout",
     "output_type": "stream",
     "text": [
      "********训练阶段**********\n",
      "Epoch [42/200], Train Loss: 0.2797\n"
     ]
    },
    {
     "name": "stderr",
     "output_type": "stream",
     "text": [
      "Validation process: 100%|██████████████████████████████████████████████████████████████| 26/26 [00:01<00:00, 14.66it/s]\n"
     ]
    },
    {
     "name": "stdout",
     "output_type": "stream",
     "text": [
      "********验证阶段**********\n",
      "Epoch [42/200], Validation Loss: 0.2962\n",
      "Validation Accuracy: 0.6576\n",
      "Validation Precision: 0.8939\n",
      "Validation Recall: 0.8447\n",
      "Nar: 0.1160\n"
     ]
    },
    {
     "name": "stderr",
     "output_type": "stream",
     "text": [
      "Training process: 100%|██████████████████████████████████████████████████████████████| 206/206 [00:49<00:00,  4.17it/s]\n"
     ]
    },
    {
     "name": "stdout",
     "output_type": "stream",
     "text": [
      "********训练阶段**********\n",
      "Epoch [43/200], Train Loss: 0.2676\n"
     ]
    },
    {
     "name": "stderr",
     "output_type": "stream",
     "text": [
      "Validation process: 100%|██████████████████████████████████████████████████████████████| 26/26 [00:01<00:00, 13.89it/s]\n"
     ]
    },
    {
     "name": "stdout",
     "output_type": "stream",
     "text": [
      "********验证阶段**********\n",
      "Epoch [43/200], Validation Loss: 0.2658\n",
      "Validation Accuracy: 0.6995\n",
      "Validation Precision: 0.8919\n",
      "Validation Recall: 0.8898\n",
      "Nar: 0.1249\n",
      "最优模型参数更新\n"
     ]
    },
    {
     "name": "stderr",
     "output_type": "stream",
     "text": [
      "Training process: 100%|██████████████████████████████████████████████████████████████| 206/206 [00:48<00:00,  4.21it/s]\n"
     ]
    },
    {
     "name": "stdout",
     "output_type": "stream",
     "text": [
      "********训练阶段**********\n",
      "Epoch [44/200], Train Loss: 0.2648\n"
     ]
    },
    {
     "name": "stderr",
     "output_type": "stream",
     "text": [
      "Validation process: 100%|██████████████████████████████████████████████████████████████| 26/26 [00:01<00:00, 13.80it/s]\n"
     ]
    },
    {
     "name": "stdout",
     "output_type": "stream",
     "text": [
      "********验证阶段**********\n",
      "Epoch [44/200], Validation Loss: 0.3380\n",
      "Validation Accuracy: 0.6909\n",
      "Validation Precision: 0.8856\n",
      "Validation Recall: 0.8768\n",
      "Nar: 0.1311\n"
     ]
    },
    {
     "name": "stderr",
     "output_type": "stream",
     "text": [
      "Training process: 100%|██████████████████████████████████████████████████████████████| 206/206 [00:45<00:00,  4.54it/s]\n"
     ]
    },
    {
     "name": "stdout",
     "output_type": "stream",
     "text": [
      "********训练阶段**********\n",
      "Epoch [45/200], Train Loss: 0.2667\n"
     ]
    },
    {
     "name": "stderr",
     "output_type": "stream",
     "text": [
      "Validation process: 100%|██████████████████████████████████████████████████████████████| 26/26 [00:01<00:00, 15.88it/s]\n"
     ]
    },
    {
     "name": "stdout",
     "output_type": "stream",
     "text": [
      "********验证阶段**********\n",
      "Epoch [45/200], Validation Loss: 0.2672\n",
      "Validation Accuracy: 0.7217\n",
      "Validation Precision: 0.8980\n",
      "Validation Recall: 0.8822\n",
      "Nar: 0.1160\n",
      "最优模型参数更新\n"
     ]
    },
    {
     "name": "stderr",
     "output_type": "stream",
     "text": [
      "Training process: 100%|██████████████████████████████████████████████████████████████| 206/206 [00:39<00:00,  5.20it/s]\n"
     ]
    },
    {
     "name": "stdout",
     "output_type": "stream",
     "text": [
      "********训练阶段**********\n",
      "Epoch [46/200], Train Loss: 0.2620\n"
     ]
    },
    {
     "name": "stderr",
     "output_type": "stream",
     "text": [
      "Validation process: 100%|██████████████████████████████████████████████████████████████| 26/26 [00:01<00:00, 20.76it/s]\n"
     ]
    },
    {
     "name": "stdout",
     "output_type": "stream",
     "text": [
      "********验证阶段**********\n",
      "Epoch [46/200], Validation Loss: 0.2652\n",
      "Validation Accuracy: 0.7241\n",
      "Validation Precision: 0.9273\n",
      "Validation Recall: 0.8684\n",
      "Nar: 0.0788\n",
      "最优模型参数更新\n"
     ]
    },
    {
     "name": "stderr",
     "output_type": "stream",
     "text": [
      "Training process: 100%|██████████████████████████████████████████████████████████████| 206/206 [00:31<00:00,  6.46it/s]\n"
     ]
    },
    {
     "name": "stdout",
     "output_type": "stream",
     "text": [
      "********训练阶段**********\n",
      "Epoch [47/200], Train Loss: 0.2468\n"
     ]
    },
    {
     "name": "stderr",
     "output_type": "stream",
     "text": [
      "Validation process: 100%|██████████████████████████████████████████████████████████████| 26/26 [00:01<00:00, 19.67it/s]\n"
     ]
    },
    {
     "name": "stdout",
     "output_type": "stream",
     "text": [
      "********验证阶段**********\n",
      "Epoch [47/200], Validation Loss: 0.2382\n",
      "Validation Accuracy: 0.7438\n",
      "Validation Precision: 0.9175\n",
      "Validation Recall: 0.8936\n",
      "Nar: 0.0930\n",
      "最优模型参数更新\n"
     ]
    },
    {
     "name": "stderr",
     "output_type": "stream",
     "text": [
      "Training process: 100%|██████████████████████████████████████████████████████████████| 206/206 [00:33<00:00,  6.21it/s]\n"
     ]
    },
    {
     "name": "stdout",
     "output_type": "stream",
     "text": [
      "********训练阶段**********\n",
      "Epoch [48/200], Train Loss: 0.2452\n"
     ]
    },
    {
     "name": "stderr",
     "output_type": "stream",
     "text": [
      "Validation process: 100%|██████████████████████████████████████████████████████████████| 26/26 [00:01<00:00, 18.23it/s]\n"
     ]
    },
    {
     "name": "stdout",
     "output_type": "stream",
     "text": [
      "********验证阶段**********\n",
      "Epoch [48/200], Validation Loss: 0.2384\n",
      "Validation Accuracy: 0.7438\n",
      "Validation Precision: 0.9135\n",
      "Validation Recall: 0.8891\n",
      "Nar: 0.0974\n"
     ]
    },
    {
     "name": "stderr",
     "output_type": "stream",
     "text": [
      "Training process: 100%|██████████████████████████████████████████████████████████████| 206/206 [00:32<00:00,  6.43it/s]\n"
     ]
    },
    {
     "name": "stdout",
     "output_type": "stream",
     "text": [
      "********训练阶段**********\n",
      "Epoch [49/200], Train Loss: 0.2455\n"
     ]
    },
    {
     "name": "stderr",
     "output_type": "stream",
     "text": [
      "Validation process: 100%|██████████████████████████████████████████████████████████████| 26/26 [00:01<00:00, 22.05it/s]\n"
     ]
    },
    {
     "name": "stdout",
     "output_type": "stream",
     "text": [
      "********验证阶段**********\n",
      "Epoch [49/200], Validation Loss: 0.2441\n",
      "Validation Accuracy: 0.7266\n",
      "Validation Precision: 0.9095\n",
      "Validation Recall: 0.8768\n",
      "Nar: 0.1010\n"
     ]
    },
    {
     "name": "stderr",
     "output_type": "stream",
     "text": [
      "Training process: 100%|██████████████████████████████████████████████████████████████| 206/206 [00:34<00:00,  5.96it/s]\n"
     ]
    },
    {
     "name": "stdout",
     "output_type": "stream",
     "text": [
      "********训练阶段**********\n",
      "Epoch [50/200], Train Loss: 0.2421\n"
     ]
    },
    {
     "name": "stderr",
     "output_type": "stream",
     "text": [
      "Validation process: 100%|██████████████████████████████████████████████████████████████| 26/26 [00:01<00:00, 19.69it/s]\n"
     ]
    },
    {
     "name": "stdout",
     "output_type": "stream",
     "text": [
      "********验证阶段**********\n",
      "Epoch [50/200], Validation Loss: 0.2320\n",
      "Validation Accuracy: 0.7599\n",
      "Validation Precision: 0.9180\n",
      "Validation Recall: 0.8990\n",
      "Nar: 0.0930\n",
      "最优模型参数更新\n"
     ]
    },
    {
     "name": "stderr",
     "output_type": "stream",
     "text": [
      "Training process: 100%|██████████████████████████████████████████████████████████████| 206/206 [00:29<00:00,  6.94it/s]\n"
     ]
    },
    {
     "name": "stdout",
     "output_type": "stream",
     "text": [
      "********训练阶段**********\n",
      "Epoch [51/200], Train Loss: 0.2379\n"
     ]
    },
    {
     "name": "stderr",
     "output_type": "stream",
     "text": [
      "Validation process: 100%|██████████████████████████████████████████████████████████████| 26/26 [00:01<00:00, 23.00it/s]\n"
     ]
    },
    {
     "name": "stdout",
     "output_type": "stream",
     "text": [
      "********验证阶段**********\n",
      "Epoch [51/200], Validation Loss: 0.2314\n",
      "Validation Accuracy: 0.7599\n",
      "Validation Precision: 0.9080\n",
      "Validation Recall: 0.9135\n",
      "Nar: 0.1072\n"
     ]
    },
    {
     "name": "stderr",
     "output_type": "stream",
     "text": [
      "Training process: 100%|██████████████████████████████████████████████████████████████| 206/206 [00:29<00:00,  6.89it/s]\n"
     ]
    },
    {
     "name": "stdout",
     "output_type": "stream",
     "text": [
      "********训练阶段**********\n",
      "Epoch [52/200], Train Loss: 0.2337\n"
     ]
    },
    {
     "name": "stderr",
     "output_type": "stream",
     "text": [
      "Validation process: 100%|██████████████████████████████████████████████████████████████| 26/26 [00:01<00:00, 19.25it/s]\n"
     ]
    },
    {
     "name": "stdout",
     "output_type": "stream",
     "text": [
      "********验证阶段**********\n",
      "Epoch [52/200], Validation Loss: 0.2244\n",
      "Validation Accuracy: 0.7709\n",
      "Validation Precision: 0.9355\n",
      "Validation Recall: 0.8982\n",
      "Nar: 0.0717\n",
      "最优模型参数更新\n"
     ]
    },
    {
     "name": "stderr",
     "output_type": "stream",
     "text": [
      "Training process: 100%|██████████████████████████████████████████████████████████████| 206/206 [00:31<00:00,  6.64it/s]\n"
     ]
    },
    {
     "name": "stdout",
     "output_type": "stream",
     "text": [
      "********训练阶段**********\n",
      "Epoch [53/200], Train Loss: 0.2245\n"
     ]
    },
    {
     "name": "stderr",
     "output_type": "stream",
     "text": [
      "Validation process: 100%|██████████████████████████████████████████████████████████████| 26/26 [00:01<00:00, 23.92it/s]\n"
     ]
    },
    {
     "name": "stdout",
     "output_type": "stream",
     "text": [
      "********验证阶段**********\n",
      "Epoch [53/200], Validation Loss: 0.2176\n",
      "Validation Accuracy: 0.7648\n",
      "Validation Precision: 0.9197\n",
      "Validation Recall: 0.9112\n",
      "Nar: 0.0921\n"
     ]
    },
    {
     "name": "stderr",
     "output_type": "stream",
     "text": [
      "Training process: 100%|██████████████████████████████████████████████████████████████| 206/206 [00:32<00:00,  6.39it/s]\n"
     ]
    },
    {
     "name": "stdout",
     "output_type": "stream",
     "text": [
      "********训练阶段**********\n",
      "Epoch [54/200], Train Loss: 0.2240\n"
     ]
    },
    {
     "name": "stderr",
     "output_type": "stream",
     "text": [
      "Validation process: 100%|██████████████████████████████████████████████████████████████| 26/26 [00:01<00:00, 17.81it/s]\n"
     ]
    },
    {
     "name": "stdout",
     "output_type": "stream",
     "text": [
      "********验证阶段**********\n",
      "Epoch [54/200], Validation Loss: 0.2171\n",
      "Validation Accuracy: 0.7586\n",
      "Validation Precision: 0.9094\n",
      "Validation Recall: 0.9143\n",
      "Nar: 0.1054\n"
     ]
    },
    {
     "name": "stderr",
     "output_type": "stream",
     "text": [
      "Training process: 100%|██████████████████████████████████████████████████████████████| 206/206 [00:30<00:00,  6.81it/s]\n"
     ]
    },
    {
     "name": "stdout",
     "output_type": "stream",
     "text": [
      "********训练阶段**********\n",
      "Epoch [55/200], Train Loss: 0.2237\n"
     ]
    },
    {
     "name": "stderr",
     "output_type": "stream",
     "text": [
      "Validation process: 100%|██████████████████████████████████████████████████████████████| 26/26 [00:01<00:00, 21.77it/s]\n"
     ]
    },
    {
     "name": "stdout",
     "output_type": "stream",
     "text": [
      "********验证阶段**********\n",
      "Epoch [55/200], Validation Loss: 0.2211\n",
      "Validation Accuracy: 0.7709\n",
      "Validation Precision: 0.9273\n",
      "Validation Recall: 0.8975\n",
      "Nar: 0.0815\n"
     ]
    },
    {
     "name": "stderr",
     "output_type": "stream",
     "text": [
      "Training process: 100%|██████████████████████████████████████████████████████████████| 206/206 [00:31<00:00,  6.62it/s]\n"
     ]
    },
    {
     "name": "stdout",
     "output_type": "stream",
     "text": [
      "********训练阶段**********\n",
      "Epoch [56/200], Train Loss: 0.2173\n"
     ]
    },
    {
     "name": "stderr",
     "output_type": "stream",
     "text": [
      "Validation process: 100%|██████████████████████████████████████████████████████████████| 26/26 [00:01<00:00, 21.68it/s]\n"
     ]
    },
    {
     "name": "stdout",
     "output_type": "stream",
     "text": [
      "********验证阶段**********\n",
      "Epoch [56/200], Validation Loss: 0.2186\n",
      "Validation Accuracy: 0.7808\n",
      "Validation Precision: 0.9205\n",
      "Validation Recall: 0.9128\n",
      "Nar: 0.0912\n",
      "最优模型参数更新\n"
     ]
    },
    {
     "name": "stderr",
     "output_type": "stream",
     "text": [
      "Training process: 100%|██████████████████████████████████████████████████████████████| 206/206 [00:29<00:00,  6.97it/s]\n"
     ]
    },
    {
     "name": "stdout",
     "output_type": "stream",
     "text": [
      "********训练阶段**********\n",
      "Epoch [57/200], Train Loss: 0.2132\n"
     ]
    },
    {
     "name": "stderr",
     "output_type": "stream",
     "text": [
      "Validation process: 100%|██████████████████████████████████████████████████████████████| 26/26 [00:01<00:00, 20.14it/s]\n"
     ]
    },
    {
     "name": "stdout",
     "output_type": "stream",
     "text": [
      "********验证阶段**********\n",
      "Epoch [57/200], Validation Loss: 0.2610\n",
      "Validation Accuracy: 0.7672\n",
      "Validation Precision: 0.9109\n",
      "Validation Recall: 0.8914\n",
      "Nar: 0.1010\n"
     ]
    },
    {
     "name": "stderr",
     "output_type": "stream",
     "text": [
      "Training process: 100%|██████████████████████████████████████████████████████████████| 206/206 [00:31<00:00,  6.61it/s]\n"
     ]
    },
    {
     "name": "stdout",
     "output_type": "stream",
     "text": [
      "********训练阶段**********\n",
      "Epoch [58/200], Train Loss: 0.2107\n"
     ]
    },
    {
     "name": "stderr",
     "output_type": "stream",
     "text": [
      "Validation process: 100%|██████████████████████████████████████████████████████████████| 26/26 [00:01<00:00, 22.76it/s]\n"
     ]
    },
    {
     "name": "stdout",
     "output_type": "stream",
     "text": [
      "********验证阶段**********\n",
      "Epoch [58/200], Validation Loss: 0.2288\n",
      "Validation Accuracy: 0.7734\n",
      "Validation Precision: 0.9335\n",
      "Validation Recall: 0.8921\n",
      "Nar: 0.0735\n"
     ]
    },
    {
     "name": "stderr",
     "output_type": "stream",
     "text": [
      "Training process: 100%|██████████████████████████████████████████████████████████████| 206/206 [00:32<00:00,  6.42it/s]\n"
     ]
    },
    {
     "name": "stdout",
     "output_type": "stream",
     "text": [
      "********训练阶段**********\n",
      "Epoch [59/200], Train Loss: 0.2033\n"
     ]
    },
    {
     "name": "stderr",
     "output_type": "stream",
     "text": [
      "Validation process: 100%|██████████████████████████████████████████████████████████████| 26/26 [00:00<00:00, 27.81it/s]\n"
     ]
    },
    {
     "name": "stdout",
     "output_type": "stream",
     "text": [
      "********验证阶段**********\n",
      "Epoch [59/200], Validation Loss: 0.2319\n",
      "Validation Accuracy: 0.7685\n",
      "Validation Precision: 0.9194\n",
      "Validation Recall: 0.9082\n",
      "Nar: 0.0921\n"
     ]
    },
    {
     "name": "stderr",
     "output_type": "stream",
     "text": [
      "Training process: 100%|██████████████████████████████████████████████████████████████| 206/206 [00:29<00:00,  6.87it/s]\n"
     ]
    },
    {
     "name": "stdout",
     "output_type": "stream",
     "text": [
      "********训练阶段**********\n",
      "Epoch [60/200], Train Loss: 0.2067\n"
     ]
    },
    {
     "name": "stderr",
     "output_type": "stream",
     "text": [
      "Validation process: 100%|██████████████████████████████████████████████████████████████| 26/26 [00:00<00:00, 26.03it/s]\n"
     ]
    },
    {
     "name": "stdout",
     "output_type": "stream",
     "text": [
      "********验证阶段**********\n",
      "Epoch [60/200], Validation Loss: 0.1869\n",
      "Validation Accuracy: 0.7857\n",
      "Validation Precision: 0.9317\n",
      "Validation Recall: 0.9181\n",
      "Nar: 0.0779\n",
      "最优模型参数更新\n"
     ]
    },
    {
     "name": "stderr",
     "output_type": "stream",
     "text": [
      "Training process: 100%|██████████████████████████████████████████████████████████████| 206/206 [00:31<00:00,  6.58it/s]\n"
     ]
    },
    {
     "name": "stdout",
     "output_type": "stream",
     "text": [
      "********训练阶段**********\n",
      "Epoch [61/200], Train Loss: 0.2051\n"
     ]
    },
    {
     "name": "stderr",
     "output_type": "stream",
     "text": [
      "Validation process: 100%|██████████████████████████████████████████████████████████████| 26/26 [00:01<00:00, 21.83it/s]\n"
     ]
    },
    {
     "name": "stdout",
     "output_type": "stream",
     "text": [
      "********验证阶段**********\n",
      "Epoch [61/200], Validation Loss: 0.2046\n",
      "Validation Accuracy: 0.7833\n",
      "Validation Precision: 0.9609\n",
      "Validation Recall: 0.8837\n",
      "Nar: 0.0416\n"
     ]
    },
    {
     "name": "stderr",
     "output_type": "stream",
     "text": [
      "Training process: 100%|██████████████████████████████████████████████████████████████| 206/206 [00:38<00:00,  5.34it/s]\n"
     ]
    },
    {
     "name": "stdout",
     "output_type": "stream",
     "text": [
      "********训练阶段**********\n",
      "Epoch [62/200], Train Loss: 0.1988\n"
     ]
    },
    {
     "name": "stderr",
     "output_type": "stream",
     "text": [
      "Validation process: 100%|██████████████████████████████████████████████████████████████| 26/26 [00:01<00:00, 18.81it/s]\n"
     ]
    },
    {
     "name": "stdout",
     "output_type": "stream",
     "text": [
      "********验证阶段**********\n",
      "Epoch [62/200], Validation Loss: 0.1917\n",
      "Validation Accuracy: 0.8128\n",
      "Validation Precision: 0.9284\n",
      "Validation Recall: 0.9327\n",
      "Nar: 0.0833\n",
      "最优模型参数更新\n"
     ]
    },
    {
     "name": "stderr",
     "output_type": "stream",
     "text": [
      "Training process: 100%|██████████████████████████████████████████████████████████████| 206/206 [00:33<00:00,  6.09it/s]\n"
     ]
    },
    {
     "name": "stdout",
     "output_type": "stream",
     "text": [
      "********训练阶段**********\n",
      "Epoch [63/200], Train Loss: 0.1872\n"
     ]
    },
    {
     "name": "stderr",
     "output_type": "stream",
     "text": [
      "Validation process: 100%|██████████████████████████████████████████████████████████████| 26/26 [00:01<00:00, 19.28it/s]\n"
     ]
    },
    {
     "name": "stdout",
     "output_type": "stream",
     "text": [
      "********验证阶段**********\n",
      "Epoch [63/200], Validation Loss: 0.2302\n",
      "Validation Accuracy: 0.7759\n",
      "Validation Precision: 0.9022\n",
      "Validation Recall: 0.9319\n",
      "Nar: 0.1169\n"
     ]
    },
    {
     "name": "stderr",
     "output_type": "stream",
     "text": [
      "Training process: 100%|██████████████████████████████████████████████████████████████| 206/206 [00:30<00:00,  6.72it/s]\n"
     ]
    },
    {
     "name": "stdout",
     "output_type": "stream",
     "text": [
      "********训练阶段**********\n",
      "Epoch [64/200], Train Loss: 0.1907\n"
     ]
    },
    {
     "name": "stderr",
     "output_type": "stream",
     "text": [
      "Validation process: 100%|██████████████████████████████████████████████████████████████| 26/26 [00:00<00:00, 30.06it/s]\n"
     ]
    },
    {
     "name": "stdout",
     "output_type": "stream",
     "text": [
      "********验证阶段**********\n",
      "Epoch [64/200], Validation Loss: 0.2481\n",
      "Validation Accuracy: 0.7574\n",
      "Validation Precision: 0.8956\n",
      "Validation Recall: 0.9250\n",
      "Nar: 0.1249\n"
     ]
    },
    {
     "name": "stderr",
     "output_type": "stream",
     "text": [
      "Training process: 100%|██████████████████████████████████████████████████████████████| 206/206 [00:31<00:00,  6.64it/s]\n"
     ]
    },
    {
     "name": "stdout",
     "output_type": "stream",
     "text": [
      "********训练阶段**********\n",
      "Epoch [65/200], Train Loss: 0.1983\n"
     ]
    },
    {
     "name": "stderr",
     "output_type": "stream",
     "text": [
      "Validation process: 100%|██████████████████████████████████████████████████████████████| 26/26 [00:01<00:00, 21.80it/s]\n"
     ]
    },
    {
     "name": "stdout",
     "output_type": "stream",
     "text": [
      "********验证阶段**********\n",
      "Epoch [65/200], Validation Loss: 0.2050\n",
      "Validation Accuracy: 0.7734\n",
      "Validation Precision: 0.9154\n",
      "Validation Recall: 0.9189\n",
      "Nar: 0.0983\n"
     ]
    },
    {
     "name": "stderr",
     "output_type": "stream",
     "text": [
      "Training process: 100%|██████████████████████████████████████████████████████████████| 206/206 [00:31<00:00,  6.59it/s]\n"
     ]
    },
    {
     "name": "stdout",
     "output_type": "stream",
     "text": [
      "********训练阶段**********\n",
      "Epoch [66/200], Train Loss: 0.1863\n"
     ]
    },
    {
     "name": "stderr",
     "output_type": "stream",
     "text": [
      "Validation process: 100%|██████████████████████████████████████████████████████████████| 26/26 [00:01<00:00, 21.56it/s]\n"
     ]
    },
    {
     "name": "stdout",
     "output_type": "stream",
     "text": [
      "********验证阶段**********\n",
      "Epoch [66/200], Validation Loss: 0.1983\n",
      "Validation Accuracy: 0.7783\n",
      "Validation Precision: 0.9078\n",
      "Validation Recall: 0.9342\n",
      "Nar: 0.1098\n"
     ]
    },
    {
     "name": "stderr",
     "output_type": "stream",
     "text": [
      "Training process: 100%|██████████████████████████████████████████████████████████████| 206/206 [00:32<00:00,  6.43it/s]\n"
     ]
    },
    {
     "name": "stdout",
     "output_type": "stream",
     "text": [
      "********训练阶段**********\n",
      "Epoch [67/200], Train Loss: 0.1859\n"
     ]
    },
    {
     "name": "stderr",
     "output_type": "stream",
     "text": [
      "Validation process: 100%|██████████████████████████████████████████████████████████████| 26/26 [00:01<00:00, 20.11it/s]\n"
     ]
    },
    {
     "name": "stdout",
     "output_type": "stream",
     "text": [
      "********验证阶段**********\n",
      "Epoch [67/200], Validation Loss: 0.1770\n",
      "Validation Accuracy: 0.7968\n",
      "Validation Precision: 0.9210\n",
      "Validation Recall: 0.9365\n",
      "Nar: 0.0930\n"
     ]
    },
    {
     "name": "stderr",
     "output_type": "stream",
     "text": [
      "Training process: 100%|██████████████████████████████████████████████████████████████| 206/206 [00:30<00:00,  6.70it/s]\n"
     ]
    },
    {
     "name": "stdout",
     "output_type": "stream",
     "text": [
      "********训练阶段**********\n",
      "Epoch [68/200], Train Loss: 0.1819\n"
     ]
    },
    {
     "name": "stderr",
     "output_type": "stream",
     "text": [
      "Validation process: 100%|██████████████████████████████████████████████████████████████| 26/26 [00:01<00:00, 24.05it/s]\n"
     ]
    },
    {
     "name": "stdout",
     "output_type": "stream",
     "text": [
      "********验证阶段**********\n",
      "Epoch [68/200], Validation Loss: 0.1851\n",
      "Validation Accuracy: 0.7968\n",
      "Validation Precision: 0.9353\n",
      "Validation Recall: 0.9181\n",
      "Nar: 0.0735\n"
     ]
    },
    {
     "name": "stderr",
     "output_type": "stream",
     "text": [
      "Training process: 100%|██████████████████████████████████████████████████████████████| 206/206 [00:30<00:00,  6.80it/s]\n"
     ]
    },
    {
     "name": "stdout",
     "output_type": "stream",
     "text": [
      "********训练阶段**********\n",
      "Epoch [69/200], Train Loss: 0.1745\n"
     ]
    },
    {
     "name": "stderr",
     "output_type": "stream",
     "text": [
      "Validation process: 100%|██████████████████████████████████████████████████████████████| 26/26 [00:01<00:00, 21.59it/s]\n"
     ]
    },
    {
     "name": "stdout",
     "output_type": "stream",
     "text": [
      "********验证阶段**********\n",
      "Epoch [69/200], Validation Loss: 0.1848\n",
      "Validation Accuracy: 0.7980\n",
      "Validation Precision: 0.9230\n",
      "Validation Recall: 0.9258\n",
      "Nar: 0.0895\n"
     ]
    },
    {
     "name": "stderr",
     "output_type": "stream",
     "text": [
      "Training process: 100%|██████████████████████████████████████████████████████████████| 206/206 [00:29<00:00,  6.99it/s]\n"
     ]
    },
    {
     "name": "stdout",
     "output_type": "stream",
     "text": [
      "********训练阶段**********\n",
      "Epoch [70/200], Train Loss: 0.1787\n"
     ]
    },
    {
     "name": "stderr",
     "output_type": "stream",
     "text": [
      "Validation process: 100%|██████████████████████████████████████████████████████████████| 26/26 [00:01<00:00, 22.22it/s]\n"
     ]
    },
    {
     "name": "stdout",
     "output_type": "stream",
     "text": [
      "********验证阶段**********\n",
      "Epoch [70/200], Validation Loss: 0.1882\n",
      "Validation Accuracy: 0.7980\n",
      "Validation Precision: 0.9360\n",
      "Validation Recall: 0.9174\n",
      "Nar: 0.0726\n"
     ]
    },
    {
     "name": "stderr",
     "output_type": "stream",
     "text": [
      "Training process: 100%|██████████████████████████████████████████████████████████████| 206/206 [00:31<00:00,  6.44it/s]\n"
     ]
    },
    {
     "name": "stdout",
     "output_type": "stream",
     "text": [
      "********训练阶段**********\n",
      "Epoch [71/200], Train Loss: 0.1774\n"
     ]
    },
    {
     "name": "stderr",
     "output_type": "stream",
     "text": [
      "Validation process: 100%|██████████████████████████████████████████████████████████████| 26/26 [00:01<00:00, 20.55it/s]\n"
     ]
    },
    {
     "name": "stdout",
     "output_type": "stream",
     "text": [
      "********验证阶段**********\n",
      "Epoch [71/200], Validation Loss: 0.1898\n",
      "Validation Accuracy: 0.8103\n",
      "Validation Precision: 0.9362\n",
      "Validation Recall: 0.9212\n",
      "Nar: 0.0726\n"
     ]
    },
    {
     "name": "stderr",
     "output_type": "stream",
     "text": [
      "Training process: 100%|██████████████████████████████████████████████████████████████| 206/206 [00:31<00:00,  6.64it/s]\n"
     ]
    },
    {
     "name": "stdout",
     "output_type": "stream",
     "text": [
      "********训练阶段**********\n",
      "Epoch [72/200], Train Loss: 0.1790\n"
     ]
    },
    {
     "name": "stderr",
     "output_type": "stream",
     "text": [
      "Validation process: 100%|██████████████████████████████████████████████████████████████| 26/26 [00:01<00:00, 19.35it/s]\n"
     ]
    },
    {
     "name": "stdout",
     "output_type": "stream",
     "text": [
      "********验证阶段**********\n",
      "Epoch [72/200], Validation Loss: 0.1809\n",
      "Validation Accuracy: 0.8177\n",
      "Validation Precision: 0.9531\n",
      "Validation Recall: 0.9174\n",
      "Nar: 0.0523\n",
      "最优模型参数更新\n"
     ]
    },
    {
     "name": "stderr",
     "output_type": "stream",
     "text": [
      "Training process: 100%|██████████████████████████████████████████████████████████████| 206/206 [00:31<00:00,  6.52it/s]\n"
     ]
    },
    {
     "name": "stdout",
     "output_type": "stream",
     "text": [
      "********训练阶段**********\n",
      "Epoch [73/200], Train Loss: 0.1794\n"
     ]
    },
    {
     "name": "stderr",
     "output_type": "stream",
     "text": [
      "Validation process: 100%|██████████████████████████████████████████████████████████████| 26/26 [00:01<00:00, 18.45it/s]\n"
     ]
    },
    {
     "name": "stdout",
     "output_type": "stream",
     "text": [
      "********验证阶段**********\n",
      "Epoch [73/200], Validation Loss: 0.1843\n",
      "Validation Accuracy: 0.8177\n",
      "Validation Precision: 0.9427\n",
      "Validation Recall: 0.9181\n",
      "Nar: 0.0647\n"
     ]
    },
    {
     "name": "stderr",
     "output_type": "stream",
     "text": [
      "Training process: 100%|██████████████████████████████████████████████████████████████| 206/206 [00:29<00:00,  6.88it/s]\n"
     ]
    },
    {
     "name": "stdout",
     "output_type": "stream",
     "text": [
      "********训练阶段**********\n",
      "Epoch [74/200], Train Loss: 0.1620\n"
     ]
    },
    {
     "name": "stderr",
     "output_type": "stream",
     "text": [
      "Validation process: 100%|██████████████████████████████████████████████████████████████| 26/26 [00:01<00:00, 22.62it/s]\n"
     ]
    },
    {
     "name": "stdout",
     "output_type": "stream",
     "text": [
      "********验证阶段**********\n",
      "Epoch [74/200], Validation Loss: 0.1785\n",
      "Validation Accuracy: 0.8165\n",
      "Validation Precision: 0.9493\n",
      "Validation Recall: 0.9174\n",
      "Nar: 0.0567\n"
     ]
    },
    {
     "name": "stderr",
     "output_type": "stream",
     "text": [
      "Training process: 100%|██████████████████████████████████████████████████████████████| 206/206 [00:31<00:00,  6.59it/s]\n"
     ]
    },
    {
     "name": "stdout",
     "output_type": "stream",
     "text": [
      "********训练阶段**********\n",
      "Epoch [75/200], Train Loss: 0.1651\n"
     ]
    },
    {
     "name": "stderr",
     "output_type": "stream",
     "text": [
      "Validation process: 100%|██████████████████████████████████████████████████████████████| 26/26 [00:01<00:00, 20.86it/s]\n"
     ]
    },
    {
     "name": "stdout",
     "output_type": "stream",
     "text": [
      "********验证阶段**********\n",
      "Epoch [75/200], Validation Loss: 0.1734\n",
      "Validation Accuracy: 0.8116\n",
      "Validation Precision: 0.9177\n",
      "Validation Recall: 0.9472\n",
      "Nar: 0.0983\n"
     ]
    },
    {
     "name": "stderr",
     "output_type": "stream",
     "text": [
      "Training process: 100%|██████████████████████████████████████████████████████████████| 206/206 [00:27<00:00,  7.46it/s]\n"
     ]
    },
    {
     "name": "stdout",
     "output_type": "stream",
     "text": [
      "********训练阶段**********\n",
      "Epoch [76/200], Train Loss: 0.1574\n"
     ]
    },
    {
     "name": "stderr",
     "output_type": "stream",
     "text": [
      "Validation process: 100%|██████████████████████████████████████████████████████████████| 26/26 [00:01<00:00, 24.73it/s]\n"
     ]
    },
    {
     "name": "stdout",
     "output_type": "stream",
     "text": [
      "********验证阶段**********\n",
      "Epoch [76/200], Validation Loss: 0.1672\n",
      "Validation Accuracy: 0.8276\n",
      "Validation Precision: 0.9354\n",
      "Validation Recall: 0.9411\n",
      "Nar: 0.0753\n",
      "最优模型参数更新\n"
     ]
    },
    {
     "name": "stderr",
     "output_type": "stream",
     "text": [
      "Training process: 100%|██████████████████████████████████████████████████████████████| 206/206 [00:28<00:00,  7.14it/s]\n"
     ]
    },
    {
     "name": "stdout",
     "output_type": "stream",
     "text": [
      "********训练阶段**********\n",
      "Epoch [77/200], Train Loss: 0.1606\n"
     ]
    },
    {
     "name": "stderr",
     "output_type": "stream",
     "text": [
      "Validation process: 100%|██████████████████████████████████████████████████████████████| 26/26 [00:01<00:00, 21.10it/s]\n"
     ]
    },
    {
     "name": "stdout",
     "output_type": "stream",
     "text": [
      "********验证阶段**********\n",
      "Epoch [77/200], Validation Loss: 0.1686\n",
      "Validation Accuracy: 0.8165\n",
      "Validation Precision: 0.9313\n",
      "Validation Recall: 0.9334\n",
      "Nar: 0.0797\n"
     ]
    },
    {
     "name": "stderr",
     "output_type": "stream",
     "text": [
      "Training process: 100%|██████████████████████████████████████████████████████████████| 206/206 [00:29<00:00,  7.08it/s]\n"
     ]
    },
    {
     "name": "stdout",
     "output_type": "stream",
     "text": [
      "********训练阶段**********\n",
      "Epoch [78/200], Train Loss: 0.1579\n"
     ]
    },
    {
     "name": "stderr",
     "output_type": "stream",
     "text": [
      "Validation process: 100%|██████████████████████████████████████████████████████████████| 26/26 [00:01<00:00, 19.96it/s]\n"
     ]
    },
    {
     "name": "stdout",
     "output_type": "stream",
     "text": [
      "********验证阶段**********\n",
      "Epoch [78/200], Validation Loss: 0.1722\n",
      "Validation Accuracy: 0.8128\n",
      "Validation Precision: 0.9520\n",
      "Validation Recall: 0.9112\n",
      "Nar: 0.0531\n"
     ]
    },
    {
     "name": "stderr",
     "output_type": "stream",
     "text": [
      "Training process: 100%|██████████████████████████████████████████████████████████████| 206/206 [00:28<00:00,  7.35it/s]\n"
     ]
    },
    {
     "name": "stdout",
     "output_type": "stream",
     "text": [
      "********训练阶段**********\n",
      "Epoch [79/200], Train Loss: 0.1607\n"
     ]
    },
    {
     "name": "stderr",
     "output_type": "stream",
     "text": [
      "Validation process: 100%|██████████████████████████████████████████████████████████████| 26/26 [00:01<00:00, 22.03it/s]\n"
     ]
    },
    {
     "name": "stdout",
     "output_type": "stream",
     "text": [
      "********验证阶段**********\n",
      "Epoch [79/200], Validation Loss: 0.1712\n",
      "Validation Accuracy: 0.8239\n",
      "Validation Precision: 0.9420\n",
      "Validation Recall: 0.9311\n",
      "Nar: 0.0664\n"
     ]
    },
    {
     "name": "stderr",
     "output_type": "stream",
     "text": [
      "Training process: 100%|██████████████████████████████████████████████████████████████| 206/206 [00:28<00:00,  7.12it/s]\n"
     ]
    },
    {
     "name": "stdout",
     "output_type": "stream",
     "text": [
      "********训练阶段**********\n",
      "Epoch [80/200], Train Loss: 0.1569\n"
     ]
    },
    {
     "name": "stderr",
     "output_type": "stream",
     "text": [
      "Validation process: 100%|██████████████████████████████████████████████████████████████| 26/26 [00:00<00:00, 26.55it/s]\n"
     ]
    },
    {
     "name": "stdout",
     "output_type": "stream",
     "text": [
      "********验证阶段**********\n",
      "Epoch [80/200], Validation Loss: 0.1862\n",
      "Validation Accuracy: 0.8177\n",
      "Validation Precision: 0.9203\n",
      "Validation Recall: 0.9457\n",
      "Nar: 0.0948\n"
     ]
    },
    {
     "name": "stderr",
     "output_type": "stream",
     "text": [
      "Training process: 100%|██████████████████████████████████████████████████████████████| 206/206 [00:28<00:00,  7.11it/s]\n"
     ]
    },
    {
     "name": "stdout",
     "output_type": "stream",
     "text": [
      "********训练阶段**********\n",
      "Epoch [81/200], Train Loss: 0.1511\n"
     ]
    },
    {
     "name": "stderr",
     "output_type": "stream",
     "text": [
      "Validation process: 100%|██████████████████████████████████████████████████████████████| 26/26 [00:00<00:00, 26.01it/s]\n"
     ]
    },
    {
     "name": "stdout",
     "output_type": "stream",
     "text": [
      "********验证阶段**********\n",
      "Epoch [81/200], Validation Loss: 0.1729\n",
      "Validation Accuracy: 0.8165\n",
      "Validation Precision: 0.9190\n",
      "Validation Recall: 0.9549\n",
      "Nar: 0.0974\n"
     ]
    },
    {
     "name": "stderr",
     "output_type": "stream",
     "text": [
      "Training process: 100%|██████████████████████████████████████████████████████████████| 206/206 [00:28<00:00,  7.34it/s]\n"
     ]
    },
    {
     "name": "stdout",
     "output_type": "stream",
     "text": [
      "********训练阶段**********\n",
      "Epoch [82/200], Train Loss: 0.1553\n"
     ]
    },
    {
     "name": "stderr",
     "output_type": "stream",
     "text": [
      "Validation process: 100%|██████████████████████████████████████████████████████████████| 26/26 [00:01<00:00, 21.80it/s]\n"
     ]
    },
    {
     "name": "stdout",
     "output_type": "stream",
     "text": [
      "********验证阶段**********\n",
      "Epoch [82/200], Validation Loss: 0.1640\n",
      "Validation Accuracy: 0.8276\n",
      "Validation Precision: 0.9511\n",
      "Validation Recall: 0.9235\n",
      "Nar: 0.0549\n"
     ]
    },
    {
     "name": "stderr",
     "output_type": "stream",
     "text": [
      "Training process: 100%|██████████████████████████████████████████████████████████████| 206/206 [00:29<00:00,  6.87it/s]\n"
     ]
    },
    {
     "name": "stdout",
     "output_type": "stream",
     "text": [
      "********训练阶段**********\n",
      "Epoch [83/200], Train Loss: 0.1512\n"
     ]
    },
    {
     "name": "stderr",
     "output_type": "stream",
     "text": [
      "Validation process: 100%|██████████████████████████████████████████████████████████████| 26/26 [00:01<00:00, 23.59it/s]\n"
     ]
    },
    {
     "name": "stdout",
     "output_type": "stream",
     "text": [
      "********验证阶段**********\n",
      "Epoch [83/200], Validation Loss: 0.2065\n",
      "Validation Accuracy: 0.8202\n",
      "Validation Precision: 0.9391\n",
      "Validation Recall: 0.9197\n",
      "Nar: 0.0691\n"
     ]
    },
    {
     "name": "stderr",
     "output_type": "stream",
     "text": [
      "Training process: 100%|██████████████████████████████████████████████████████████████| 206/206 [00:32<00:00,  6.32it/s]\n"
     ]
    },
    {
     "name": "stdout",
     "output_type": "stream",
     "text": [
      "********训练阶段**********\n",
      "Epoch [84/200], Train Loss: 0.1604\n"
     ]
    },
    {
     "name": "stderr",
     "output_type": "stream",
     "text": [
      "Validation process: 100%|██████████████████████████████████████████████████████████████| 26/26 [00:01<00:00, 24.01it/s]\n"
     ]
    },
    {
     "name": "stdout",
     "output_type": "stream",
     "text": [
      "********验证阶段**********\n",
      "Epoch [84/200], Validation Loss: 0.1551\n",
      "Validation Accuracy: 0.8374\n",
      "Validation Precision: 0.9398\n",
      "Validation Recall: 0.9441\n",
      "Nar: 0.0700\n",
      "最优模型参数更新\n"
     ]
    },
    {
     "name": "stderr",
     "output_type": "stream",
     "text": [
      "Training process: 100%|██████████████████████████████████████████████████████████████| 206/206 [00:29<00:00,  7.00it/s]\n"
     ]
    },
    {
     "name": "stdout",
     "output_type": "stream",
     "text": [
      "********训练阶段**********\n",
      "Epoch [85/200], Train Loss: 0.1477\n"
     ]
    },
    {
     "name": "stderr",
     "output_type": "stream",
     "text": [
      "Validation process: 100%|██████████████████████████████████████████████████████████████| 26/26 [00:01<00:00, 22.55it/s]\n"
     ]
    },
    {
     "name": "stdout",
     "output_type": "stream",
     "text": [
      "********验证阶段**********\n",
      "Epoch [85/200], Validation Loss: 0.1739\n",
      "Validation Accuracy: 0.8387\n",
      "Validation Precision: 0.9481\n",
      "Validation Recall: 0.9365\n",
      "Nar: 0.0593\n",
      "最优模型参数更新\n"
     ]
    },
    {
     "name": "stderr",
     "output_type": "stream",
     "text": [
      "Training process: 100%|██████████████████████████████████████████████████████████████| 206/206 [00:28<00:00,  7.31it/s]\n"
     ]
    },
    {
     "name": "stdout",
     "output_type": "stream",
     "text": [
      "********训练阶段**********\n",
      "Epoch [86/200], Train Loss: 0.1420\n"
     ]
    },
    {
     "name": "stderr",
     "output_type": "stream",
     "text": [
      "Validation process: 100%|██████████████████████████████████████████████████████████████| 26/26 [00:01<00:00, 22.01it/s]\n"
     ]
    },
    {
     "name": "stdout",
     "output_type": "stream",
     "text": [
      "********验证阶段**********\n",
      "Epoch [86/200], Validation Loss: 0.1756\n",
      "Validation Accuracy: 0.8251\n",
      "Validation Precision: 0.9363\n",
      "Validation Recall: 0.9342\n",
      "Nar: 0.0735\n"
     ]
    },
    {
     "name": "stderr",
     "output_type": "stream",
     "text": [
      "Training process: 100%|██████████████████████████████████████████████████████████████| 206/206 [00:28<00:00,  7.11it/s]\n"
     ]
    },
    {
     "name": "stdout",
     "output_type": "stream",
     "text": [
      "********训练阶段**********\n",
      "Epoch [87/200], Train Loss: 0.1477\n"
     ]
    },
    {
     "name": "stderr",
     "output_type": "stream",
     "text": [
      "Validation process: 100%|██████████████████████████████████████████████████████████████| 26/26 [00:01<00:00, 23.40it/s]\n"
     ]
    },
    {
     "name": "stdout",
     "output_type": "stream",
     "text": [
      "********验证阶段**********\n",
      "Epoch [87/200], Validation Loss: 0.1504\n",
      "Validation Accuracy: 0.8522\n",
      "Validation Precision: 0.9375\n",
      "Validation Recall: 0.9533\n",
      "Nar: 0.0735\n",
      "最优模型参数更新\n"
     ]
    },
    {
     "name": "stderr",
     "output_type": "stream",
     "text": [
      "Training process: 100%|██████████████████████████████████████████████████████████████| 206/206 [00:28<00:00,  7.15it/s]\n"
     ]
    },
    {
     "name": "stdout",
     "output_type": "stream",
     "text": [
      "********训练阶段**********\n",
      "Epoch [88/200], Train Loss: 0.1402\n"
     ]
    },
    {
     "name": "stderr",
     "output_type": "stream",
     "text": [
      "Validation process: 100%|██████████████████████████████████████████████████████████████| 26/26 [00:01<00:00, 25.44it/s]\n"
     ]
    },
    {
     "name": "stdout",
     "output_type": "stream",
     "text": [
      "********验证阶段**********\n",
      "Epoch [88/200], Validation Loss: 0.1621\n",
      "Validation Accuracy: 0.8264\n",
      "Validation Precision: 0.9313\n",
      "Validation Recall: 0.9441\n",
      "Nar: 0.0806\n"
     ]
    },
    {
     "name": "stderr",
     "output_type": "stream",
     "text": [
      "Training process: 100%|██████████████████████████████████████████████████████████████| 206/206 [00:29<00:00,  6.96it/s]\n"
     ]
    },
    {
     "name": "stdout",
     "output_type": "stream",
     "text": [
      "********训练阶段**********\n",
      "Epoch [89/200], Train Loss: 0.1429\n"
     ]
    },
    {
     "name": "stderr",
     "output_type": "stream",
     "text": [
      "Validation process: 100%|██████████████████████████████████████████████████████████████| 26/26 [00:01<00:00, 24.98it/s]\n"
     ]
    },
    {
     "name": "stdout",
     "output_type": "stream",
     "text": [
      "********验证阶段**********\n",
      "Epoch [89/200], Validation Loss: 0.1804\n",
      "Validation Accuracy: 0.8054\n",
      "Validation Precision: 0.9242\n",
      "Validation Recall: 0.9334\n",
      "Nar: 0.0886\n"
     ]
    },
    {
     "name": "stderr",
     "output_type": "stream",
     "text": [
      "Training process: 100%|██████████████████████████████████████████████████████████████| 206/206 [00:27<00:00,  7.59it/s]\n"
     ]
    },
    {
     "name": "stdout",
     "output_type": "stream",
     "text": [
      "********训练阶段**********\n",
      "Epoch [90/200], Train Loss: 0.1422\n"
     ]
    },
    {
     "name": "stderr",
     "output_type": "stream",
     "text": [
      "Validation process: 100%|██████████████████████████████████████████████████████████████| 26/26 [00:01<00:00, 23.31it/s]\n"
     ]
    },
    {
     "name": "stdout",
     "output_type": "stream",
     "text": [
      "********验证阶段**********\n",
      "Epoch [90/200], Validation Loss: 0.1510\n",
      "Validation Accuracy: 0.8337\n",
      "Validation Precision: 0.9273\n",
      "Validation Recall: 0.9564\n",
      "Nar: 0.0868\n"
     ]
    },
    {
     "name": "stderr",
     "output_type": "stream",
     "text": [
      "Training process: 100%|██████████████████████████████████████████████████████████████| 206/206 [00:30<00:00,  6.82it/s]\n"
     ]
    },
    {
     "name": "stdout",
     "output_type": "stream",
     "text": [
      "********训练阶段**********\n",
      "Epoch [91/200], Train Loss: 0.1359\n"
     ]
    },
    {
     "name": "stderr",
     "output_type": "stream",
     "text": [
      "Validation process: 100%|██████████████████████████████████████████████████████████████| 26/26 [00:01<00:00, 24.18it/s]\n"
     ]
    },
    {
     "name": "stdout",
     "output_type": "stream",
     "text": [
      "********验证阶段**********\n",
      "Epoch [91/200], Validation Loss: 0.1881\n",
      "Validation Accuracy: 0.8559\n",
      "Validation Precision: 0.9419\n",
      "Validation Recall: 0.9419\n",
      "Nar: 0.0673\n",
      "最优模型参数更新\n"
     ]
    },
    {
     "name": "stderr",
     "output_type": "stream",
     "text": [
      "Training process: 100%|██████████████████████████████████████████████████████████████| 206/206 [00:30<00:00,  6.67it/s]\n"
     ]
    },
    {
     "name": "stdout",
     "output_type": "stream",
     "text": [
      "********训练阶段**********\n",
      "Epoch [92/200], Train Loss: 0.1284\n"
     ]
    },
    {
     "name": "stderr",
     "output_type": "stream",
     "text": [
      "Validation process: 100%|██████████████████████████████████████████████████████████████| 26/26 [00:01<00:00, 20.36it/s]\n"
     ]
    },
    {
     "name": "stdout",
     "output_type": "stream",
     "text": [
      "********验证阶段**********\n",
      "Epoch [92/200], Validation Loss: 0.1637\n",
      "Validation Accuracy: 0.8448\n",
      "Validation Precision: 0.9693\n",
      "Validation Recall: 0.9181\n",
      "Nar: 0.0337\n"
     ]
    },
    {
     "name": "stderr",
     "output_type": "stream",
     "text": [
      "Training process: 100%|██████████████████████████████████████████████████████████████| 206/206 [00:28<00:00,  7.13it/s]\n"
     ]
    },
    {
     "name": "stdout",
     "output_type": "stream",
     "text": [
      "********训练阶段**********\n",
      "Epoch [93/200], Train Loss: 0.1376\n"
     ]
    },
    {
     "name": "stderr",
     "output_type": "stream",
     "text": [
      "Validation process: 100%|██████████████████████████████████████████████████████████████| 26/26 [00:01<00:00, 22.37it/s]\n"
     ]
    },
    {
     "name": "stdout",
     "output_type": "stream",
     "text": [
      "********验证阶段**********\n",
      "Epoch [93/200], Validation Loss: 0.1710\n",
      "Validation Accuracy: 0.8054\n",
      "Validation Precision: 0.9193\n",
      "Validation Recall: 0.9495\n",
      "Nar: 0.0965\n"
     ]
    },
    {
     "name": "stderr",
     "output_type": "stream",
     "text": [
      "Training process: 100%|██████████████████████████████████████████████████████████████| 206/206 [00:27<00:00,  7.44it/s]\n"
     ]
    },
    {
     "name": "stdout",
     "output_type": "stream",
     "text": [
      "********训练阶段**********\n",
      "Epoch [94/200], Train Loss: 0.1355\n"
     ]
    },
    {
     "name": "stderr",
     "output_type": "stream",
     "text": [
      "Validation process: 100%|██████████████████████████████████████████████████████████████| 26/26 [00:01<00:00, 23.52it/s]\n"
     ]
    },
    {
     "name": "stdout",
     "output_type": "stream",
     "text": [
      "********验证阶段**********\n",
      "Epoch [94/200], Validation Loss: 0.1594\n",
      "Validation Accuracy: 0.8239\n",
      "Validation Precision: 0.9214\n",
      "Validation Recall: 0.9602\n",
      "Nar: 0.0948\n"
     ]
    },
    {
     "name": "stderr",
     "output_type": "stream",
     "text": [
      "Training process: 100%|██████████████████████████████████████████████████████████████| 206/206 [00:28<00:00,  7.19it/s]\n"
     ]
    },
    {
     "name": "stdout",
     "output_type": "stream",
     "text": [
      "********训练阶段**********\n",
      "Epoch [95/200], Train Loss: 0.1377\n"
     ]
    },
    {
     "name": "stderr",
     "output_type": "stream",
     "text": [
      "Validation process: 100%|██████████████████████████████████████████████████████████████| 26/26 [00:01<00:00, 22.41it/s]\n"
     ]
    },
    {
     "name": "stdout",
     "output_type": "stream",
     "text": [
      "********验证阶段**********\n",
      "Epoch [95/200], Validation Loss: 0.1356\n",
      "Validation Accuracy: 0.8707\n",
      "Validation Precision: 0.9562\n",
      "Validation Recall: 0.9510\n",
      "Nar: 0.0505\n",
      "最优模型参数更新\n"
     ]
    },
    {
     "name": "stderr",
     "output_type": "stream",
     "text": [
      "Training process: 100%|██████████████████████████████████████████████████████████████| 206/206 [00:28<00:00,  7.23it/s]\n"
     ]
    },
    {
     "name": "stdout",
     "output_type": "stream",
     "text": [
      "********训练阶段**********\n",
      "Epoch [96/200], Train Loss: 0.1406\n"
     ]
    },
    {
     "name": "stderr",
     "output_type": "stream",
     "text": [
      "Validation process: 100%|██████████████████████████████████████████████████████████████| 26/26 [00:00<00:00, 27.53it/s]\n"
     ]
    },
    {
     "name": "stdout",
     "output_type": "stream",
     "text": [
      "********验证阶段**********\n",
      "Epoch [96/200], Validation Loss: 0.1442\n",
      "Validation Accuracy: 0.8436\n",
      "Validation Precision: 0.9497\n",
      "Validation Recall: 0.9388\n",
      "Nar: 0.0576\n"
     ]
    },
    {
     "name": "stderr",
     "output_type": "stream",
     "text": [
      "Training process: 100%|██████████████████████████████████████████████████████████████| 206/206 [00:28<00:00,  7.25it/s]\n"
     ]
    },
    {
     "name": "stdout",
     "output_type": "stream",
     "text": [
      "********训练阶段**********\n",
      "Epoch [97/200], Train Loss: 0.1320\n"
     ]
    },
    {
     "name": "stderr",
     "output_type": "stream",
     "text": [
      "Validation process: 100%|██████████████████████████████████████████████████████████████| 26/26 [00:01<00:00, 20.38it/s]\n"
     ]
    },
    {
     "name": "stdout",
     "output_type": "stream",
     "text": [
      "********验证阶段**********\n",
      "Epoch [97/200], Validation Loss: 0.1775\n",
      "Validation Accuracy: 0.7968\n",
      "Validation Precision: 0.9116\n",
      "Validation Recall: 0.9464\n",
      "Nar: 0.1063\n"
     ]
    },
    {
     "name": "stderr",
     "output_type": "stream",
     "text": [
      "Training process: 100%|██████████████████████████████████████████████████████████████| 206/206 [00:28<00:00,  7.16it/s]\n"
     ]
    },
    {
     "name": "stdout",
     "output_type": "stream",
     "text": [
      "********训练阶段**********\n",
      "Epoch [98/200], Train Loss: 0.1304\n"
     ]
    },
    {
     "name": "stderr",
     "output_type": "stream",
     "text": [
      "Validation process: 100%|██████████████████████████████████████████████████████████████| 26/26 [00:01<00:00, 25.71it/s]\n"
     ]
    },
    {
     "name": "stdout",
     "output_type": "stream",
     "text": [
      "********验证阶段**********\n",
      "Epoch [98/200], Validation Loss: 0.1511\n",
      "Validation Accuracy: 0.8571\n",
      "Validation Precision: 0.9571\n",
      "Validation Recall: 0.9388\n",
      "Nar: 0.0487\n"
     ]
    },
    {
     "name": "stderr",
     "output_type": "stream",
     "text": [
      "Training process: 100%|██████████████████████████████████████████████████████████████| 206/206 [00:28<00:00,  7.16it/s]\n"
     ]
    },
    {
     "name": "stdout",
     "output_type": "stream",
     "text": [
      "********训练阶段**********\n",
      "Epoch [99/200], Train Loss: 0.1243\n"
     ]
    },
    {
     "name": "stderr",
     "output_type": "stream",
     "text": [
      "Validation process: 100%|██████████████████████████████████████████████████████████████| 26/26 [00:01<00:00, 22.05it/s]\n"
     ]
    },
    {
     "name": "stdout",
     "output_type": "stream",
     "text": [
      "********验证阶段**********\n",
      "Epoch [99/200], Validation Loss: 0.1519\n",
      "Validation Accuracy: 0.8658\n",
      "Validation Precision: 0.9476\n",
      "Validation Recall: 0.9549\n",
      "Nar: 0.0611\n"
     ]
    },
    {
     "name": "stderr",
     "output_type": "stream",
     "text": [
      "Training process: 100%|██████████████████████████████████████████████████████████████| 206/206 [00:28<00:00,  7.19it/s]\n"
     ]
    },
    {
     "name": "stdout",
     "output_type": "stream",
     "text": [
      "********训练阶段**********\n",
      "Epoch [100/200], Train Loss: 0.1327\n"
     ]
    },
    {
     "name": "stderr",
     "output_type": "stream",
     "text": [
      "Validation process: 100%|██████████████████████████████████████████████████████████████| 26/26 [00:01<00:00, 21.30it/s]\n"
     ]
    },
    {
     "name": "stdout",
     "output_type": "stream",
     "text": [
      "********验证阶段**********\n",
      "Epoch [100/200], Validation Loss: 0.1291\n",
      "Validation Accuracy: 0.8707\n",
      "Validation Precision: 0.9548\n",
      "Validation Recall: 0.9533\n",
      "Nar: 0.0523\n"
     ]
    },
    {
     "name": "stderr",
     "output_type": "stream",
     "text": [
      "Training process: 100%|██████████████████████████████████████████████████████████████| 206/206 [00:28<00:00,  7.14it/s]\n"
     ]
    },
    {
     "name": "stdout",
     "output_type": "stream",
     "text": [
      "********训练阶段**********\n",
      "Epoch [101/200], Train Loss: 0.1248\n"
     ]
    },
    {
     "name": "stderr",
     "output_type": "stream",
     "text": [
      "Validation process: 100%|██████████████████████████████████████████████████████████████| 26/26 [00:01<00:00, 22.50it/s]\n"
     ]
    },
    {
     "name": "stdout",
     "output_type": "stream",
     "text": [
      "********验证阶段**********\n",
      "Epoch [101/200], Validation Loss: 0.1395\n",
      "Validation Accuracy: 0.8350\n",
      "Validation Precision: 0.9290\n",
      "Validation Recall: 0.9610\n",
      "Nar: 0.0850\n"
     ]
    },
    {
     "name": "stderr",
     "output_type": "stream",
     "text": [
      "Training process: 100%|██████████████████████████████████████████████████████████████| 206/206 [00:29<00:00,  6.91it/s]\n"
     ]
    },
    {
     "name": "stdout",
     "output_type": "stream",
     "text": [
      "********训练阶段**********\n",
      "Epoch [102/200], Train Loss: 0.1284\n"
     ]
    },
    {
     "name": "stderr",
     "output_type": "stream",
     "text": [
      "Validation process: 100%|██████████████████████████████████████████████████████████████| 26/26 [00:01<00:00, 23.68it/s]\n"
     ]
    },
    {
     "name": "stdout",
     "output_type": "stream",
     "text": [
      "********验证阶段**********\n",
      "Epoch [102/200], Validation Loss: 0.1210\n",
      "Validation Accuracy: 0.8830\n",
      "Validation Precision: 0.9536\n",
      "Validation Recall: 0.9587\n",
      "Nar: 0.0540\n",
      "最优模型参数更新\n"
     ]
    },
    {
     "name": "stderr",
     "output_type": "stream",
     "text": [
      "Training process: 100%|██████████████████████████████████████████████████████████████| 206/206 [00:29<00:00,  7.02it/s]\n"
     ]
    },
    {
     "name": "stdout",
     "output_type": "stream",
     "text": [
      "********训练阶段**********\n",
      "Epoch [103/200], Train Loss: 0.1185\n"
     ]
    },
    {
     "name": "stderr",
     "output_type": "stream",
     "text": [
      "Validation process: 100%|██████████████████████████████████████████████████████████████| 26/26 [00:01<00:00, 21.90it/s]\n"
     ]
    },
    {
     "name": "stdout",
     "output_type": "stream",
     "text": [
      "********验证阶段**********\n",
      "Epoch [103/200], Validation Loss: 0.1306\n",
      "Validation Accuracy: 0.8830\n",
      "Validation Precision: 0.9614\n",
      "Validation Recall: 0.9526\n",
      "Nar: 0.0443\n"
     ]
    },
    {
     "name": "stderr",
     "output_type": "stream",
     "text": [
      "Training process: 100%|██████████████████████████████████████████████████████████████| 206/206 [00:29<00:00,  6.95it/s]\n"
     ]
    },
    {
     "name": "stdout",
     "output_type": "stream",
     "text": [
      "********训练阶段**********\n",
      "Epoch [104/200], Train Loss: 0.1199\n"
     ]
    },
    {
     "name": "stderr",
     "output_type": "stream",
     "text": [
      "Validation process: 100%|██████████████████████████████████████████████████████████████| 26/26 [00:01<00:00, 20.70it/s]\n"
     ]
    },
    {
     "name": "stdout",
     "output_type": "stream",
     "text": [
      "********验证阶段**********\n",
      "Epoch [104/200], Validation Loss: 0.1403\n",
      "Validation Accuracy: 0.8621\n",
      "Validation Precision: 0.9468\n",
      "Validation Recall: 0.9526\n",
      "Nar: 0.0620\n"
     ]
    },
    {
     "name": "stderr",
     "output_type": "stream",
     "text": [
      "Training process: 100%|██████████████████████████████████████████████████████████████| 206/206 [00:30<00:00,  6.78it/s]\n"
     ]
    },
    {
     "name": "stdout",
     "output_type": "stream",
     "text": [
      "********训练阶段**********\n",
      "Epoch [105/200], Train Loss: 0.1235\n"
     ]
    },
    {
     "name": "stderr",
     "output_type": "stream",
     "text": [
      "Validation process: 100%|██████████████████████████████████████████████████████████████| 26/26 [00:01<00:00, 22.89it/s]\n"
     ]
    },
    {
     "name": "stdout",
     "output_type": "stream",
     "text": [
      "********验证阶段**********\n",
      "Epoch [105/200], Validation Loss: 0.1258\n",
      "Validation Accuracy: 0.8670\n",
      "Validation Precision: 0.9604\n",
      "Validation Recall: 0.9472\n",
      "Nar: 0.0452\n"
     ]
    },
    {
     "name": "stderr",
     "output_type": "stream",
     "text": [
      "Training process: 100%|██████████████████████████████████████████████████████████████| 206/206 [00:29<00:00,  6.96it/s]\n"
     ]
    },
    {
     "name": "stdout",
     "output_type": "stream",
     "text": [
      "********训练阶段**********\n",
      "Epoch [106/200], Train Loss: 0.1155\n"
     ]
    },
    {
     "name": "stderr",
     "output_type": "stream",
     "text": [
      "Validation process: 100%|██████████████████████████████████████████████████████████████| 26/26 [00:01<00:00, 21.73it/s]\n"
     ]
    },
    {
     "name": "stdout",
     "output_type": "stream",
     "text": [
      "********验证阶段**********\n",
      "Epoch [106/200], Validation Loss: 0.1316\n",
      "Validation Accuracy: 0.8744\n",
      "Validation Precision: 0.9648\n",
      "Validation Recall: 0.9449\n",
      "Nar: 0.0399\n"
     ]
    },
    {
     "name": "stderr",
     "output_type": "stream",
     "text": [
      "Training process: 100%|██████████████████████████████████████████████████████████████| 206/206 [00:29<00:00,  7.08it/s]\n"
     ]
    },
    {
     "name": "stdout",
     "output_type": "stream",
     "text": [
      "********训练阶段**********\n",
      "Epoch [107/200], Train Loss: 0.1146\n"
     ]
    },
    {
     "name": "stderr",
     "output_type": "stream",
     "text": [
      "Validation process: 100%|██████████████████████████████████████████████████████████████| 26/26 [00:00<00:00, 29.42it/s]\n"
     ]
    },
    {
     "name": "stdout",
     "output_type": "stream",
     "text": [
      "********验证阶段**********\n",
      "Epoch [107/200], Validation Loss: 0.1212\n",
      "Validation Accuracy: 0.8805\n",
      "Validation Precision: 0.9571\n",
      "Validation Recall: 0.9556\n",
      "Nar: 0.0496\n"
     ]
    },
    {
     "name": "stderr",
     "output_type": "stream",
     "text": [
      "Training process: 100%|██████████████████████████████████████████████████████████████| 206/206 [00:27<00:00,  7.43it/s]\n"
     ]
    },
    {
     "name": "stdout",
     "output_type": "stream",
     "text": [
      "********训练阶段**********\n",
      "Epoch [108/200], Train Loss: 0.1188\n"
     ]
    },
    {
     "name": "stderr",
     "output_type": "stream",
     "text": [
      "Validation process: 100%|██████████████████████████████████████████████████████████████| 26/26 [00:01<00:00, 21.69it/s]\n"
     ]
    },
    {
     "name": "stdout",
     "output_type": "stream",
     "text": [
      "********验证阶段**********\n",
      "Epoch [108/200], Validation Loss: 0.1564\n",
      "Validation Accuracy: 0.8461\n",
      "Validation Precision: 0.9461\n",
      "Validation Recall: 0.9396\n",
      "Nar: 0.0620\n"
     ]
    },
    {
     "name": "stderr",
     "output_type": "stream",
     "text": [
      "Training process: 100%|██████████████████████████████████████████████████████████████| 206/206 [00:29<00:00,  6.91it/s]\n"
     ]
    },
    {
     "name": "stdout",
     "output_type": "stream",
     "text": [
      "********训练阶段**********\n",
      "Epoch [109/200], Train Loss: 0.1231\n"
     ]
    },
    {
     "name": "stderr",
     "output_type": "stream",
     "text": [
      "Validation process: 100%|██████████████████████████████████████████████████████████████| 26/26 [00:01<00:00, 23.63it/s]\n"
     ]
    },
    {
     "name": "stdout",
     "output_type": "stream",
     "text": [
      "********验证阶段**********\n",
      "Epoch [109/200], Validation Loss: 0.1555\n",
      "Validation Accuracy: 0.8424\n",
      "Validation Precision: 0.9351\n",
      "Validation Recall: 0.9587\n",
      "Nar: 0.0771\n"
     ]
    },
    {
     "name": "stderr",
     "output_type": "stream",
     "text": [
      "Training process: 100%|██████████████████████████████████████████████████████████████| 206/206 [00:29<00:00,  7.02it/s]\n"
     ]
    },
    {
     "name": "stdout",
     "output_type": "stream",
     "text": [
      "********训练阶段**********\n",
      "Epoch [110/200], Train Loss: 0.1170\n"
     ]
    },
    {
     "name": "stderr",
     "output_type": "stream",
     "text": [
      "Validation process: 100%|██████████████████████████████████████████████████████████████| 26/26 [00:00<00:00, 26.64it/s]\n"
     ]
    },
    {
     "name": "stdout",
     "output_type": "stream",
     "text": [
      "********验证阶段**********\n",
      "Epoch [110/200], Validation Loss: 0.1548\n",
      "Validation Accuracy: 0.8571\n",
      "Validation Precision: 0.9537\n",
      "Validation Recall: 0.9464\n",
      "Nar: 0.0531\n"
     ]
    },
    {
     "name": "stderr",
     "output_type": "stream",
     "text": [
      "Training process: 100%|██████████████████████████████████████████████████████████████| 206/206 [00:30<00:00,  6.79it/s]\n"
     ]
    },
    {
     "name": "stdout",
     "output_type": "stream",
     "text": [
      "********训练阶段**********\n",
      "Epoch [111/200], Train Loss: 0.1322\n"
     ]
    },
    {
     "name": "stderr",
     "output_type": "stream",
     "text": [
      "Validation process: 100%|██████████████████████████████████████████████████████████████| 26/26 [00:01<00:00, 23.40it/s]\n"
     ]
    },
    {
     "name": "stdout",
     "output_type": "stream",
     "text": [
      "********验证阶段**********\n",
      "Epoch [111/200], Validation Loss: 0.1337\n",
      "Validation Accuracy: 0.8781\n",
      "Validation Precision: 0.9528\n",
      "Validation Recall: 0.9572\n",
      "Nar: 0.0549\n"
     ]
    },
    {
     "name": "stderr",
     "output_type": "stream",
     "text": [
      "Training process: 100%|██████████████████████████████████████████████████████████████| 206/206 [00:29<00:00,  6.96it/s]\n"
     ]
    },
    {
     "name": "stdout",
     "output_type": "stream",
     "text": [
      "********训练阶段**********\n",
      "Epoch [112/200], Train Loss: 0.1094\n"
     ]
    },
    {
     "name": "stderr",
     "output_type": "stream",
     "text": [
      "Validation process: 100%|██████████████████████████████████████████████████████████████| 26/26 [00:01<00:00, 21.35it/s]\n"
     ]
    },
    {
     "name": "stdout",
     "output_type": "stream",
     "text": [
      "********验证阶段**********\n",
      "Epoch [112/200], Validation Loss: 0.1464\n",
      "Validation Accuracy: 0.8510\n",
      "Validation Precision: 0.9483\n",
      "Validation Recall: 0.9403\n",
      "Nar: 0.0593\n"
     ]
    },
    {
     "name": "stderr",
     "output_type": "stream",
     "text": [
      "Training process: 100%|██████████████████████████████████████████████████████████████| 206/206 [00:28<00:00,  7.13it/s]\n"
     ]
    },
    {
     "name": "stdout",
     "output_type": "stream",
     "text": [
      "********训练阶段**********\n",
      "Epoch [113/200], Train Loss: 0.1062\n"
     ]
    },
    {
     "name": "stderr",
     "output_type": "stream",
     "text": [
      "Validation process: 100%|██████████████████████████████████████████████████████████████| 26/26 [00:01<00:00, 23.46it/s]\n"
     ]
    },
    {
     "name": "stdout",
     "output_type": "stream",
     "text": [
      "********验证阶段**********\n",
      "Epoch [113/200], Validation Loss: 0.2144\n",
      "Validation Accuracy: 0.8214\n",
      "Validation Precision: 0.9223\n",
      "Validation Recall: 0.9449\n",
      "Nar: 0.0921\n"
     ]
    },
    {
     "name": "stderr",
     "output_type": "stream",
     "text": [
      "Training process: 100%|██████████████████████████████████████████████████████████████| 206/206 [00:29<00:00,  7.07it/s]\n"
     ]
    },
    {
     "name": "stdout",
     "output_type": "stream",
     "text": [
      "********训练阶段**********\n",
      "Epoch [114/200], Train Loss: 0.1168\n"
     ]
    },
    {
     "name": "stderr",
     "output_type": "stream",
     "text": [
      "Validation process: 100%|██████████████████████████████████████████████████████████████| 26/26 [00:01<00:00, 23.92it/s]\n"
     ]
    },
    {
     "name": "stdout",
     "output_type": "stream",
     "text": [
      "********验证阶段**********\n",
      "Epoch [114/200], Validation Loss: 0.1648\n",
      "Validation Accuracy: 0.8411\n",
      "Validation Precision: 0.9590\n",
      "Validation Recall: 0.9304\n",
      "Nar: 0.0461\n"
     ]
    },
    {
     "name": "stderr",
     "output_type": "stream",
     "text": [
      "Training process: 100%|██████████████████████████████████████████████████████████████| 206/206 [00:29<00:00,  6.92it/s]\n"
     ]
    },
    {
     "name": "stdout",
     "output_type": "stream",
     "text": [
      "********训练阶段**********\n",
      "Epoch [115/200], Train Loss: 0.0986\n"
     ]
    },
    {
     "name": "stderr",
     "output_type": "stream",
     "text": [
      "Validation process: 100%|██████████████████████████████████████████████████████████████| 26/26 [00:01<00:00, 21.83it/s]\n"
     ]
    },
    {
     "name": "stdout",
     "output_type": "stream",
     "text": [
      "********验证阶段**********\n",
      "Epoch [115/200], Validation Loss: 0.1157\n",
      "Validation Accuracy: 0.8670\n",
      "Validation Precision: 0.9358\n",
      "Validation Recall: 0.9702\n",
      "Nar: 0.0771\n"
     ]
    },
    {
     "name": "stderr",
     "output_type": "stream",
     "text": [
      "Training process: 100%|██████████████████████████████████████████████████████████████| 206/206 [00:27<00:00,  7.40it/s]\n"
     ]
    },
    {
     "name": "stdout",
     "output_type": "stream",
     "text": [
      "********训练阶段**********\n",
      "Epoch [116/200], Train Loss: 0.1111\n"
     ]
    },
    {
     "name": "stderr",
     "output_type": "stream",
     "text": [
      "Validation process: 100%|██████████████████████████████████████████████████████████████| 26/26 [00:01<00:00, 20.43it/s]\n"
     ]
    },
    {
     "name": "stdout",
     "output_type": "stream",
     "text": [
      "********验证阶段**********\n",
      "Epoch [116/200], Validation Loss: 0.1260\n",
      "Validation Accuracy: 0.8682\n",
      "Validation Precision: 0.9473\n",
      "Validation Recall: 0.9625\n",
      "Nar: 0.0620\n"
     ]
    },
    {
     "name": "stderr",
     "output_type": "stream",
     "text": [
      "Training process: 100%|██████████████████████████████████████████████████████████████| 206/206 [00:28<00:00,  7.21it/s]\n"
     ]
    },
    {
     "name": "stdout",
     "output_type": "stream",
     "text": [
      "********训练阶段**********\n",
      "Epoch [117/200], Train Loss: 0.1048\n"
     ]
    },
    {
     "name": "stderr",
     "output_type": "stream",
     "text": [
      "Validation process: 100%|██████████████████████████████████████████████████████████████| 26/26 [00:01<00:00, 25.78it/s]\n"
     ]
    },
    {
     "name": "stdout",
     "output_type": "stream",
     "text": [
      "********验证阶段**********\n",
      "Epoch [117/200], Validation Loss: 0.1324\n",
      "Validation Accuracy: 0.8608\n",
      "Validation Precision: 0.9690\n",
      "Validation Recall: 0.9319\n",
      "Nar: 0.0345\n"
     ]
    },
    {
     "name": "stderr",
     "output_type": "stream",
     "text": [
      "Training process: 100%|██████████████████████████████████████████████████████████████| 206/206 [00:29<00:00,  7.05it/s]\n"
     ]
    },
    {
     "name": "stdout",
     "output_type": "stream",
     "text": [
      "********训练阶段**********\n",
      "Epoch [118/200], Train Loss: 0.1053\n"
     ]
    },
    {
     "name": "stderr",
     "output_type": "stream",
     "text": [
      "Validation process: 100%|██████████████████████████████████████████████████████████████| 26/26 [00:00<00:00, 29.33it/s]\n"
     ]
    },
    {
     "name": "stdout",
     "output_type": "stream",
     "text": [
      "********验证阶段**********\n",
      "Epoch [118/200], Validation Loss: 0.1570\n",
      "Validation Accuracy: 0.8596\n",
      "Validation Precision: 0.9500\n",
      "Validation Recall: 0.9457\n",
      "Nar: 0.0576\n",
      "Epoch 00118: reducing learning rate of group 0 to 5.0000e-05.\n"
     ]
    },
    {
     "name": "stderr",
     "output_type": "stream",
     "text": [
      "Training process: 100%|██████████████████████████████████████████████████████████████| 206/206 [00:29<00:00,  7.04it/s]\n"
     ]
    },
    {
     "name": "stdout",
     "output_type": "stream",
     "text": [
      "********训练阶段**********\n",
      "Epoch [119/200], Train Loss: 0.0770\n"
     ]
    },
    {
     "name": "stderr",
     "output_type": "stream",
     "text": [
      "Validation process: 100%|██████████████████████████████████████████████████████████████| 26/26 [00:01<00:00, 24.07it/s]\n"
     ]
    },
    {
     "name": "stdout",
     "output_type": "stream",
     "text": [
      "********验证阶段**********\n",
      "Epoch [119/200], Validation Loss: 0.1270\n",
      "Validation Accuracy: 0.8842\n",
      "Validation Precision: 0.9538\n",
      "Validation Recall: 0.9625\n",
      "Nar: 0.0540\n",
      "最优模型参数更新\n"
     ]
    },
    {
     "name": "stderr",
     "output_type": "stream",
     "text": [
      "Training process: 100%|██████████████████████████████████████████████████████████████| 206/206 [00:29<00:00,  7.06it/s]\n"
     ]
    },
    {
     "name": "stdout",
     "output_type": "stream",
     "text": [
      "********训练阶段**********\n",
      "Epoch [120/200], Train Loss: 0.0743\n"
     ]
    },
    {
     "name": "stderr",
     "output_type": "stream",
     "text": [
      "Validation process: 100%|██████████████████████████████████████████████████████████████| 26/26 [00:01<00:00, 20.17it/s]\n"
     ]
    },
    {
     "name": "stdout",
     "output_type": "stream",
     "text": [
      "********验证阶段**********\n",
      "Epoch [120/200], Validation Loss: 0.0948\n",
      "Validation Accuracy: 0.9163\n",
      "Validation Precision: 0.9708\n",
      "Validation Recall: 0.9663\n",
      "Nar: 0.0337\n",
      "最优模型参数更新\n"
     ]
    },
    {
     "name": "stderr",
     "output_type": "stream",
     "text": [
      "Training process: 100%|██████████████████████████████████████████████████████████████| 206/206 [00:30<00:00,  6.86it/s]\n"
     ]
    },
    {
     "name": "stdout",
     "output_type": "stream",
     "text": [
      "********训练阶段**********\n",
      "Epoch [121/200], Train Loss: 0.0720\n"
     ]
    },
    {
     "name": "stderr",
     "output_type": "stream",
     "text": [
      "Validation process: 100%|██████████████████████████████████████████████████████████████| 26/26 [00:00<00:00, 32.66it/s]\n"
     ]
    },
    {
     "name": "stdout",
     "output_type": "stream",
     "text": [
      "********验证阶段**********\n",
      "Epoch [121/200], Validation Loss: 0.1127\n",
      "Validation Accuracy: 0.9015\n",
      "Validation Precision: 0.9691\n",
      "Validation Recall: 0.9602\n",
      "Nar: 0.0354\n"
     ]
    },
    {
     "name": "stderr",
     "output_type": "stream",
     "text": [
      "Training process: 100%|██████████████████████████████████████████████████████████████| 206/206 [00:29<00:00,  7.02it/s]\n"
     ]
    },
    {
     "name": "stdout",
     "output_type": "stream",
     "text": [
      "********训练阶段**********\n",
      "Epoch [122/200], Train Loss: 0.0744\n"
     ]
    },
    {
     "name": "stderr",
     "output_type": "stream",
     "text": [
      "Validation process: 100%|██████████████████████████████████████████████████████████████| 26/26 [00:01<00:00, 24.33it/s]\n"
     ]
    },
    {
     "name": "stdout",
     "output_type": "stream",
     "text": [
      "********验证阶段**********\n",
      "Epoch [122/200], Validation Loss: 0.1101\n",
      "Validation Accuracy: 0.9089\n",
      "Validation Precision: 0.9663\n",
      "Validation Recall: 0.9663\n",
      "Nar: 0.0390\n"
     ]
    },
    {
     "name": "stderr",
     "output_type": "stream",
     "text": [
      "Training process: 100%|██████████████████████████████████████████████████████████████| 206/206 [00:27<00:00,  7.47it/s]\n"
     ]
    },
    {
     "name": "stdout",
     "output_type": "stream",
     "text": [
      "********训练阶段**********\n",
      "Epoch [123/200], Train Loss: 0.0736\n"
     ]
    },
    {
     "name": "stderr",
     "output_type": "stream",
     "text": [
      "Validation process: 100%|██████████████████████████████████████████████████████████████| 26/26 [00:01<00:00, 23.40it/s]\n"
     ]
    },
    {
     "name": "stdout",
     "output_type": "stream",
     "text": [
      "********验证阶段**********\n",
      "Epoch [123/200], Validation Loss: 0.1283\n",
      "Validation Accuracy: 0.8953\n",
      "Validation Precision: 0.9654\n",
      "Validation Recall: 0.9594\n",
      "Nar: 0.0399\n"
     ]
    },
    {
     "name": "stderr",
     "output_type": "stream",
     "text": [
      "Training process: 100%|██████████████████████████████████████████████████████████████| 206/206 [00:29<00:00,  6.94it/s]\n"
     ]
    },
    {
     "name": "stdout",
     "output_type": "stream",
     "text": [
      "********训练阶段**********\n",
      "Epoch [124/200], Train Loss: 0.0683\n"
     ]
    },
    {
     "name": "stderr",
     "output_type": "stream",
     "text": [
      "Validation process: 100%|██████████████████████████████████████████████████████████████| 26/26 [00:01<00:00, 20.73it/s]\n"
     ]
    },
    {
     "name": "stdout",
     "output_type": "stream",
     "text": [
      "********验证阶段**********\n",
      "Epoch [124/200], Validation Loss: 0.0962\n",
      "Validation Accuracy: 0.9187\n",
      "Validation Precision: 0.9651\n",
      "Validation Recall: 0.9732\n",
      "Nar: 0.0407\n",
      "最优模型参数更新\n"
     ]
    },
    {
     "name": "stderr",
     "output_type": "stream",
     "text": [
      "Training process: 100%|██████████████████████████████████████████████████████████████| 206/206 [00:30<00:00,  6.83it/s]\n"
     ]
    },
    {
     "name": "stdout",
     "output_type": "stream",
     "text": [
      "********训练阶段**********\n",
      "Epoch [125/200], Train Loss: 0.0689\n"
     ]
    },
    {
     "name": "stderr",
     "output_type": "stream",
     "text": [
      "Validation process: 100%|██████████████████████████████████████████████████████████████| 26/26 [00:01<00:00, 22.05it/s]\n"
     ]
    },
    {
     "name": "stdout",
     "output_type": "stream",
     "text": [
      "********验证阶段**********\n",
      "Epoch [125/200], Validation Loss: 0.1182\n",
      "Validation Accuracy: 0.8978\n",
      "Validation Precision: 0.9618\n",
      "Validation Recall: 0.9625\n",
      "Nar: 0.0443\n"
     ]
    },
    {
     "name": "stderr",
     "output_type": "stream",
     "text": [
      "Training process: 100%|██████████████████████████████████████████████████████████████| 206/206 [00:30<00:00,  6.85it/s]\n"
     ]
    },
    {
     "name": "stdout",
     "output_type": "stream",
     "text": [
      "********训练阶段**********\n",
      "Epoch [126/200], Train Loss: 0.0688\n"
     ]
    },
    {
     "name": "stderr",
     "output_type": "stream",
     "text": [
      "Validation process: 100%|██████████████████████████████████████████████████████████████| 26/26 [00:01<00:00, 20.12it/s]\n"
     ]
    },
    {
     "name": "stdout",
     "output_type": "stream",
     "text": [
      "********验证阶段**********\n",
      "Epoch [126/200], Validation Loss: 0.1200\n",
      "Validation Accuracy: 0.8941\n",
      "Validation Precision: 0.9653\n",
      "Validation Recall: 0.9564\n",
      "Nar: 0.0399\n"
     ]
    },
    {
     "name": "stderr",
     "output_type": "stream",
     "text": [
      "Training process: 100%|██████████████████████████████████████████████████████████████| 206/206 [00:29<00:00,  7.10it/s]\n"
     ]
    },
    {
     "name": "stdout",
     "output_type": "stream",
     "text": [
      "********训练阶段**********\n",
      "Epoch [127/200], Train Loss: 0.0666\n"
     ]
    },
    {
     "name": "stderr",
     "output_type": "stream",
     "text": [
      "Validation process: 100%|██████████████████████████████████████████████████████████████| 26/26 [00:01<00:00, 24.25it/s]\n"
     ]
    },
    {
     "name": "stdout",
     "output_type": "stream",
     "text": [
      "********验证阶段**********\n",
      "Epoch [127/200], Validation Loss: 0.0907\n",
      "Validation Accuracy: 0.9101\n",
      "Validation Precision: 0.9672\n",
      "Validation Recall: 0.9702\n",
      "Nar: 0.0381\n"
     ]
    },
    {
     "name": "stderr",
     "output_type": "stream",
     "text": [
      "Training process: 100%|██████████████████████████████████████████████████████████████| 206/206 [00:29<00:00,  7.06it/s]\n"
     ]
    },
    {
     "name": "stdout",
     "output_type": "stream",
     "text": [
      "********训练阶段**********\n",
      "Epoch [128/200], Train Loss: 0.0661\n"
     ]
    },
    {
     "name": "stderr",
     "output_type": "stream",
     "text": [
      "Validation process: 100%|██████████████████████████████████████████████████████████████| 26/26 [00:01<00:00, 25.71it/s]\n"
     ]
    },
    {
     "name": "stdout",
     "output_type": "stream",
     "text": [
      "********验证阶段**********\n",
      "Epoch [128/200], Validation Loss: 0.1360\n",
      "Validation Accuracy: 0.8953\n",
      "Validation Precision: 0.9719\n",
      "Validation Recall: 0.9526\n",
      "Nar: 0.0319\n"
     ]
    },
    {
     "name": "stderr",
     "output_type": "stream",
     "text": [
      "Training process: 100%|██████████████████████████████████████████████████████████████| 206/206 [00:30<00:00,  6.80it/s]\n"
     ]
    },
    {
     "name": "stdout",
     "output_type": "stream",
     "text": [
      "********训练阶段**********\n",
      "Epoch [129/200], Train Loss: 0.0716\n"
     ]
    },
    {
     "name": "stderr",
     "output_type": "stream",
     "text": [
      "Validation process: 100%|██████████████████████████████████████████████████████████████| 26/26 [00:01<00:00, 23.12it/s]\n"
     ]
    },
    {
     "name": "stdout",
     "output_type": "stream",
     "text": [
      "********验证阶段**********\n",
      "Epoch [129/200], Validation Loss: 0.1019\n",
      "Validation Accuracy: 0.9212\n",
      "Validation Precision: 0.9716\n",
      "Validation Recall: 0.9686\n",
      "Nar: 0.0328\n",
      "最优模型参数更新\n"
     ]
    },
    {
     "name": "stderr",
     "output_type": "stream",
     "text": [
      "Training process: 100%|██████████████████████████████████████████████████████████████| 206/206 [00:29<00:00,  7.02it/s]\n"
     ]
    },
    {
     "name": "stdout",
     "output_type": "stream",
     "text": [
      "********训练阶段**********\n",
      "Epoch [130/200], Train Loss: 0.0667\n"
     ]
    },
    {
     "name": "stderr",
     "output_type": "stream",
     "text": [
      "Validation process: 100%|██████████████████████████████████████████████████████████████| 26/26 [00:01<00:00, 20.63it/s]\n"
     ]
    },
    {
     "name": "stdout",
     "output_type": "stream",
     "text": [
      "********验证阶段**********\n",
      "Epoch [130/200], Validation Loss: 0.1058\n",
      "Validation Accuracy: 0.9175\n",
      "Validation Precision: 0.9700\n",
      "Validation Recall: 0.9663\n",
      "Nar: 0.0345\n"
     ]
    },
    {
     "name": "stderr",
     "output_type": "stream",
     "text": [
      "Training process: 100%|██████████████████████████████████████████████████████████████| 206/206 [00:28<00:00,  7.30it/s]\n"
     ]
    },
    {
     "name": "stdout",
     "output_type": "stream",
     "text": [
      "********训练阶段**********\n",
      "Epoch [131/200], Train Loss: 0.0711\n"
     ]
    },
    {
     "name": "stderr",
     "output_type": "stream",
     "text": [
      "Validation process: 100%|██████████████████████████████████████████████████████████████| 26/26 [00:00<00:00, 28.15it/s]\n"
     ]
    },
    {
     "name": "stdout",
     "output_type": "stream",
     "text": [
      "********验证阶段**********\n",
      "Epoch [131/200], Validation Loss: 0.1053\n",
      "Validation Accuracy: 0.9236\n",
      "Validation Precision: 0.9695\n",
      "Validation Recall: 0.9740\n",
      "Nar: 0.0354\n",
      "最优模型参数更新\n"
     ]
    },
    {
     "name": "stderr",
     "output_type": "stream",
     "text": [
      "Training process: 100%|██████████████████████████████████████████████████████████████| 206/206 [00:29<00:00,  7.01it/s]\n"
     ]
    },
    {
     "name": "stdout",
     "output_type": "stream",
     "text": [
      "********训练阶段**********\n",
      "Epoch [132/200], Train Loss: 0.0702\n"
     ]
    },
    {
     "name": "stderr",
     "output_type": "stream",
     "text": [
      "Validation process: 100%|██████████████████████████████████████████████████████████████| 26/26 [00:01<00:00, 21.70it/s]\n"
     ]
    },
    {
     "name": "stdout",
     "output_type": "stream",
     "text": [
      "********验证阶段**********\n",
      "Epoch [132/200], Validation Loss: 0.1071\n",
      "Validation Accuracy: 0.9101\n",
      "Validation Precision: 0.9692\n",
      "Validation Recall: 0.9625\n",
      "Nar: 0.0354\n"
     ]
    },
    {
     "name": "stderr",
     "output_type": "stream",
     "text": [
      "Training process: 100%|██████████████████████████████████████████████████████████████| 206/206 [00:29<00:00,  6.91it/s]\n"
     ]
    },
    {
     "name": "stdout",
     "output_type": "stream",
     "text": [
      "********训练阶段**********\n",
      "Epoch [133/200], Train Loss: 0.0614\n"
     ]
    },
    {
     "name": "stderr",
     "output_type": "stream",
     "text": [
      "Validation process: 100%|██████████████████████████████████████████████████████████████| 26/26 [00:01<00:00, 23.62it/s]\n"
     ]
    },
    {
     "name": "stdout",
     "output_type": "stream",
     "text": [
      "********验证阶段**********\n",
      "Epoch [133/200], Validation Loss: 0.1081\n",
      "Validation Accuracy: 0.9101\n",
      "Validation Precision: 0.9722\n",
      "Validation Recall: 0.9633\n",
      "Nar: 0.0319\n"
     ]
    },
    {
     "name": "stderr",
     "output_type": "stream",
     "text": [
      "Training process: 100%|██████████████████████████████████████████████████████████████| 206/206 [00:28<00:00,  7.29it/s]\n"
     ]
    },
    {
     "name": "stdout",
     "output_type": "stream",
     "text": [
      "********训练阶段**********\n",
      "Epoch [134/200], Train Loss: 0.0630\n"
     ]
    },
    {
     "name": "stderr",
     "output_type": "stream",
     "text": [
      "Validation process: 100%|██████████████████████████████████████████████████████████████| 26/26 [00:01<00:00, 20.35it/s]\n"
     ]
    },
    {
     "name": "stdout",
     "output_type": "stream",
     "text": [
      "********验证阶段**********\n",
      "Epoch [134/200], Validation Loss: 0.1179\n",
      "Validation Accuracy: 0.9064\n",
      "Validation Precision: 0.9620\n",
      "Validation Recall: 0.9694\n",
      "Nar: 0.0443\n"
     ]
    },
    {
     "name": "stderr",
     "output_type": "stream",
     "text": [
      "Training process: 100%|██████████████████████████████████████████████████████████████| 206/206 [00:28<00:00,  7.24it/s]\n"
     ]
    },
    {
     "name": "stdout",
     "output_type": "stream",
     "text": [
      "********训练阶段**********\n",
      "Epoch [135/200], Train Loss: 0.0681\n"
     ]
    },
    {
     "name": "stderr",
     "output_type": "stream",
     "text": [
      "Validation process: 100%|██████████████████████████████████████████████████████████████| 26/26 [00:00<00:00, 27.15it/s]\n"
     ]
    },
    {
     "name": "stdout",
     "output_type": "stream",
     "text": [
      "********验证阶段**********\n",
      "Epoch [135/200], Validation Loss: 0.1066\n",
      "Validation Accuracy: 0.9175\n",
      "Validation Precision: 0.9650\n",
      "Validation Recall: 0.9717\n",
      "Nar: 0.0407\n"
     ]
    },
    {
     "name": "stderr",
     "output_type": "stream",
     "text": [
      "Training process: 100%|██████████████████████████████████████████████████████████████| 206/206 [00:28<00:00,  7.10it/s]\n"
     ]
    },
    {
     "name": "stdout",
     "output_type": "stream",
     "text": [
      "********训练阶段**********\n",
      "Epoch [136/200], Train Loss: 0.0678\n"
     ]
    },
    {
     "name": "stderr",
     "output_type": "stream",
     "text": [
      "Validation process: 100%|██████████████████████████████████████████████████████████████| 26/26 [00:01<00:00, 22.19it/s]\n"
     ]
    },
    {
     "name": "stdout",
     "output_type": "stream",
     "text": [
      "********验证阶段**********\n",
      "Epoch [136/200], Validation Loss: 0.1112\n",
      "Validation Accuracy: 0.8867\n",
      "Validation Precision: 0.9609\n",
      "Validation Recall: 0.9587\n",
      "Nar: 0.0452\n"
     ]
    },
    {
     "name": "stderr",
     "output_type": "stream",
     "text": [
      "Training process: 100%|██████████████████████████████████████████████████████████████| 206/206 [00:28<00:00,  7.11it/s]\n"
     ]
    },
    {
     "name": "stdout",
     "output_type": "stream",
     "text": [
      "********训练阶段**********\n",
      "Epoch [137/200], Train Loss: 0.0611\n"
     ]
    },
    {
     "name": "stderr",
     "output_type": "stream",
     "text": [
      "Validation process: 100%|██████████████████████████████████████████████████████████████| 26/26 [00:01<00:00, 24.33it/s]\n"
     ]
    },
    {
     "name": "stdout",
     "output_type": "stream",
     "text": [
      "********验证阶段**********\n",
      "Epoch [137/200], Validation Loss: 0.0958\n",
      "Validation Accuracy: 0.9236\n",
      "Validation Precision: 0.9681\n",
      "Validation Recall: 0.9763\n",
      "Nar: 0.0372\n"
     ]
    },
    {
     "name": "stderr",
     "output_type": "stream",
     "text": [
      "Training process: 100%|██████████████████████████████████████████████████████████████| 206/206 [00:28<00:00,  7.18it/s]\n"
     ]
    },
    {
     "name": "stdout",
     "output_type": "stream",
     "text": [
      "********训练阶段**********\n",
      "Epoch [138/200], Train Loss: 0.0671\n"
     ]
    },
    {
     "name": "stderr",
     "output_type": "stream",
     "text": [
      "Validation process: 100%|██████████████████████████████████████████████████████████████| 26/26 [00:01<00:00, 21.86it/s]\n"
     ]
    },
    {
     "name": "stdout",
     "output_type": "stream",
     "text": [
      "********验证阶段**********\n",
      "Epoch [138/200], Validation Loss: 0.0970\n",
      "Validation Accuracy: 0.9150\n",
      "Validation Precision: 0.9694\n",
      "Validation Recall: 0.9709\n",
      "Nar: 0.0354\n"
     ]
    },
    {
     "name": "stderr",
     "output_type": "stream",
     "text": [
      "Training process: 100%|██████████████████████████████████████████████████████████████| 206/206 [00:28<00:00,  7.19it/s]\n"
     ]
    },
    {
     "name": "stdout",
     "output_type": "stream",
     "text": [
      "********训练阶段**********\n",
      "Epoch [139/200], Train Loss: 0.0611\n"
     ]
    },
    {
     "name": "stderr",
     "output_type": "stream",
     "text": [
      "Validation process: 100%|██████████████████████████████████████████████████████████████| 26/26 [00:01<00:00, 22.40it/s]\n"
     ]
    },
    {
     "name": "stdout",
     "output_type": "stream",
     "text": [
      "********验证阶段**********\n",
      "Epoch [139/200], Validation Loss: 0.1088\n",
      "Validation Accuracy: 0.9089\n",
      "Validation Precision: 0.9683\n",
      "Validation Recall: 0.9594\n",
      "Nar: 0.0363\n"
     ]
    },
    {
     "name": "stderr",
     "output_type": "stream",
     "text": [
      "Training process: 100%|██████████████████████████████████████████████████████████████| 206/206 [00:28<00:00,  7.17it/s]\n"
     ]
    },
    {
     "name": "stdout",
     "output_type": "stream",
     "text": [
      "********训练阶段**********\n",
      "Epoch [140/200], Train Loss: 0.0630\n"
     ]
    },
    {
     "name": "stderr",
     "output_type": "stream",
     "text": [
      "Validation process: 100%|██████████████████████████████████████████████████████████████| 26/26 [00:01<00:00, 22.56it/s]\n"
     ]
    },
    {
     "name": "stdout",
     "output_type": "stream",
     "text": [
      "********验证阶段**********\n",
      "Epoch [140/200], Validation Loss: 0.0875\n",
      "Validation Accuracy: 0.9163\n",
      "Validation Precision: 0.9674\n",
      "Validation Recall: 0.9763\n",
      "Nar: 0.0381\n"
     ]
    },
    {
     "name": "stderr",
     "output_type": "stream",
     "text": [
      "Training process: 100%|██████████████████████████████████████████████████████████████| 206/206 [00:29<00:00,  7.06it/s]\n"
     ]
    },
    {
     "name": "stdout",
     "output_type": "stream",
     "text": [
      "********训练阶段**********\n",
      "Epoch [141/200], Train Loss: 0.0663\n"
     ]
    },
    {
     "name": "stderr",
     "output_type": "stream",
     "text": [
      "Validation process: 100%|██████████████████████████████████████████████████████████████| 26/26 [00:01<00:00, 23.25it/s]\n"
     ]
    },
    {
     "name": "stdout",
     "output_type": "stream",
     "text": [
      "********验证阶段**********\n",
      "Epoch [141/200], Validation Loss: 0.1026\n",
      "Validation Accuracy: 0.9138\n",
      "Validation Precision: 0.9650\n",
      "Validation Recall: 0.9717\n",
      "Nar: 0.0407\n"
     ]
    },
    {
     "name": "stderr",
     "output_type": "stream",
     "text": [
      "Training process: 100%|██████████████████████████████████████████████████████████████| 206/206 [00:28<00:00,  7.27it/s]\n"
     ]
    },
    {
     "name": "stdout",
     "output_type": "stream",
     "text": [
      "********训练阶段**********\n",
      "Epoch [142/200], Train Loss: 0.0610\n"
     ]
    },
    {
     "name": "stderr",
     "output_type": "stream",
     "text": [
      "Validation process: 100%|██████████████████████████████████████████████████████████████| 26/26 [00:01<00:00, 21.90it/s]\n"
     ]
    },
    {
     "name": "stdout",
     "output_type": "stream",
     "text": [
      "********验证阶段**********\n",
      "Epoch [142/200], Validation Loss: 0.0988\n",
      "Validation Accuracy: 0.9138\n",
      "Validation Precision: 0.9665\n",
      "Validation Recall: 0.9725\n",
      "Nar: 0.0390\n"
     ]
    },
    {
     "name": "stderr",
     "output_type": "stream",
     "text": [
      "Training process: 100%|██████████████████████████████████████████████████████████████| 206/206 [00:29<00:00,  6.94it/s]\n"
     ]
    },
    {
     "name": "stdout",
     "output_type": "stream",
     "text": [
      "********训练阶段**********\n",
      "Epoch [143/200], Train Loss: 0.0561\n"
     ]
    },
    {
     "name": "stderr",
     "output_type": "stream",
     "text": [
      "Validation process: 100%|██████████████████████████████████████████████████████████████| 26/26 [00:01<00:00, 24.65it/s]\n"
     ]
    },
    {
     "name": "stdout",
     "output_type": "stream",
     "text": [
      "********验证阶段**********\n",
      "Epoch [143/200], Validation Loss: 0.1173\n",
      "Validation Accuracy: 0.9002\n",
      "Validation Precision: 0.9677\n",
      "Validation Recall: 0.9617\n",
      "Nar: 0.0372\n"
     ]
    },
    {
     "name": "stderr",
     "output_type": "stream",
     "text": [
      "Training process: 100%|██████████████████████████████████████████████████████████████| 206/206 [00:29<00:00,  7.01it/s]\n"
     ]
    },
    {
     "name": "stdout",
     "output_type": "stream",
     "text": [
      "********训练阶段**********\n",
      "Epoch [144/200], Train Loss: 0.0602\n"
     ]
    },
    {
     "name": "stderr",
     "output_type": "stream",
     "text": [
      "Validation process: 100%|██████████████████████████████████████████████████████████████| 26/26 [00:01<00:00, 23.45it/s]\n"
     ]
    },
    {
     "name": "stdout",
     "output_type": "stream",
     "text": [
      "********验证阶段**********\n",
      "Epoch [144/200], Validation Loss: 0.1002\n",
      "Validation Accuracy: 0.9113\n",
      "Validation Precision: 0.9715\n",
      "Validation Recall: 0.9640\n",
      "Nar: 0.0328\n"
     ]
    },
    {
     "name": "stderr",
     "output_type": "stream",
     "text": [
      "Training process: 100%|██████████████████████████████████████████████████████████████| 206/206 [00:28<00:00,  7.16it/s]\n"
     ]
    },
    {
     "name": "stdout",
     "output_type": "stream",
     "text": [
      "********训练阶段**********\n",
      "Epoch [145/200], Train Loss: 0.0605\n"
     ]
    },
    {
     "name": "stderr",
     "output_type": "stream",
     "text": [
      "Validation process: 100%|██████████████████████████████████████████████████████████████| 26/26 [00:01<00:00, 21.86it/s]\n"
     ]
    },
    {
     "name": "stdout",
     "output_type": "stream",
     "text": [
      "********验证阶段**********\n",
      "Epoch [145/200], Validation Loss: 0.1218\n",
      "Validation Accuracy: 0.8904\n",
      "Validation Precision: 0.9630\n",
      "Validation Recall: 0.9556\n",
      "Nar: 0.0425\n"
     ]
    },
    {
     "name": "stderr",
     "output_type": "stream",
     "text": [
      "Training process: 100%|██████████████████████████████████████████████████████████████| 206/206 [00:29<00:00,  6.95it/s]\n"
     ]
    },
    {
     "name": "stdout",
     "output_type": "stream",
     "text": [
      "********训练阶段**********\n",
      "Epoch [146/200], Train Loss: 0.0644\n"
     ]
    },
    {
     "name": "stderr",
     "output_type": "stream",
     "text": [
      "Validation process: 100%|██████████████████████████████████████████████████████████████| 26/26 [00:00<00:00, 26.03it/s]\n"
     ]
    },
    {
     "name": "stdout",
     "output_type": "stream",
     "text": [
      "********验证阶段**********\n",
      "Epoch [146/200], Validation Loss: 0.0912\n",
      "Validation Accuracy: 0.9261\n",
      "Validation Precision: 0.9783\n",
      "Validation Recall: 0.9671\n",
      "Nar: 0.0248\n",
      "最优模型参数更新\n"
     ]
    },
    {
     "name": "stderr",
     "output_type": "stream",
     "text": [
      "Training process: 100%|██████████████████████████████████████████████████████████████| 206/206 [00:31<00:00,  6.58it/s]\n"
     ]
    },
    {
     "name": "stdout",
     "output_type": "stream",
     "text": [
      "********训练阶段**********\n",
      "Epoch [147/200], Train Loss: 0.0579\n"
     ]
    },
    {
     "name": "stderr",
     "output_type": "stream",
     "text": [
      "Validation process: 100%|██████████████████████████████████████████████████████████████| 26/26 [00:01<00:00, 25.09it/s]\n"
     ]
    },
    {
     "name": "stdout",
     "output_type": "stream",
     "text": [
      "********验证阶段**********\n",
      "Epoch [147/200], Validation Loss: 0.1048\n",
      "Validation Accuracy: 0.9224\n",
      "Validation Precision: 0.9760\n",
      "Validation Recall: 0.9656\n",
      "Nar: 0.0275\n"
     ]
    },
    {
     "name": "stderr",
     "output_type": "stream",
     "text": [
      "Training process: 100%|██████████████████████████████████████████████████████████████| 206/206 [00:30<00:00,  6.83it/s]\n"
     ]
    },
    {
     "name": "stdout",
     "output_type": "stream",
     "text": [
      "********训练阶段**********\n",
      "Epoch [148/200], Train Loss: 0.0535\n"
     ]
    },
    {
     "name": "stderr",
     "output_type": "stream",
     "text": [
      "Validation process: 100%|██████████████████████████████████████████████████████████████| 26/26 [00:01<00:00, 25.82it/s]\n"
     ]
    },
    {
     "name": "stdout",
     "output_type": "stream",
     "text": [
      "********验证阶段**********\n",
      "Epoch [148/200], Validation Loss: 0.0964\n",
      "Validation Accuracy: 0.9273\n",
      "Validation Precision: 0.9726\n",
      "Validation Recall: 0.9763\n",
      "Nar: 0.0319\n",
      "最优模型参数更新\n"
     ]
    },
    {
     "name": "stderr",
     "output_type": "stream",
     "text": [
      "Training process: 100%|██████████████████████████████████████████████████████████████| 206/206 [00:30<00:00,  6.80it/s]\n"
     ]
    },
    {
     "name": "stdout",
     "output_type": "stream",
     "text": [
      "********训练阶段**********\n",
      "Epoch [149/200], Train Loss: 0.0534\n"
     ]
    },
    {
     "name": "stderr",
     "output_type": "stream",
     "text": [
      "Validation process: 100%|██████████████████████████████████████████████████████████████| 26/26 [00:01<00:00, 22.62it/s]\n"
     ]
    },
    {
     "name": "stdout",
     "output_type": "stream",
     "text": [
      "********验证阶段**********\n",
      "Epoch [149/200], Validation Loss: 0.1042\n",
      "Validation Accuracy: 0.9175\n",
      "Validation Precision: 0.9686\n",
      "Validation Recall: 0.9686\n",
      "Nar: 0.0363\n"
     ]
    },
    {
     "name": "stderr",
     "output_type": "stream",
     "text": [
      "Training process: 100%|██████████████████████████████████████████████████████████████| 206/206 [00:30<00:00,  6.78it/s]\n"
     ]
    },
    {
     "name": "stdout",
     "output_type": "stream",
     "text": [
      "********训练阶段**********\n",
      "Epoch [150/200], Train Loss: 0.0586\n"
     ]
    },
    {
     "name": "stderr",
     "output_type": "stream",
     "text": [
      "Validation process: 100%|██████████████████████████████████████████████████████████████| 26/26 [00:01<00:00, 20.73it/s]\n"
     ]
    },
    {
     "name": "stdout",
     "output_type": "stream",
     "text": [
      "********验证阶段**********\n",
      "Epoch [150/200], Validation Loss: 0.1088\n",
      "Validation Accuracy: 0.9015\n",
      "Validation Precision: 0.9628\n",
      "Validation Recall: 0.9709\n",
      "Nar: 0.0434\n"
     ]
    },
    {
     "name": "stderr",
     "output_type": "stream",
     "text": [
      "Training process: 100%|██████████████████████████████████████████████████████████████| 206/206 [00:31<00:00,  6.63it/s]\n"
     ]
    },
    {
     "name": "stdout",
     "output_type": "stream",
     "text": [
      "********训练阶段**********\n",
      "Epoch [151/200], Train Loss: 0.0546\n"
     ]
    },
    {
     "name": "stderr",
     "output_type": "stream",
     "text": [
      "Validation process: 100%|██████████████████████████████████████████████████████████████| 26/26 [00:01<00:00, 25.63it/s]\n"
     ]
    },
    {
     "name": "stdout",
     "output_type": "stream",
     "text": [
      "********验证阶段**********\n",
      "Epoch [151/200], Validation Loss: 0.1033\n",
      "Validation Accuracy: 0.9200\n",
      "Validation Precision: 0.9667\n",
      "Validation Recall: 0.9763\n",
      "Nar: 0.0390\n"
     ]
    },
    {
     "name": "stderr",
     "output_type": "stream",
     "text": [
      "Training process: 100%|██████████████████████████████████████████████████████████████| 206/206 [00:33<00:00,  6.17it/s]\n"
     ]
    },
    {
     "name": "stdout",
     "output_type": "stream",
     "text": [
      "********训练阶段**********\n",
      "Epoch [152/200], Train Loss: 0.0578\n"
     ]
    },
    {
     "name": "stderr",
     "output_type": "stream",
     "text": [
      "Validation process: 100%|██████████████████████████████████████████████████████████████| 26/26 [00:01<00:00, 25.90it/s]\n"
     ]
    },
    {
     "name": "stdout",
     "output_type": "stream",
     "text": [
      "********验证阶段**********\n",
      "Epoch [152/200], Validation Loss: 0.1034\n",
      "Validation Accuracy: 0.9187\n",
      "Validation Precision: 0.9709\n",
      "Validation Recall: 0.9694\n",
      "Nar: 0.0337\n"
     ]
    },
    {
     "name": "stderr",
     "output_type": "stream",
     "text": [
      "Training process: 100%|██████████████████████████████████████████████████████████████| 206/206 [00:29<00:00,  7.07it/s]\n"
     ]
    },
    {
     "name": "stdout",
     "output_type": "stream",
     "text": [
      "********训练阶段**********\n",
      "Epoch [153/200], Train Loss: 0.0554\n"
     ]
    },
    {
     "name": "stderr",
     "output_type": "stream",
     "text": [
      "Validation process: 100%|██████████████████████████████████████████████████████████████| 26/26 [00:01<00:00, 25.63it/s]\n"
     ]
    },
    {
     "name": "stdout",
     "output_type": "stream",
     "text": [
      "********验证阶段**********\n",
      "Epoch [153/200], Validation Loss: 0.0979\n",
      "Validation Accuracy: 0.9089\n",
      "Validation Precision: 0.9636\n",
      "Validation Recall: 0.9709\n",
      "Nar: 0.0425\n"
     ]
    },
    {
     "name": "stderr",
     "output_type": "stream",
     "text": [
      "Training process: 100%|██████████████████████████████████████████████████████████████| 206/206 [00:28<00:00,  7.18it/s]\n"
     ]
    },
    {
     "name": "stdout",
     "output_type": "stream",
     "text": [
      "********训练阶段**********\n",
      "Epoch [154/200], Train Loss: 0.0532\n"
     ]
    },
    {
     "name": "stderr",
     "output_type": "stream",
     "text": [
      "Validation process: 100%|██████████████████████████████████████████████████████████████| 26/26 [00:01<00:00, 23.24it/s]\n"
     ]
    },
    {
     "name": "stdout",
     "output_type": "stream",
     "text": [
      "********验证阶段**********\n",
      "Epoch [154/200], Validation Loss: 0.1017\n",
      "Validation Accuracy: 0.9212\n",
      "Validation Precision: 0.9681\n",
      "Validation Recall: 0.9748\n",
      "Nar: 0.0372\n"
     ]
    },
    {
     "name": "stderr",
     "output_type": "stream",
     "text": [
      "Training process: 100%|██████████████████████████████████████████████████████████████| 206/206 [00:27<00:00,  7.46it/s]\n"
     ]
    },
    {
     "name": "stdout",
     "output_type": "stream",
     "text": [
      "********训练阶段**********\n",
      "Epoch [155/200], Train Loss: 0.0557\n"
     ]
    },
    {
     "name": "stderr",
     "output_type": "stream",
     "text": [
      "Validation process: 100%|██████████████████████████████████████████████████████████████| 26/26 [00:01<00:00, 24.52it/s]\n"
     ]
    },
    {
     "name": "stdout",
     "output_type": "stream",
     "text": [
      "********验证阶段**********\n",
      "Epoch [155/200], Validation Loss: 0.1057\n",
      "Validation Accuracy: 0.9212\n",
      "Validation Precision: 0.9666\n",
      "Validation Recall: 0.9740\n",
      "Nar: 0.0390\n"
     ]
    },
    {
     "name": "stderr",
     "output_type": "stream",
     "text": [
      "Training process: 100%|██████████████████████████████████████████████████████████████| 206/206 [00:29<00:00,  6.88it/s]\n"
     ]
    },
    {
     "name": "stdout",
     "output_type": "stream",
     "text": [
      "********训练阶段**********\n",
      "Epoch [156/200], Train Loss: 0.0569\n"
     ]
    },
    {
     "name": "stderr",
     "output_type": "stream",
     "text": [
      "Validation process: 100%|██████████████████████████████████████████████████████████████| 26/26 [00:01<00:00, 23.32it/s]\n"
     ]
    },
    {
     "name": "stdout",
     "output_type": "stream",
     "text": [
      "********验证阶段**********\n",
      "Epoch [156/200], Validation Loss: 0.0962\n",
      "Validation Accuracy: 0.9249\n",
      "Validation Precision: 0.9697\n",
      "Validation Recall: 0.9778\n",
      "Nar: 0.0354\n"
     ]
    },
    {
     "name": "stderr",
     "output_type": "stream",
     "text": [
      "Training process: 100%|██████████████████████████████████████████████████████████████| 206/206 [00:29<00:00,  7.09it/s]\n"
     ]
    },
    {
     "name": "stdout",
     "output_type": "stream",
     "text": [
      "********训练阶段**********\n",
      "Epoch [157/200], Train Loss: 0.0534\n"
     ]
    },
    {
     "name": "stderr",
     "output_type": "stream",
     "text": [
      "Validation process: 100%|██████████████████████████████████████████████████████████████| 26/26 [00:01<00:00, 22.42it/s]\n"
     ]
    },
    {
     "name": "stdout",
     "output_type": "stream",
     "text": [
      "********验证阶段**********\n",
      "Epoch [157/200], Validation Loss: 0.0777\n",
      "Validation Accuracy: 0.9433\n",
      "Validation Precision: 0.9801\n",
      "Validation Recall: 0.9793\n",
      "Nar: 0.0230\n",
      "最优模型参数更新\n"
     ]
    },
    {
     "name": "stderr",
     "output_type": "stream",
     "text": [
      "Training process: 100%|██████████████████████████████████████████████████████████████| 206/206 [00:28<00:00,  7.20it/s]\n"
     ]
    },
    {
     "name": "stdout",
     "output_type": "stream",
     "text": [
      "********训练阶段**********\n",
      "Epoch [158/200], Train Loss: 0.0516\n"
     ]
    },
    {
     "name": "stderr",
     "output_type": "stream",
     "text": [
      "Validation process: 100%|██████████████████████████████████████████████████████████████| 26/26 [00:01<00:00, 23.18it/s]\n"
     ]
    },
    {
     "name": "stdout",
     "output_type": "stream",
     "text": [
      "********验证阶段**********\n",
      "Epoch [158/200], Validation Loss: 0.1365\n",
      "Validation Accuracy: 0.9187\n",
      "Validation Precision: 0.9783\n",
      "Validation Recall: 0.9656\n",
      "Nar: 0.0248\n"
     ]
    },
    {
     "name": "stderr",
     "output_type": "stream",
     "text": [
      "Training process: 100%|██████████████████████████████████████████████████████████████| 206/206 [00:28<00:00,  7.14it/s]\n"
     ]
    },
    {
     "name": "stdout",
     "output_type": "stream",
     "text": [
      "********训练阶段**********\n",
      "Epoch [159/200], Train Loss: 0.0564\n"
     ]
    },
    {
     "name": "stderr",
     "output_type": "stream",
     "text": [
      "Validation process: 100%|██████████████████████████████████████████████████████████████| 26/26 [00:01<00:00, 22.17it/s]\n"
     ]
    },
    {
     "name": "stdout",
     "output_type": "stream",
     "text": [
      "********验证阶段**********\n",
      "Epoch [159/200], Validation Loss: 0.1113\n",
      "Validation Accuracy: 0.9015\n",
      "Validation Precision: 0.9620\n",
      "Validation Recall: 0.9679\n",
      "Nar: 0.0443\n"
     ]
    },
    {
     "name": "stderr",
     "output_type": "stream",
     "text": [
      "Training process: 100%|██████████████████████████████████████████████████████████████| 206/206 [00:29<00:00,  6.91it/s]\n"
     ]
    },
    {
     "name": "stdout",
     "output_type": "stream",
     "text": [
      "********训练阶段**********\n",
      "Epoch [160/200], Train Loss: 0.0559\n"
     ]
    },
    {
     "name": "stderr",
     "output_type": "stream",
     "text": [
      "Validation process: 100%|██████████████████████████████████████████████████████████████| 26/26 [00:01<00:00, 24.84it/s]\n"
     ]
    },
    {
     "name": "stdout",
     "output_type": "stream",
     "text": [
      "********验证阶段**********\n",
      "Epoch [160/200], Validation Loss: 0.0971\n",
      "Validation Accuracy: 0.9187\n",
      "Validation Precision: 0.9680\n",
      "Validation Recall: 0.9725\n",
      "Nar: 0.0372\n"
     ]
    },
    {
     "name": "stderr",
     "output_type": "stream",
     "text": [
      "Training process: 100%|██████████████████████████████████████████████████████████████| 206/206 [00:28<00:00,  7.17it/s]\n"
     ]
    },
    {
     "name": "stdout",
     "output_type": "stream",
     "text": [
      "********训练阶段**********\n",
      "Epoch [161/200], Train Loss: 0.0504\n"
     ]
    },
    {
     "name": "stderr",
     "output_type": "stream",
     "text": [
      "Validation process: 100%|██████████████████████████████████████████████████████████████| 26/26 [00:01<00:00, 21.70it/s]\n"
     ]
    },
    {
     "name": "stdout",
     "output_type": "stream",
     "text": [
      "********验证阶段**********\n",
      "Epoch [161/200], Validation Loss: 0.0988\n",
      "Validation Accuracy: 0.9236\n",
      "Validation Precision: 0.9682\n",
      "Validation Recall: 0.9770\n",
      "Nar: 0.0372\n"
     ]
    },
    {
     "name": "stderr",
     "output_type": "stream",
     "text": [
      "Training process: 100%|██████████████████████████████████████████████████████████████| 206/206 [00:29<00:00,  7.09it/s]\n"
     ]
    },
    {
     "name": "stdout",
     "output_type": "stream",
     "text": [
      "********训练阶段**********\n",
      "Epoch [162/200], Train Loss: 0.0516\n"
     ]
    },
    {
     "name": "stderr",
     "output_type": "stream",
     "text": [
      "Validation process: 100%|██████████████████████████████████████████████████████████████| 26/26 [00:00<00:00, 26.13it/s]\n"
     ]
    },
    {
     "name": "stdout",
     "output_type": "stream",
     "text": [
      "********验证阶段**********\n",
      "Epoch [162/200], Validation Loss: 0.0817\n",
      "Validation Accuracy: 0.9298\n",
      "Validation Precision: 0.9697\n",
      "Validation Recall: 0.9778\n",
      "Nar: 0.0354\n"
     ]
    },
    {
     "name": "stderr",
     "output_type": "stream",
     "text": [
      "Training process: 100%|██████████████████████████████████████████████████████████████| 206/206 [00:30<00:00,  6.76it/s]\n"
     ]
    },
    {
     "name": "stdout",
     "output_type": "stream",
     "text": [
      "********训练阶段**********\n",
      "Epoch [163/200], Train Loss: 0.0550\n"
     ]
    },
    {
     "name": "stderr",
     "output_type": "stream",
     "text": [
      "Validation process: 100%|██████████████████████████████████████████████████████████████| 26/26 [00:01<00:00, 23.97it/s]\n"
     ]
    },
    {
     "name": "stdout",
     "output_type": "stream",
     "text": [
      "********验证阶段**********\n",
      "Epoch [163/200], Validation Loss: 0.1280\n",
      "Validation Accuracy: 0.9089\n",
      "Validation Precision: 0.9628\n",
      "Validation Recall: 0.9694\n",
      "Nar: 0.0434\n"
     ]
    },
    {
     "name": "stderr",
     "output_type": "stream",
     "text": [
      "Training process: 100%|██████████████████████████████████████████████████████████████| 206/206 [00:28<00:00,  7.13it/s]\n"
     ]
    },
    {
     "name": "stdout",
     "output_type": "stream",
     "text": [
      "********训练阶段**********\n",
      "Epoch [164/200], Train Loss: 0.0550\n"
     ]
    },
    {
     "name": "stderr",
     "output_type": "stream",
     "text": [
      "Validation process: 100%|██████████████████████████████████████████████████████████████| 26/26 [00:01<00:00, 23.26it/s]\n"
     ]
    },
    {
     "name": "stdout",
     "output_type": "stream",
     "text": [
      "********验证阶段**********\n",
      "Epoch [164/200], Validation Loss: 0.1113\n",
      "Validation Accuracy: 0.9163\n",
      "Validation Precision: 0.9722\n",
      "Validation Recall: 0.9648\n",
      "Nar: 0.0319\n"
     ]
    },
    {
     "name": "stderr",
     "output_type": "stream",
     "text": [
      "Training process: 100%|██████████████████████████████████████████████████████████████| 206/206 [00:29<00:00,  7.06it/s]\n"
     ]
    },
    {
     "name": "stdout",
     "output_type": "stream",
     "text": [
      "********训练阶段**********\n",
      "Epoch [165/200], Train Loss: 0.0501\n"
     ]
    },
    {
     "name": "stderr",
     "output_type": "stream",
     "text": [
      "Validation process: 100%|██████████████████████████████████████████████████████████████| 26/26 [00:01<00:00, 21.59it/s]\n"
     ]
    },
    {
     "name": "stdout",
     "output_type": "stream",
     "text": [
      "********验证阶段**********\n",
      "Epoch [165/200], Validation Loss: 0.0934\n",
      "Validation Accuracy: 0.9249\n",
      "Validation Precision: 0.9739\n",
      "Validation Recall: 0.9725\n",
      "Nar: 0.0301\n"
     ]
    },
    {
     "name": "stderr",
     "output_type": "stream",
     "text": [
      "Training process: 100%|██████████████████████████████████████████████████████████████| 206/206 [00:29<00:00,  7.07it/s]\n"
     ]
    },
    {
     "name": "stdout",
     "output_type": "stream",
     "text": [
      "********训练阶段**********\n",
      "Epoch [166/200], Train Loss: 0.0549\n"
     ]
    },
    {
     "name": "stderr",
     "output_type": "stream",
     "text": [
      "Validation process: 100%|██████████████████████████████████████████████████████████████| 26/26 [00:00<00:00, 26.63it/s]\n"
     ]
    },
    {
     "name": "stdout",
     "output_type": "stream",
     "text": [
      "********验证阶段**********\n",
      "Epoch [166/200], Validation Loss: 0.0967\n",
      "Validation Accuracy: 0.9187\n",
      "Validation Precision: 0.9660\n",
      "Validation Recall: 0.9770\n",
      "Nar: 0.0399\n"
     ]
    },
    {
     "name": "stderr",
     "output_type": "stream",
     "text": [
      "Training process: 100%|██████████████████████████████████████████████████████████████| 206/206 [00:29<00:00,  6.97it/s]\n"
     ]
    },
    {
     "name": "stdout",
     "output_type": "stream",
     "text": [
      "********训练阶段**********\n",
      "Epoch [167/200], Train Loss: 0.0480\n"
     ]
    },
    {
     "name": "stderr",
     "output_type": "stream",
     "text": [
      "Validation process: 100%|██████████████████████████████████████████████████████████████| 26/26 [00:01<00:00, 24.66it/s]\n"
     ]
    },
    {
     "name": "stdout",
     "output_type": "stream",
     "text": [
      "********验证阶段**********\n",
      "Epoch [167/200], Validation Loss: 0.0878\n",
      "Validation Accuracy: 0.9261\n",
      "Validation Precision: 0.9754\n",
      "Validation Recall: 0.9709\n",
      "Nar: 0.0283\n"
     ]
    },
    {
     "name": "stderr",
     "output_type": "stream",
     "text": [
      "Training process: 100%|██████████████████████████████████████████████████████████████| 206/206 [00:29<00:00,  6.90it/s]\n"
     ]
    },
    {
     "name": "stdout",
     "output_type": "stream",
     "text": [
      "********训练阶段**********\n",
      "Epoch [168/200], Train Loss: 0.0554\n"
     ]
    },
    {
     "name": "stderr",
     "output_type": "stream",
     "text": [
      "Validation process: 100%|██████████████████████████████████████████████████████████████| 26/26 [00:01<00:00, 24.34it/s]\n"
     ]
    },
    {
     "name": "stdout",
     "output_type": "stream",
     "text": [
      "********验证阶段**********\n",
      "Epoch [168/200], Validation Loss: 0.1151\n",
      "Validation Accuracy: 0.9224\n",
      "Validation Precision: 0.9681\n",
      "Validation Recall: 0.9740\n",
      "Nar: 0.0372\n"
     ]
    },
    {
     "name": "stderr",
     "output_type": "stream",
     "text": [
      "Training process: 100%|██████████████████████████████████████████████████████████████| 206/206 [00:28<00:00,  7.14it/s]\n"
     ]
    },
    {
     "name": "stdout",
     "output_type": "stream",
     "text": [
      "********训练阶段**********\n",
      "Epoch [169/200], Train Loss: 0.0563\n"
     ]
    },
    {
     "name": "stderr",
     "output_type": "stream",
     "text": [
      "Validation process: 100%|██████████████████████████████████████████████████████████████| 26/26 [00:01<00:00, 21.77it/s]\n"
     ]
    },
    {
     "name": "stdout",
     "output_type": "stream",
     "text": [
      "********验证阶段**********\n",
      "Epoch [169/200], Validation Loss: 0.1114\n",
      "Validation Accuracy: 0.9212\n",
      "Validation Precision: 0.9753\n",
      "Validation Recall: 0.9671\n",
      "Nar: 0.0283\n"
     ]
    },
    {
     "name": "stderr",
     "output_type": "stream",
     "text": [
      "Training process: 100%|██████████████████████████████████████████████████████████████| 206/206 [00:29<00:00,  6.93it/s]\n"
     ]
    },
    {
     "name": "stdout",
     "output_type": "stream",
     "text": [
      "********训练阶段**********\n",
      "Epoch [170/200], Train Loss: 0.0457\n"
     ]
    },
    {
     "name": "stderr",
     "output_type": "stream",
     "text": [
      "Validation process: 100%|██████████████████████████████████████████████████████████████| 26/26 [00:01<00:00, 23.50it/s]\n"
     ]
    },
    {
     "name": "stdout",
     "output_type": "stream",
     "text": [
      "********验证阶段**********\n",
      "Epoch [170/200], Validation Loss: 0.1153\n",
      "Validation Accuracy: 0.9015\n",
      "Validation Precision: 0.9621\n",
      "Validation Recall: 0.9702\n",
      "Nar: 0.0443\n"
     ]
    },
    {
     "name": "stderr",
     "output_type": "stream",
     "text": [
      "Training process: 100%|██████████████████████████████████████████████████████████████| 206/206 [00:29<00:00,  7.00it/s]\n"
     ]
    },
    {
     "name": "stdout",
     "output_type": "stream",
     "text": [
      "********训练阶段**********\n",
      "Epoch [171/200], Train Loss: 0.0517\n"
     ]
    },
    {
     "name": "stderr",
     "output_type": "stream",
     "text": [
      "Validation process: 100%|██████████████████████████████████████████████████████████████| 26/26 [00:01<00:00, 22.21it/s]\n"
     ]
    },
    {
     "name": "stdout",
     "output_type": "stream",
     "text": [
      "********验证阶段**********\n",
      "Epoch [171/200], Validation Loss: 0.0984\n",
      "Validation Accuracy: 0.9187\n",
      "Validation Precision: 0.9710\n",
      "Validation Recall: 0.9732\n",
      "Nar: 0.0337\n"
     ]
    },
    {
     "name": "stderr",
     "output_type": "stream",
     "text": [
      "Training process: 100%|██████████████████████████████████████████████████████████████| 206/206 [00:28<00:00,  7.17it/s]\n"
     ]
    },
    {
     "name": "stdout",
     "output_type": "stream",
     "text": [
      "********训练阶段**********\n",
      "Epoch [172/200], Train Loss: 0.0523\n"
     ]
    },
    {
     "name": "stderr",
     "output_type": "stream",
     "text": [
      "Validation process: 100%|██████████████████████████████████████████████████████████████| 26/26 [00:01<00:00, 21.87it/s]\n"
     ]
    },
    {
     "name": "stdout",
     "output_type": "stream",
     "text": [
      "********验证阶段**********\n",
      "Epoch [172/200], Validation Loss: 0.1026\n",
      "Validation Accuracy: 0.9064\n",
      "Validation Precision: 0.9615\n",
      "Validation Recall: 0.9732\n",
      "Nar: 0.0452\n"
     ]
    },
    {
     "name": "stderr",
     "output_type": "stream",
     "text": [
      "Training process: 100%|██████████████████████████████████████████████████████████████| 206/206 [00:28<00:00,  7.21it/s]\n"
     ]
    },
    {
     "name": "stdout",
     "output_type": "stream",
     "text": [
      "********训练阶段**********\n",
      "Epoch [173/200], Train Loss: 0.0530\n"
     ]
    },
    {
     "name": "stderr",
     "output_type": "stream",
     "text": [
      "Validation process: 100%|██████████████████████████████████████████████████████████████| 26/26 [00:01<00:00, 23.92it/s]\n"
     ]
    },
    {
     "name": "stdout",
     "output_type": "stream",
     "text": [
      "********验证阶段**********\n",
      "Epoch [173/200], Validation Loss: 0.0991\n",
      "Validation Accuracy: 0.9200\n",
      "Validation Precision: 0.9645\n",
      "Validation Recall: 0.9770\n",
      "Nar: 0.0416\n",
      "Epoch 00173: reducing learning rate of group 0 to 2.5000e-05.\n"
     ]
    },
    {
     "name": "stderr",
     "output_type": "stream",
     "text": [
      "Training process: 100%|██████████████████████████████████████████████████████████████| 206/206 [00:30<00:00,  6.82it/s]\n"
     ]
    },
    {
     "name": "stdout",
     "output_type": "stream",
     "text": [
      "********训练阶段**********\n",
      "Epoch [174/200], Train Loss: 0.0365\n"
     ]
    },
    {
     "name": "stderr",
     "output_type": "stream",
     "text": [
      "Validation process: 100%|██████████████████████████████████████████████████████████████| 26/26 [00:00<00:00, 27.52it/s]\n"
     ]
    },
    {
     "name": "stdout",
     "output_type": "stream",
     "text": [
      "********验证阶段**********\n",
      "Epoch [174/200], Validation Loss: 0.0883\n",
      "Validation Accuracy: 0.9323\n",
      "Validation Precision: 0.9733\n",
      "Validation Recall: 0.9763\n",
      "Nar: 0.0310\n"
     ]
    },
    {
     "name": "stderr",
     "output_type": "stream",
     "text": [
      "Training process: 100%|██████████████████████████████████████████████████████████████| 206/206 [00:28<00:00,  7.21it/s]\n"
     ]
    },
    {
     "name": "stdout",
     "output_type": "stream",
     "text": [
      "********训练阶段**********\n",
      "Epoch [175/200], Train Loss: 0.0336\n"
     ]
    },
    {
     "name": "stderr",
     "output_type": "stream",
     "text": [
      "Validation process: 100%|██████████████████████████████████████████████████████████████| 26/26 [00:01<00:00, 25.66it/s]\n"
     ]
    },
    {
     "name": "stdout",
     "output_type": "stream",
     "text": [
      "********验证阶段**********\n",
      "Epoch [175/200], Validation Loss: 0.0853\n",
      "Validation Accuracy: 0.9323\n",
      "Validation Precision: 0.9770\n",
      "Validation Recall: 0.9732\n",
      "Nar: 0.0266\n"
     ]
    },
    {
     "name": "stderr",
     "output_type": "stream",
     "text": [
      "Training process: 100%|██████████████████████████████████████████████████████████████| 206/206 [00:28<00:00,  7.25it/s]\n"
     ]
    },
    {
     "name": "stdout",
     "output_type": "stream",
     "text": [
      "********训练阶段**********\n",
      "Epoch [176/200], Train Loss: 0.0349\n"
     ]
    },
    {
     "name": "stderr",
     "output_type": "stream",
     "text": [
      "Validation process: 100%|██████████████████████████████████████████████████████████████| 26/26 [00:01<00:00, 23.73it/s]\n"
     ]
    },
    {
     "name": "stdout",
     "output_type": "stream",
     "text": [
      "********验证阶段**********\n",
      "Epoch [176/200], Validation Loss: 0.0832\n",
      "Validation Accuracy: 0.9298\n",
      "Validation Precision: 0.9704\n",
      "Validation Recall: 0.9793\n",
      "Nar: 0.0345\n"
     ]
    },
    {
     "name": "stderr",
     "output_type": "stream",
     "text": [
      "Training process: 100%|██████████████████████████████████████████████████████████████| 206/206 [00:28<00:00,  7.21it/s]\n"
     ]
    },
    {
     "name": "stdout",
     "output_type": "stream",
     "text": [
      "********训练阶段**********\n",
      "Epoch [177/200], Train Loss: 0.0379\n"
     ]
    },
    {
     "name": "stderr",
     "output_type": "stream",
     "text": [
      "Validation process: 100%|██████████████████████████████████████████████████████████████| 26/26 [00:01<00:00, 24.72it/s]\n"
     ]
    },
    {
     "name": "stdout",
     "output_type": "stream",
     "text": [
      "********验证阶段**********\n",
      "Epoch [177/200], Validation Loss: 0.0864\n",
      "Validation Accuracy: 0.9347\n",
      "Validation Precision: 0.9756\n",
      "Validation Recall: 0.9770\n",
      "Nar: 0.0283\n"
     ]
    },
    {
     "name": "stderr",
     "output_type": "stream",
     "text": [
      "Training process: 100%|██████████████████████████████████████████████████████████████| 206/206 [00:29<00:00,  7.07it/s]\n"
     ]
    },
    {
     "name": "stdout",
     "output_type": "stream",
     "text": [
      "********训练阶段**********\n",
      "Epoch [178/200], Train Loss: 0.0334\n"
     ]
    },
    {
     "name": "stderr",
     "output_type": "stream",
     "text": [
      "Validation process: 100%|██████████████████████████████████████████████████████████████| 26/26 [00:01<00:00, 24.03it/s]\n"
     ]
    },
    {
     "name": "stdout",
     "output_type": "stream",
     "text": [
      "********验证阶段**********\n",
      "Epoch [178/200], Validation Loss: 0.0891\n",
      "Validation Accuracy: 0.9433\n",
      "Validation Precision: 0.9793\n",
      "Validation Recall: 0.9778\n",
      "Nar: 0.0239\n"
     ]
    },
    {
     "name": "stderr",
     "output_type": "stream",
     "text": [
      "Training process: 100%|██████████████████████████████████████████████████████████████| 206/206 [00:28<00:00,  7.12it/s]\n"
     ]
    },
    {
     "name": "stdout",
     "output_type": "stream",
     "text": [
      "********训练阶段**********\n",
      "Epoch [179/200], Train Loss: 0.0320\n"
     ]
    },
    {
     "name": "stderr",
     "output_type": "stream",
     "text": [
      "Validation process: 100%|██████████████████████████████████████████████████████████████| 26/26 [00:01<00:00, 20.03it/s]\n"
     ]
    },
    {
     "name": "stdout",
     "output_type": "stream",
     "text": [
      "********验证阶段**********\n",
      "Epoch [179/200], Validation Loss: 0.0860\n",
      "Validation Accuracy: 0.9347\n",
      "Validation Precision: 0.9785\n",
      "Validation Recall: 0.9732\n",
      "Nar: 0.0248\n"
     ]
    },
    {
     "name": "stderr",
     "output_type": "stream",
     "text": [
      "Training process: 100%|██████████████████████████████████████████████████████████████| 206/206 [00:30<00:00,  6.87it/s]\n"
     ]
    },
    {
     "name": "stdout",
     "output_type": "stream",
     "text": [
      "********训练阶段**********\n",
      "Epoch [180/200], Train Loss: 0.0348\n"
     ]
    },
    {
     "name": "stderr",
     "output_type": "stream",
     "text": [
      "Validation process: 100%|██████████████████████████████████████████████████████████████| 26/26 [00:01<00:00, 20.98it/s]\n"
     ]
    },
    {
     "name": "stdout",
     "output_type": "stream",
     "text": [
      "********验证阶段**********\n",
      "Epoch [180/200], Validation Loss: 0.0964\n",
      "Validation Accuracy: 0.9273\n",
      "Validation Precision: 0.9682\n",
      "Validation Recall: 0.9786\n",
      "Nar: 0.0372\n"
     ]
    },
    {
     "name": "stderr",
     "output_type": "stream",
     "text": [
      "Training process: 100%|██████████████████████████████████████████████████████████████| 206/206 [00:29<00:00,  6.96it/s]\n"
     ]
    },
    {
     "name": "stdout",
     "output_type": "stream",
     "text": [
      "********训练阶段**********\n",
      "Epoch [181/200], Train Loss: 0.0310\n"
     ]
    },
    {
     "name": "stderr",
     "output_type": "stream",
     "text": [
      "Validation process: 100%|██████████████████████████████████████████████████████████████| 26/26 [00:01<00:00, 25.16it/s]\n"
     ]
    },
    {
     "name": "stdout",
     "output_type": "stream",
     "text": [
      "********验证阶段**********\n",
      "Epoch [181/200], Validation Loss: 0.0864\n",
      "Validation Accuracy: 0.9397\n",
      "Validation Precision: 0.9786\n",
      "Validation Recall: 0.9778\n",
      "Nar: 0.0248\n"
     ]
    },
    {
     "name": "stderr",
     "output_type": "stream",
     "text": [
      "Training process: 100%|██████████████████████████████████████████████████████████████| 206/206 [00:29<00:00,  7.06it/s]\n"
     ]
    },
    {
     "name": "stdout",
     "output_type": "stream",
     "text": [
      "********训练阶段**********\n",
      "Epoch [182/200], Train Loss: 0.0299\n"
     ]
    },
    {
     "name": "stderr",
     "output_type": "stream",
     "text": [
      "Validation process: 100%|██████████████████████████████████████████████████████████████| 26/26 [00:00<00:00, 26.32it/s]\n"
     ]
    },
    {
     "name": "stdout",
     "output_type": "stream",
     "text": [
      "********验证阶段**********\n",
      "Epoch [182/200], Validation Loss: 0.0859\n",
      "Validation Accuracy: 0.9360\n",
      "Validation Precision: 0.9770\n",
      "Validation Recall: 0.9763\n",
      "Nar: 0.0266\n"
     ]
    },
    {
     "name": "stderr",
     "output_type": "stream",
     "text": [
      "Training process: 100%|██████████████████████████████████████████████████████████████| 206/206 [00:28<00:00,  7.22it/s]\n"
     ]
    },
    {
     "name": "stdout",
     "output_type": "stream",
     "text": [
      "********训练阶段**********\n",
      "Epoch [183/200], Train Loss: 0.0361\n"
     ]
    },
    {
     "name": "stderr",
     "output_type": "stream",
     "text": [
      "Validation process: 100%|██████████████████████████████████████████████████████████████| 26/26 [00:01<00:00, 20.99it/s]\n"
     ]
    },
    {
     "name": "stdout",
     "output_type": "stream",
     "text": [
      "********验证阶段**********\n",
      "Epoch [183/200], Validation Loss: 0.0799\n",
      "Validation Accuracy: 0.9384\n",
      "Validation Precision: 0.9749\n",
      "Validation Recall: 0.9816\n",
      "Nar: 0.0292\n"
     ]
    },
    {
     "name": "stderr",
     "output_type": "stream",
     "text": [
      "Training process: 100%|██████████████████████████████████████████████████████████████| 206/206 [00:28<00:00,  7.25it/s]\n"
     ]
    },
    {
     "name": "stdout",
     "output_type": "stream",
     "text": [
      "********训练阶段**********\n",
      "Epoch [184/200], Train Loss: 0.0344\n"
     ]
    },
    {
     "name": "stderr",
     "output_type": "stream",
     "text": [
      "Validation process: 100%|██████████████████████████████████████████████████████████████| 26/26 [00:01<00:00, 21.71it/s]\n"
     ]
    },
    {
     "name": "stdout",
     "output_type": "stream",
     "text": [
      "********验证阶段**********\n",
      "Epoch [184/200], Validation Loss: 0.0814\n",
      "Validation Accuracy: 0.9409\n",
      "Validation Precision: 0.9778\n",
      "Validation Recall: 0.9793\n",
      "Nar: 0.0257\n"
     ]
    },
    {
     "name": "stderr",
     "output_type": "stream",
     "text": [
      "Training process: 100%|██████████████████████████████████████████████████████████████| 206/206 [00:29<00:00,  7.05it/s]\n"
     ]
    },
    {
     "name": "stdout",
     "output_type": "stream",
     "text": [
      "********训练阶段**********\n",
      "Epoch [185/200], Train Loss: 0.0353\n"
     ]
    },
    {
     "name": "stderr",
     "output_type": "stream",
     "text": [
      "Validation process: 100%|██████████████████████████████████████████████████████████████| 26/26 [00:01<00:00, 20.76it/s]\n"
     ]
    },
    {
     "name": "stdout",
     "output_type": "stream",
     "text": [
      "********验证阶段**********\n",
      "Epoch [185/200], Validation Loss: 0.0887\n",
      "Validation Accuracy: 0.9347\n",
      "Validation Precision: 0.9748\n",
      "Validation Recall: 0.9763\n",
      "Nar: 0.0292\n"
     ]
    },
    {
     "name": "stderr",
     "output_type": "stream",
     "text": [
      "Training process: 100%|██████████████████████████████████████████████████████████████| 206/206 [00:29<00:00,  6.92it/s]\n"
     ]
    },
    {
     "name": "stdout",
     "output_type": "stream",
     "text": [
      "********训练阶段**********\n",
      "Epoch [186/200], Train Loss: 0.0305\n"
     ]
    },
    {
     "name": "stderr",
     "output_type": "stream",
     "text": [
      "Validation process: 100%|██████████████████████████████████████████████████████████████| 26/26 [00:01<00:00, 24.27it/s]\n"
     ]
    },
    {
     "name": "stdout",
     "output_type": "stream",
     "text": [
      "********验证阶段**********\n",
      "Epoch [186/200], Validation Loss: 0.0943\n",
      "Validation Accuracy: 0.9323\n",
      "Validation Precision: 0.9770\n",
      "Validation Recall: 0.9748\n",
      "Nar: 0.0266\n"
     ]
    },
    {
     "name": "stderr",
     "output_type": "stream",
     "text": [
      "Training process: 100%|██████████████████████████████████████████████████████████████| 206/206 [00:29<00:00,  7.08it/s]\n"
     ]
    },
    {
     "name": "stdout",
     "output_type": "stream",
     "text": [
      "********训练阶段**********\n",
      "Epoch [187/200], Train Loss: 0.0324\n"
     ]
    },
    {
     "name": "stderr",
     "output_type": "stream",
     "text": [
      "Validation process: 100%|██████████████████████████████████████████████████████████████| 26/26 [00:01<00:00, 19.63it/s]\n"
     ]
    },
    {
     "name": "stdout",
     "output_type": "stream",
     "text": [
      "********验证阶段**********\n",
      "Epoch [187/200], Validation Loss: 0.0831\n",
      "Validation Accuracy: 0.9323\n",
      "Validation Precision: 0.9705\n",
      "Validation Recall: 0.9824\n",
      "Nar: 0.0345\n"
     ]
    },
    {
     "name": "stderr",
     "output_type": "stream",
     "text": [
      "Training process: 100%|██████████████████████████████████████████████████████████████| 206/206 [00:28<00:00,  7.20it/s]\n"
     ]
    },
    {
     "name": "stdout",
     "output_type": "stream",
     "text": [
      "********训练阶段**********\n",
      "Epoch [188/200], Train Loss: 0.0326\n"
     ]
    },
    {
     "name": "stderr",
     "output_type": "stream",
     "text": [
      "Validation process: 100%|██████████████████████████████████████████████████████████████| 26/26 [00:01<00:00, 23.59it/s]\n"
     ]
    },
    {
     "name": "stdout",
     "output_type": "stream",
     "text": [
      "********验证阶段**********\n",
      "Epoch [188/200], Validation Loss: 0.0980\n",
      "Validation Accuracy: 0.9187\n",
      "Validation Precision: 0.9731\n",
      "Validation Recall: 0.9694\n",
      "Nar: 0.0310\n"
     ]
    },
    {
     "name": "stderr",
     "output_type": "stream",
     "text": [
      "Training process: 100%|██████████████████████████████████████████████████████████████| 206/206 [00:29<00:00,  6.94it/s]\n"
     ]
    },
    {
     "name": "stdout",
     "output_type": "stream",
     "text": [
      "********训练阶段**********\n",
      "Epoch [189/200], Train Loss: 0.0334\n"
     ]
    },
    {
     "name": "stderr",
     "output_type": "stream",
     "text": [
      "Validation process: 100%|██████████████████████████████████████████████████████████████| 26/26 [00:01<00:00, 21.50it/s]\n"
     ]
    },
    {
     "name": "stdout",
     "output_type": "stream",
     "text": [
      "********验证阶段**********\n",
      "Epoch [189/200], Validation Loss: 0.0841\n",
      "Validation Accuracy: 0.9384\n",
      "Validation Precision: 0.9763\n",
      "Validation Recall: 0.9786\n",
      "Nar: 0.0275\n",
      "Epoch 00189: reducing learning rate of group 0 to 1.2500e-05.\n"
     ]
    },
    {
     "name": "stderr",
     "output_type": "stream",
     "text": [
      "Training process: 100%|██████████████████████████████████████████████████████████████| 206/206 [00:30<00:00,  6.83it/s]\n"
     ]
    },
    {
     "name": "stdout",
     "output_type": "stream",
     "text": [
      "********训练阶段**********\n",
      "Epoch [190/200], Train Loss: 0.0242\n"
     ]
    },
    {
     "name": "stderr",
     "output_type": "stream",
     "text": [
      "Validation process: 100%|██████████████████████████████████████████████████████████████| 26/26 [00:01<00:00, 23.26it/s]\n"
     ]
    },
    {
     "name": "stdout",
     "output_type": "stream",
     "text": [
      "********验证阶段**********\n",
      "Epoch [190/200], Validation Loss: 0.0741\n",
      "Validation Accuracy: 0.9384\n",
      "Validation Precision: 0.9756\n",
      "Validation Recall: 0.9809\n",
      "Nar: 0.0283\n"
     ]
    },
    {
     "name": "stderr",
     "output_type": "stream",
     "text": [
      "Training process: 100%|██████████████████████████████████████████████████████████████| 206/206 [00:29<00:00,  7.01it/s]\n"
     ]
    },
    {
     "name": "stdout",
     "output_type": "stream",
     "text": [
      "********训练阶段**********\n",
      "Epoch [191/200], Train Loss: 0.0249\n"
     ]
    },
    {
     "name": "stderr",
     "output_type": "stream",
     "text": [
      "Validation process: 100%|██████████████████████████████████████████████████████████████| 26/26 [00:01<00:00, 21.55it/s]\n"
     ]
    },
    {
     "name": "stdout",
     "output_type": "stream",
     "text": [
      "********验证阶段**********\n",
      "Epoch [191/200], Validation Loss: 0.0801\n",
      "Validation Accuracy: 0.9347\n",
      "Validation Precision: 0.9748\n",
      "Validation Recall: 0.9778\n",
      "Nar: 0.0292\n"
     ]
    },
    {
     "name": "stderr",
     "output_type": "stream",
     "text": [
      "Training process: 100%|██████████████████████████████████████████████████████████████| 206/206 [00:28<00:00,  7.31it/s]\n"
     ]
    },
    {
     "name": "stdout",
     "output_type": "stream",
     "text": [
      "********训练阶段**********\n",
      "Epoch [192/200], Train Loss: 0.0227\n"
     ]
    },
    {
     "name": "stderr",
     "output_type": "stream",
     "text": [
      "Validation process: 100%|██████████████████████████████████████████████████████████████| 26/26 [00:01<00:00, 20.08it/s]\n"
     ]
    },
    {
     "name": "stdout",
     "output_type": "stream",
     "text": [
      "********验证阶段**********\n",
      "Epoch [192/200], Validation Loss: 0.0900\n",
      "Validation Accuracy: 0.9310\n",
      "Validation Precision: 0.9719\n",
      "Validation Recall: 0.9778\n",
      "Nar: 0.0328\n"
     ]
    },
    {
     "name": "stderr",
     "output_type": "stream",
     "text": [
      "Training process: 100%|██████████████████████████████████████████████████████████████| 206/206 [00:29<00:00,  7.02it/s]\n"
     ]
    },
    {
     "name": "stdout",
     "output_type": "stream",
     "text": [
      "********训练阶段**********\n",
      "Epoch [193/200], Train Loss: 0.0232\n"
     ]
    },
    {
     "name": "stderr",
     "output_type": "stream",
     "text": [
      "Validation process: 100%|██████████████████████████████████████████████████████████████| 26/26 [00:01<00:00, 20.90it/s]\n"
     ]
    },
    {
     "name": "stdout",
     "output_type": "stream",
     "text": [
      "********验证阶段**********\n",
      "Epoch [193/200], Validation Loss: 0.0834\n",
      "Validation Accuracy: 0.9384\n",
      "Validation Precision: 0.9800\n",
      "Validation Recall: 0.9770\n",
      "Nar: 0.0230\n"
     ]
    },
    {
     "name": "stderr",
     "output_type": "stream",
     "text": [
      "Training process: 100%|██████████████████████████████████████████████████████████████| 206/206 [00:29<00:00,  7.04it/s]\n"
     ]
    },
    {
     "name": "stdout",
     "output_type": "stream",
     "text": [
      "********训练阶段**********\n",
      "Epoch [194/200], Train Loss: 0.0254\n"
     ]
    },
    {
     "name": "stderr",
     "output_type": "stream",
     "text": [
      "Validation process: 100%|██████████████████████████████████████████████████████████████| 26/26 [00:01<00:00, 22.91it/s]\n"
     ]
    },
    {
     "name": "stdout",
     "output_type": "stream",
     "text": [
      "********验证阶段**********\n",
      "Epoch [194/200], Validation Loss: 0.0877\n",
      "Validation Accuracy: 0.9421\n",
      "Validation Precision: 0.9816\n",
      "Validation Recall: 0.9778\n",
      "Nar: 0.0213\n"
     ]
    },
    {
     "name": "stderr",
     "output_type": "stream",
     "text": [
      "Training process: 100%|██████████████████████████████████████████████████████████████| 206/206 [00:28<00:00,  7.32it/s]\n"
     ]
    },
    {
     "name": "stdout",
     "output_type": "stream",
     "text": [
      "********训练阶段**********\n",
      "Epoch [195/200], Train Loss: 0.0250\n"
     ]
    },
    {
     "name": "stderr",
     "output_type": "stream",
     "text": [
      "Validation process: 100%|██████████████████████████████████████████████████████████████| 26/26 [00:01<00:00, 22.36it/s]\n"
     ]
    },
    {
     "name": "stdout",
     "output_type": "stream",
     "text": [
      "********验证阶段**********\n",
      "Epoch [195/200], Validation Loss: 0.0884\n",
      "Validation Accuracy: 0.9384\n",
      "Validation Precision: 0.9749\n",
      "Validation Recall: 0.9793\n",
      "Nar: 0.0292\n"
     ]
    },
    {
     "name": "stderr",
     "output_type": "stream",
     "text": [
      "Training process: 100%|██████████████████████████████████████████████████████████████| 206/206 [00:29<00:00,  7.00it/s]\n"
     ]
    },
    {
     "name": "stdout",
     "output_type": "stream",
     "text": [
      "********训练阶段**********\n",
      "Epoch [196/200], Train Loss: 0.0229\n"
     ]
    },
    {
     "name": "stderr",
     "output_type": "stream",
     "text": [
      "Validation process: 100%|██████████████████████████████████████████████████████████████| 26/26 [00:01<00:00, 23.13it/s]\n"
     ]
    },
    {
     "name": "stdout",
     "output_type": "stream",
     "text": [
      "********验证阶段**********\n",
      "Epoch [196/200], Validation Loss: 0.0902\n",
      "Validation Accuracy: 0.9397\n",
      "Validation Precision: 0.9771\n",
      "Validation Recall: 0.9778\n",
      "Nar: 0.0266\n"
     ]
    },
    {
     "name": "stderr",
     "output_type": "stream",
     "text": [
      "Training process: 100%|██████████████████████████████████████████████████████████████| 206/206 [00:30<00:00,  6.85it/s]\n"
     ]
    },
    {
     "name": "stdout",
     "output_type": "stream",
     "text": [
      "********训练阶段**********\n",
      "Epoch [197/200], Train Loss: 0.0249\n"
     ]
    },
    {
     "name": "stderr",
     "output_type": "stream",
     "text": [
      "Validation process: 100%|██████████████████████████████████████████████████████████████| 26/26 [00:01<00:00, 23.26it/s]\n"
     ]
    },
    {
     "name": "stdout",
     "output_type": "stream",
     "text": [
      "********验证阶段**********\n",
      "Epoch [197/200], Validation Loss: 0.0878\n",
      "Validation Accuracy: 0.9384\n",
      "Validation Precision: 0.9770\n",
      "Validation Recall: 0.9770\n",
      "Nar: 0.0266\n"
     ]
    },
    {
     "name": "stderr",
     "output_type": "stream",
     "text": [
      "Training process: 100%|██████████████████████████████████████████████████████████████| 206/206 [00:29<00:00,  7.00it/s]\n"
     ]
    },
    {
     "name": "stdout",
     "output_type": "stream",
     "text": [
      "********训练阶段**********\n",
      "Epoch [198/200], Train Loss: 0.0235\n"
     ]
    },
    {
     "name": "stderr",
     "output_type": "stream",
     "text": [
      "Validation process: 100%|██████████████████████████████████████████████████████████████| 26/26 [00:01<00:00, 21.95it/s]\n"
     ]
    },
    {
     "name": "stdout",
     "output_type": "stream",
     "text": [
      "********验证阶段**********\n",
      "Epoch [198/200], Validation Loss: 0.0870\n",
      "Validation Accuracy: 0.9409\n",
      "Validation Precision: 0.9764\n",
      "Validation Recall: 0.9816\n",
      "Nar: 0.0275\n"
     ]
    },
    {
     "name": "stderr",
     "output_type": "stream",
     "text": [
      "Training process: 100%|██████████████████████████████████████████████████████████████| 206/206 [00:28<00:00,  7.15it/s]\n"
     ]
    },
    {
     "name": "stdout",
     "output_type": "stream",
     "text": [
      "********训练阶段**********\n",
      "Epoch [199/200], Train Loss: 0.0250\n"
     ]
    },
    {
     "name": "stderr",
     "output_type": "stream",
     "text": [
      "Validation process: 100%|██████████████████████████████████████████████████████████████| 26/26 [00:00<00:00, 26.26it/s]\n"
     ]
    },
    {
     "name": "stdout",
     "output_type": "stream",
     "text": [
      "********验证阶段**********\n",
      "Epoch [199/200], Validation Loss: 0.0836\n",
      "Validation Accuracy: 0.9335\n",
      "Validation Precision: 0.9705\n",
      "Validation Recall: 0.9809\n",
      "Nar: 0.0345\n"
     ]
    },
    {
     "name": "stderr",
     "output_type": "stream",
     "text": [
      "Training process: 100%|██████████████████████████████████████████████████████████████| 206/206 [00:29<00:00,  6.88it/s]\n"
     ]
    },
    {
     "name": "stdout",
     "output_type": "stream",
     "text": [
      "********训练阶段**********\n",
      "Epoch [200/200], Train Loss: 0.0239\n"
     ]
    },
    {
     "name": "stderr",
     "output_type": "stream",
     "text": [
      "Validation process: 100%|██████████████████████████████████████████████████████████████| 26/26 [00:01<00:00, 21.57it/s]\n"
     ]
    },
    {
     "name": "stdout",
     "output_type": "stream",
     "text": [
      "********验证阶段**********\n",
      "Epoch [200/200], Validation Loss: 0.0809\n",
      "Validation Accuracy: 0.9397\n",
      "Validation Precision: 0.9771\n",
      "Validation Recall: 0.9809\n",
      "Nar: 0.0266\n",
      "Best model saved.\n",
      "********测试阶段**********\n",
      "Test Loss: 0.0809\n",
      "Accuracy: 0.9397\n",
      "Precision: 0.9771\n",
      "Recall: 0.9809\n",
      "Nar: 0.0266\n"
     ]
    },
    {
     "data": {
      "image/png": "[encoded data removed]",
      "text/plain": [
       "<Figure size 640x480 with 1 Axes>"
      ]
     },
     "metadata": {},
     "output_type": "display_data"
    },
    {
     "data": {
      "image/png": "[encoded data removed]",
      "text/plain": [
       "<Figure size 640x480 with 1 Axes>"
      ]
     },
     "metadata": {},
     "output_type": "display_data"
    }
   ],
   "source": [
    "csv_path = 'data/data1.csv'  # 数据集的CSV文件路径\n",
    "batch_size = 32 # 每个batch的样本数量\n",
    "num_epochs = 200  # 总的训练周期数\n",
    "input_dim = 1# 输入特征的维度，需根据实际数据进行调整\n",
    "window_size = 100\n",
    "stride = 100\n",
    "hidden_dim = 256\n",
    "nlayer=1\n",
    "num_classes = 3  # 多标签分类的标签数量\n",
    "\n",
    "\n",
    "# 检查是否有可用的GPU\n",
    "device = torch.device('cuda' if torch.cuda.is_available() else 'cpu')\n",
    "print(f\"Using device: {device}\")\n",
    "\n",
    "# 加载数据，得到训练集和测试集的DataLoader\n",
    "train_loader,val_loader, test_loader = load_data(csv_path, batch_size=batch_size, test_size=0.1, val_size=0.111111, device=device)\n",
    "\n",
    "# if test_in==0.001:\n",
    "#     # 加载测试数据\n",
    "#     _, test_loader = load_data(test_csv_path, batch_size=batch_size, test_size=0.99, device=device)\n",
    "#     print('读取外部csv文件作为测试集')\n",
    "\n",
    "# 定义Transformer编码器模型\n",
    "model = TransformerMultiLabel(input_dim=input_dim, embedding_dim=hidden_dim, window_size=window_size, stride=stride, \n",
    "                              num_heads=2, num_classes=num_classes,nlayer=nlayer, dropout=0.2).to(device)\n",
    "# 特征维度(样本大小)，每个特征的维度，transformer维度\n",
    "# model.load_state_dict(torch.load('./best_model/best_model-97.pth'))\n",
    "\n",
    "# 定义损失函数：二元交叉熵\n",
    "criterion = nn.BCELoss().to(device)\n",
    "# criterion = FocalLoss(alpha=2, gamma=2)\n",
    "\n",
    "# 定义优化器：Adam\n",
    "optimizer = optim.Adam(model.parameters(), lr=1e-4)\n",
    "\n",
    "# 学习率调度器，当验证损失不再下降时，降低学习率\n",
    "# mode： 'min’模式检测metric是否不再减小，'max’模式检测metric是否不再增大；\n",
    "# factor：触发条件后lr*=factor；\n",
    "# patience：当指标连续patience次没有改进时，降低学习率；\n",
    "# verbose：触发条件后print；\n",
    "scheduler = optim.lr_scheduler.ReduceLROnPlateau(optimizer, mode='max', factor=0.5, patience=15, verbose=True)\n",
    "\n",
    "# 训练模型，记录损失\n",
    "train_losses, val_losses,Accuracy, Precision, Recall, Nar= train_model(model,scheduler, train_loader, val_loader, criterion, optimizer, \n",
    "                                                                  num_epochs=num_epochs, lambda_mi =0.02, device=device)\n",
    "\n",
    "# 评估模型并绘制损失曲线z\n",
    "All_labels, All_preds = evaluate_model(model, val_loader, criterion, train_losses, val_losses,\n",
    "               Accuracy, Precision, Recall, lambda_mi = 0.02,device=device)\n",
    "\n",
    "\n"
   ]
  },
  {
   "cell_type": "code",
   "execution_count": null,
   "id": "a58c9805",
   "metadata": {},
   "outputs": [],
   "source": [
    "train_losses = pd.DataFrame(train_losses)\n",
    "val_losses = pd.DataFrame(val_losses)\n",
    "Accuracy = pd.DataFrame(Accuracy)\n",
    "Precision = pd.DataFrame(Precision)\n",
    "Recall = pd.DataFrame(Recall)\n",
    "temp = pd.concat((train_losses, val_losses,Accuracy, Precision, Recall), axis=1)\n",
    "temp.columns = ['train_losses', 'val_losses', 'Accuracy', 'Precision', 'Recall']\n",
    "temp.to_csv('FTIformer.csv', index=False)\n",
    "temp"
   ]
  }
 ],
 "metadata": {
  "kernelspec": {
   "display_name": "Python 3 (ipykernel)",
   "language": "python",
   "name": "python3"
  },
  "language_info": {
   "codemirror_mode": {
    "name": "ipython",
    "version": 3
   },
   "file_extension": ".py",
   "mimetype": "text/x-python",
   "name": "python",
   "nbconvert_exporter": "python",
   "pygments_lexer": "ipython3",
   "version": "3.9.13"
  }
 },
 "nbformat": 4,
 "nbformat_minor": 5
}
